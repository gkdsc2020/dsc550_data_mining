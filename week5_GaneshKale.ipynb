{
 "cells": [
  {
   "cell_type": "markdown",
   "id": "c532029f-9dc6-4d01-a596-1e72abfa4093",
   "metadata": {},
   "source": [
    "# Assignment - Exercise 5.2 Graph Analysis\n",
    "## Week#5\n",
    "## Date - July-10-2021\n",
    "## Author - Ganesh Kale"
   ]
  },
  {
   "cell_type": "markdown",
   "id": "6aafffdd-5d2e-49cb-a9e7-5cd18d4e7688",
   "metadata": {},
   "source": [
    "#### _import required packages_"
   ]
  },
  {
   "cell_type": "code",
   "execution_count": 1,
   "id": "8a1bce89-2278-4532-bbe6-ebb2ad17cc40",
   "metadata": {},
   "outputs": [],
   "source": [
    "import pandas as pd\n",
    "import numpy as np\n",
    "import string\n",
    "import re\n",
    "import matplotlib.pyplot as plt\n",
    "import seaborn as sns\n",
    "from collections import Counter\n",
    "\n",
    "%matplotlib inline\n",
    "\n",
    "from IPython.core.interactiveshell import InteractiveShell\n",
    "InteractiveShell.ast_node_interactivity = 'all'"
   ]
  },
  {
   "cell_type": "markdown",
   "id": "a78ac5cc-1f3c-4abb-a5c6-e2cd3d75f23c",
   "metadata": {},
   "source": [
    "#### _Load data into a dataframe_"
   ]
  },
  {
   "cell_type": "code",
   "execution_count": 2,
   "id": "b9457dca-2454-4199-8646-6e7b2cdf638d",
   "metadata": {},
   "outputs": [],
   "source": [
    "articles = pd.read_csv(\"data/articles1.csv\")"
   ]
  },
  {
   "cell_type": "markdown",
   "id": "e5b681e3-4bef-4030-b712-be5769e9c409",
   "metadata": {},
   "source": [
    "#### _display dimension of the data and top 5 records_"
   ]
  },
  {
   "cell_type": "code",
   "execution_count": 3,
   "id": "b98700f7-06f9-40cd-a159-402d892a2986",
   "metadata": {},
   "outputs": [
    {
     "data": {
      "text/plain": [
       "(50000, 10)"
      ]
     },
     "execution_count": 3,
     "metadata": {},
     "output_type": "execute_result"
    },
    {
     "data": {
      "text/html": [
       "<div>\n",
       "<style scoped>\n",
       "    .dataframe tbody tr th:only-of-type {\n",
       "        vertical-align: middle;\n",
       "    }\n",
       "\n",
       "    .dataframe tbody tr th {\n",
       "        vertical-align: top;\n",
       "    }\n",
       "\n",
       "    .dataframe thead th {\n",
       "        text-align: right;\n",
       "    }\n",
       "</style>\n",
       "<table border=\"1\" class=\"dataframe\">\n",
       "  <thead>\n",
       "    <tr style=\"text-align: right;\">\n",
       "      <th></th>\n",
       "      <th>Unnamed: 0</th>\n",
       "      <th>id</th>\n",
       "      <th>title</th>\n",
       "      <th>publication</th>\n",
       "      <th>author</th>\n",
       "      <th>date</th>\n",
       "      <th>year</th>\n",
       "      <th>month</th>\n",
       "      <th>url</th>\n",
       "      <th>content</th>\n",
       "    </tr>\n",
       "  </thead>\n",
       "  <tbody>\n",
       "    <tr>\n",
       "      <th>0</th>\n",
       "      <td>0</td>\n",
       "      <td>17283</td>\n",
       "      <td>House Republicans Fret About Winning Their Hea...</td>\n",
       "      <td>New York Times</td>\n",
       "      <td>Carl Hulse</td>\n",
       "      <td>2016-12-31</td>\n",
       "      <td>2016.0</td>\n",
       "      <td>12.0</td>\n",
       "      <td>NaN</td>\n",
       "      <td>WASHINGTON  —   Congressional Republicans have...</td>\n",
       "    </tr>\n",
       "    <tr>\n",
       "      <th>1</th>\n",
       "      <td>1</td>\n",
       "      <td>17284</td>\n",
       "      <td>Rift Between Officers and Residents as Killing...</td>\n",
       "      <td>New York Times</td>\n",
       "      <td>Benjamin Mueller and Al Baker</td>\n",
       "      <td>2017-06-19</td>\n",
       "      <td>2017.0</td>\n",
       "      <td>6.0</td>\n",
       "      <td>NaN</td>\n",
       "      <td>After the bullet shells get counted, the blood...</td>\n",
       "    </tr>\n",
       "    <tr>\n",
       "      <th>2</th>\n",
       "      <td>2</td>\n",
       "      <td>17285</td>\n",
       "      <td>Tyrus Wong, ‘Bambi’ Artist Thwarted by Racial ...</td>\n",
       "      <td>New York Times</td>\n",
       "      <td>Margalit Fox</td>\n",
       "      <td>2017-01-06</td>\n",
       "      <td>2017.0</td>\n",
       "      <td>1.0</td>\n",
       "      <td>NaN</td>\n",
       "      <td>When Walt Disney’s “Bambi” opened in 1942, cri...</td>\n",
       "    </tr>\n",
       "    <tr>\n",
       "      <th>3</th>\n",
       "      <td>3</td>\n",
       "      <td>17286</td>\n",
       "      <td>Among Deaths in 2016, a Heavy Toll in Pop Musi...</td>\n",
       "      <td>New York Times</td>\n",
       "      <td>William McDonald</td>\n",
       "      <td>2017-04-10</td>\n",
       "      <td>2017.0</td>\n",
       "      <td>4.0</td>\n",
       "      <td>NaN</td>\n",
       "      <td>Death may be the great equalizer, but it isn’t...</td>\n",
       "    </tr>\n",
       "    <tr>\n",
       "      <th>4</th>\n",
       "      <td>4</td>\n",
       "      <td>17287</td>\n",
       "      <td>Kim Jong-un Says North Korea Is Preparing to T...</td>\n",
       "      <td>New York Times</td>\n",
       "      <td>Choe Sang-Hun</td>\n",
       "      <td>2017-01-02</td>\n",
       "      <td>2017.0</td>\n",
       "      <td>1.0</td>\n",
       "      <td>NaN</td>\n",
       "      <td>SEOUL, South Korea  —   North Korea’s leader, ...</td>\n",
       "    </tr>\n",
       "  </tbody>\n",
       "</table>\n",
       "</div>"
      ],
      "text/plain": [
       "   Unnamed: 0     id                                              title  \\\n",
       "0           0  17283  House Republicans Fret About Winning Their Hea...   \n",
       "1           1  17284  Rift Between Officers and Residents as Killing...   \n",
       "2           2  17285  Tyrus Wong, ‘Bambi’ Artist Thwarted by Racial ...   \n",
       "3           3  17286  Among Deaths in 2016, a Heavy Toll in Pop Musi...   \n",
       "4           4  17287  Kim Jong-un Says North Korea Is Preparing to T...   \n",
       "\n",
       "      publication                         author        date    year  month  \\\n",
       "0  New York Times                     Carl Hulse  2016-12-31  2016.0   12.0   \n",
       "1  New York Times  Benjamin Mueller and Al Baker  2017-06-19  2017.0    6.0   \n",
       "2  New York Times                   Margalit Fox  2017-01-06  2017.0    1.0   \n",
       "3  New York Times               William McDonald  2017-04-10  2017.0    4.0   \n",
       "4  New York Times                  Choe Sang-Hun  2017-01-02  2017.0    1.0   \n",
       "\n",
       "   url                                            content  \n",
       "0  NaN  WASHINGTON  —   Congressional Republicans have...  \n",
       "1  NaN  After the bullet shells get counted, the blood...  \n",
       "2  NaN  When Walt Disney’s “Bambi” opened in 1942, cri...  \n",
       "3  NaN  Death may be the great equalizer, but it isn’t...  \n",
       "4  NaN  SEOUL, South Korea  —   North Korea’s leader, ...  "
      ]
     },
     "execution_count": 3,
     "metadata": {},
     "output_type": "execute_result"
    }
   ],
   "source": [
    "articles.shape\n",
    "articles.head()"
   ]
  },
  {
   "cell_type": "markdown",
   "id": "1d85a89c-0dea-4f19-97f2-9c1f70a47cdf",
   "metadata": {},
   "source": [
    "#### _diaplsy variable data types in the dataset_"
   ]
  },
  {
   "cell_type": "code",
   "execution_count": 4,
   "id": "172584e5-b980-4090-8cce-36d40039295b",
   "metadata": {},
   "outputs": [
    {
     "name": "stdout",
     "output_type": "stream",
     "text": [
      "<class 'pandas.core.frame.DataFrame'>\n",
      "RangeIndex: 50000 entries, 0 to 49999\n",
      "Data columns (total 10 columns):\n",
      " #   Column       Non-Null Count  Dtype  \n",
      "---  ------       --------------  -----  \n",
      " 0   Unnamed: 0   50000 non-null  int64  \n",
      " 1   id           50000 non-null  int64  \n",
      " 2   title        50000 non-null  object \n",
      " 3   publication  50000 non-null  object \n",
      " 4   author       43694 non-null  object \n",
      " 5   date         50000 non-null  object \n",
      " 6   year         50000 non-null  float64\n",
      " 7   month        50000 non-null  float64\n",
      " 8   url          0 non-null      float64\n",
      " 9   content      50000 non-null  object \n",
      "dtypes: float64(3), int64(2), object(5)\n",
      "memory usage: 3.8+ MB\n"
     ]
    }
   ],
   "source": [
    "articles.info()"
   ]
  },
  {
   "cell_type": "markdown",
   "id": "08e4a862-8d70-4c92-897e-8f0dbe05f06e",
   "metadata": {},
   "source": [
    "#### _describe data - numerical datatypes_"
   ]
  },
  {
   "cell_type": "code",
   "execution_count": 5,
   "id": "5dde14c8-c7a1-4116-9410-1f909efc81eb",
   "metadata": {},
   "outputs": [
    {
     "data": {
      "text/html": [
       "<div>\n",
       "<style scoped>\n",
       "    .dataframe tbody tr th:only-of-type {\n",
       "        vertical-align: middle;\n",
       "    }\n",
       "\n",
       "    .dataframe tbody tr th {\n",
       "        vertical-align: top;\n",
       "    }\n",
       "\n",
       "    .dataframe thead th {\n",
       "        text-align: right;\n",
       "    }\n",
       "</style>\n",
       "<table border=\"1\" class=\"dataframe\">\n",
       "  <thead>\n",
       "    <tr style=\"text-align: right;\">\n",
       "      <th></th>\n",
       "      <th>Unnamed: 0</th>\n",
       "      <th>id</th>\n",
       "      <th>year</th>\n",
       "      <th>month</th>\n",
       "      <th>url</th>\n",
       "    </tr>\n",
       "  </thead>\n",
       "  <tbody>\n",
       "    <tr>\n",
       "      <th>count</th>\n",
       "      <td>50000.000000</td>\n",
       "      <td>50000.000000</td>\n",
       "      <td>50000.000000</td>\n",
       "      <td>50000.000000</td>\n",
       "      <td>0.0</td>\n",
       "    </tr>\n",
       "    <tr>\n",
       "      <th>mean</th>\n",
       "      <td>25694.378380</td>\n",
       "      <td>44432.454800</td>\n",
       "      <td>2016.273700</td>\n",
       "      <td>5.508940</td>\n",
       "      <td>NaN</td>\n",
       "    </tr>\n",
       "    <tr>\n",
       "      <th>std</th>\n",
       "      <td>15350.143677</td>\n",
       "      <td>15773.615179</td>\n",
       "      <td>0.634694</td>\n",
       "      <td>3.333062</td>\n",
       "      <td>NaN</td>\n",
       "    </tr>\n",
       "    <tr>\n",
       "      <th>min</th>\n",
       "      <td>0.000000</td>\n",
       "      <td>17283.000000</td>\n",
       "      <td>2011.000000</td>\n",
       "      <td>1.000000</td>\n",
       "      <td>NaN</td>\n",
       "    </tr>\n",
       "    <tr>\n",
       "      <th>25%</th>\n",
       "      <td>12500.750000</td>\n",
       "      <td>31236.750000</td>\n",
       "      <td>2016.000000</td>\n",
       "      <td>3.000000</td>\n",
       "      <td>NaN</td>\n",
       "    </tr>\n",
       "    <tr>\n",
       "      <th>50%</th>\n",
       "      <td>25004.500000</td>\n",
       "      <td>43757.500000</td>\n",
       "      <td>2016.000000</td>\n",
       "      <td>5.000000</td>\n",
       "      <td>NaN</td>\n",
       "    </tr>\n",
       "    <tr>\n",
       "      <th>75%</th>\n",
       "      <td>38630.250000</td>\n",
       "      <td>57479.250000</td>\n",
       "      <td>2017.000000</td>\n",
       "      <td>8.000000</td>\n",
       "      <td>NaN</td>\n",
       "    </tr>\n",
       "    <tr>\n",
       "      <th>max</th>\n",
       "      <td>53291.000000</td>\n",
       "      <td>73469.000000</td>\n",
       "      <td>2017.000000</td>\n",
       "      <td>12.000000</td>\n",
       "      <td>NaN</td>\n",
       "    </tr>\n",
       "  </tbody>\n",
       "</table>\n",
       "</div>"
      ],
      "text/plain": [
       "         Unnamed: 0            id          year         month  url\n",
       "count  50000.000000  50000.000000  50000.000000  50000.000000  0.0\n",
       "mean   25694.378380  44432.454800   2016.273700      5.508940  NaN\n",
       "std    15350.143677  15773.615179      0.634694      3.333062  NaN\n",
       "min        0.000000  17283.000000   2011.000000      1.000000  NaN\n",
       "25%    12500.750000  31236.750000   2016.000000      3.000000  NaN\n",
       "50%    25004.500000  43757.500000   2016.000000      5.000000  NaN\n",
       "75%    38630.250000  57479.250000   2017.000000      8.000000  NaN\n",
       "max    53291.000000  73469.000000   2017.000000     12.000000  NaN"
      ]
     },
     "execution_count": 5,
     "metadata": {},
     "output_type": "execute_result"
    }
   ],
   "source": [
    "articles.describe()"
   ]
  },
  {
   "cell_type": "markdown",
   "id": "35ad3e5c-4d39-4883-9f54-db4a23b6d4a3",
   "metadata": {},
   "source": [
    "#### _describe data - object data type_"
   ]
  },
  {
   "cell_type": "code",
   "execution_count": 6,
   "id": "b8b1f7de-2955-4323-8bb7-14adf494dbd1",
   "metadata": {
    "tags": []
   },
   "outputs": [
    {
     "data": {
      "text/html": [
       "<div>\n",
       "<style scoped>\n",
       "    .dataframe tbody tr th:only-of-type {\n",
       "        vertical-align: middle;\n",
       "    }\n",
       "\n",
       "    .dataframe tbody tr th {\n",
       "        vertical-align: top;\n",
       "    }\n",
       "\n",
       "    .dataframe thead th {\n",
       "        text-align: right;\n",
       "    }\n",
       "</style>\n",
       "<table border=\"1\" class=\"dataframe\">\n",
       "  <thead>\n",
       "    <tr style=\"text-align: right;\">\n",
       "      <th></th>\n",
       "      <th>title</th>\n",
       "      <th>publication</th>\n",
       "      <th>author</th>\n",
       "      <th>date</th>\n",
       "      <th>content</th>\n",
       "    </tr>\n",
       "  </thead>\n",
       "  <tbody>\n",
       "    <tr>\n",
       "      <th>count</th>\n",
       "      <td>50000</td>\n",
       "      <td>50000</td>\n",
       "      <td>43694</td>\n",
       "      <td>50000</td>\n",
       "      <td>50000</td>\n",
       "    </tr>\n",
       "    <tr>\n",
       "      <th>unique</th>\n",
       "      <td>49920</td>\n",
       "      <td>5</td>\n",
       "      <td>3603</td>\n",
       "      <td>983</td>\n",
       "      <td>49888</td>\n",
       "    </tr>\n",
       "    <tr>\n",
       "      <th>top</th>\n",
       "      <td>The 10 most important things in the world righ...</td>\n",
       "      <td>Breitbart</td>\n",
       "      <td>Breitbart News</td>\n",
       "      <td>2016-08-22</td>\n",
       "      <td>advertisement</td>\n",
       "    </tr>\n",
       "    <tr>\n",
       "      <th>freq</th>\n",
       "      <td>7</td>\n",
       "      <td>23781</td>\n",
       "      <td>1559</td>\n",
       "      <td>221</td>\n",
       "      <td>42</td>\n",
       "    </tr>\n",
       "  </tbody>\n",
       "</table>\n",
       "</div>"
      ],
      "text/plain": [
       "                                                    title publication  \\\n",
       "count                                               50000       50000   \n",
       "unique                                              49920           5   \n",
       "top     The 10 most important things in the world righ...   Breitbart   \n",
       "freq                                                    7       23781   \n",
       "\n",
       "                author        date        content  \n",
       "count            43694       50000          50000  \n",
       "unique            3603         983          49888  \n",
       "top     Breitbart News  2016-08-22  advertisement  \n",
       "freq              1559         221             42  "
      ]
     },
     "execution_count": 6,
     "metadata": {},
     "output_type": "execute_result"
    }
   ],
   "source": [
    "articles.describe(include=['O'])"
   ]
  },
  {
   "cell_type": "markdown",
   "id": "62db55f7-9009-45e8-81a5-cea4ef097a12",
   "metadata": {},
   "source": [
    "#### _display unique publications_"
   ]
  },
  {
   "cell_type": "code",
   "execution_count": 7,
   "id": "05098ad7-35b8-49d4-b735-b79b458489fd",
   "metadata": {},
   "outputs": [
    {
     "data": {
      "text/plain": [
       "array(['New York Times', 'Breitbart', 'CNN', 'Business Insider',\n",
       "       'Atlantic'], dtype=object)"
      ]
     },
     "execution_count": 7,
     "metadata": {},
     "output_type": "execute_result"
    }
   ],
   "source": [
    "articles.publication.unique()"
   ]
  },
  {
   "cell_type": "markdown",
   "id": "35c551ee-84f2-4c8e-9dd7-b12aaf63fcc4",
   "metadata": {},
   "source": [
    "#### _display min and max year from the data set_"
   ]
  },
  {
   "cell_type": "code",
   "execution_count": 8,
   "id": "59f71742-5634-4bbd-829a-5133cb604abe",
   "metadata": {},
   "outputs": [
    {
     "data": {
      "text/plain": [
       "2011.0"
      ]
     },
     "execution_count": 8,
     "metadata": {},
     "output_type": "execute_result"
    },
    {
     "data": {
      "text/plain": [
       "2017.0"
      ]
     },
     "execution_count": 8,
     "metadata": {},
     "output_type": "execute_result"
    }
   ],
   "source": [
    "articles.year.min()\n",
    "articles.year.max()"
   ]
  },
  {
   "cell_type": "markdown",
   "id": "f8092b06-cf3a-4af4-a677-9768869df83a",
   "metadata": {},
   "source": [
    "#### _display how many articles from each year_"
   ]
  },
  {
   "cell_type": "code",
   "execution_count": 9,
   "id": "18c4a265-a53f-46ab-ab35-270ce71f37ac",
   "metadata": {},
   "outputs": [
    {
     "data": {
      "text/plain": [
       "2016.0    28451\n",
       "2017.0    17908\n",
       "2015.0     3326\n",
       "2013.0      212\n",
       "2014.0       76\n",
       "2012.0       26\n",
       "2011.0        1\n",
       "Name: year, dtype: int64"
      ]
     },
     "execution_count": 9,
     "metadata": {},
     "output_type": "execute_result"
    }
   ],
   "source": [
    "articles.year.value_counts()"
   ]
  },
  {
   "cell_type": "markdown",
   "id": "409aa3b9-c6fd-42fc-bd48-4b0b918ab01a",
   "metadata": {},
   "source": [
    "## Graph Analysis"
   ]
  },
  {
   "cell_type": "markdown",
   "id": "6c839931-b49f-4ddf-8f31-0984b4c559a3",
   "metadata": {},
   "source": [
    "#### _display bar chart of articles sorted by Publication Name_"
   ]
  },
  {
   "cell_type": "code",
   "execution_count": 10,
   "id": "b3172f08-0b24-4f04-9a53-717ed1ce4eb0",
   "metadata": {},
   "outputs": [
    {
     "data": {
      "image/png": "[encoded data removed]",
      "text/plain": [
       "<Figure size 864x576 with 1 Axes>"
      ]
     },
     "metadata": {},
     "output_type": "display_data"
    }
   ],
   "source": [
    "# create variable to save article publications sorted by names\n",
    "\n",
    "publications_count = articles.publication.value_counts().sort_index()\n",
    "\n",
    "# set plot style and figure size\n",
    "\n",
    "sns.set_style('white')\n",
    "plt.figure(figsize=(12,8))\n",
    "\n",
    "#plot barchart for articale publications counts\n",
    "\n",
    "sns.barplot(x=publications_count.index, y= publications_count)\n",
    "plt.xlabel(\"Publication Names\",fontdict = {\"fontsize\":14})\n",
    "plt.ylabel(\"Publication Counts\",fontdict = {\"fontsize\":14})\n",
    "plt.title(\"Articale Publications\",fontdict = {\"fontsize\":20});"
   ]
  },
  {
   "cell_type": "markdown",
   "id": "fbc42049-b6a3-464e-9b2a-9b0829be1db3",
   "metadata": {},
   "source": [
    "#### _display bar chart of articles sorted by counts_"
   ]
  },
  {
   "cell_type": "code",
   "execution_count": 11,
   "id": "b91ecc7b-915c-484a-b2b5-8d072651935d",
   "metadata": {},
   "outputs": [
    {
     "data": {
      "image/png": "[encoded data removed]",
      "text/plain": [
       "<Figure size 864x576 with 1 Axes>"
      ]
     },
     "metadata": {},
     "output_type": "display_data"
    }
   ],
   "source": [
    "# create variable to save article publications sorted by counts\n",
    "\n",
    "pub_counts = articles.publication.value_counts()\n",
    "\n",
    "# set plot style and figure size\n",
    "\n",
    "sns.set_style('white')\n",
    "plt.figure(figsize=(12,8))\n",
    "\n",
    "#plot barchart for articale publications counts\n",
    "\n",
    "sns.barplot(x=pub_counts.index, y= pub_counts)\n",
    "plt.xlabel(\"Publication Names\",fontdict = {\"fontsize\":14})\n",
    "plt.ylabel(\"Publication Counts\",fontdict = {\"fontsize\":14})\n",
    "plt.title(\"Articale Publications\",fontdict = {\"fontsize\":20});"
   ]
  },
  {
   "cell_type": "code",
   "execution_count": 12,
   "id": "21ea57d1-454e-4741-8b12-a63a35d22b69",
   "metadata": {},
   "outputs": [
    {
     "data": {
      "text/plain": [
       "Breitbart           23781\n",
       "CNN                 11488\n",
       "New York Times       7803\n",
       "Business Insider     6757\n",
       "Atlantic              171\n",
       "Name: publication, dtype: int64"
      ]
     },
     "execution_count": 12,
     "metadata": {},
     "output_type": "execute_result"
    }
   ],
   "source": [
    "# distribution of articale publications\n",
    "\n",
    "articles.publication.value_counts()"
   ]
  },
  {
   "cell_type": "markdown",
   "id": "3e06678e-f851-404a-8a24-0accd2adee97",
   "metadata": {},
   "source": [
    "### Clean Text\n",
    "1. Remove Punctuations from the contents\n",
    "2. lower case all the contents"
   ]
  },
  {
   "cell_type": "code",
   "execution_count": 13,
   "id": "47feb1de-fa4f-44d3-a484-dec4a81e213b",
   "metadata": {},
   "outputs": [],
   "source": [
    "def clean_text(article):\n",
    "    \n",
    "    \"\"\"function to remove punctuation from text \n",
    "    and lower case of it\"\"\"\n",
    "    \n",
    "    text = re.sub(r'['+string.punctuation + '’—”'+']', \"\", article.lower())\n",
    "    return re.sub(r'\\W+', ' ',text)"
   ]
  },
  {
   "cell_type": "markdown",
   "id": "a38a0153-69d0-4c94-8cf2-1a7bb3760e77",
   "metadata": {},
   "source": [
    "#### _create new column by applyong clean_text function on contents_"
   ]
  },
  {
   "cell_type": "code",
   "execution_count": 14,
   "id": "7e01f285-ba01-406a-aceb-1e75213f1dd0",
   "metadata": {},
   "outputs": [],
   "source": [
    "articles['tokenized'] = articles.content.apply(lambda x:clean_text(x))"
   ]
  },
  {
   "cell_type": "code",
   "execution_count": 15,
   "id": "396e50dd-8556-46c1-8b89-cd64d2228c23",
   "metadata": {},
   "outputs": [
    {
     "data": {
      "text/plain": [
       "0    washington congressional republicans have a ne...\n",
       "1    after the bullet shells get counted the blood ...\n",
       "2    when walt disneys bambi opened in 1942 critics...\n",
       "3    death may be the great equalizer but it isnt n...\n",
       "4    seoul south korea north koreas leader kim said...\n",
       "Name: tokenized, dtype: object"
      ]
     },
     "execution_count": 15,
     "metadata": {},
     "output_type": "execute_result"
    }
   ],
   "source": [
    "# top 5 records of new column\n",
    "\n",
    "articles.tokenized.head()"
   ]
  },
  {
   "cell_type": "markdown",
   "id": "b1417187-e096-416d-90e3-97b8029b7437",
   "metadata": {},
   "source": [
    "#### _create new column for length of words in cleaned contents_"
   ]
  },
  {
   "cell_type": "code",
   "execution_count": 16,
   "id": "dba951f5-51ed-4081-b62d-18989387b8d3",
   "metadata": {},
   "outputs": [],
   "source": [
    "articles['num_words'] = articles.tokenized.apply(lambda x: len(x.split()))"
   ]
  },
  {
   "cell_type": "code",
   "execution_count": 17,
   "id": "b57a23dd-065c-4bd7-b67d-db33f7f87b11",
   "metadata": {},
   "outputs": [
    {
     "data": {
      "text/plain": [
       "0     876\n",
       "1    4743\n",
       "2    2350\n",
       "3    2104\n",
       "4     690\n",
       "Name: num_words, dtype: int64"
      ]
     },
     "execution_count": 17,
     "metadata": {},
     "output_type": "execute_result"
    }
   ],
   "source": [
    "# display top 5 records of new column num_words\n",
    "\n",
    "articles.num_words.head()"
   ]
  },
  {
   "cell_type": "markdown",
   "id": "7a9ca190-341b-40d3-86d2-ab5e026c9830",
   "metadata": {},
   "source": [
    "#### _display min, max, count, mean..etc of new column num_words_"
   ]
  },
  {
   "cell_type": "code",
   "execution_count": 18,
   "id": "db113183-797c-45c4-ae6b-86c17e98aba3",
   "metadata": {},
   "outputs": [
    {
     "data": {
      "text/plain": [
       "count    50000.000000\n",
       "mean       636.260460\n",
       "std        644.856619\n",
       "min          0.000000\n",
       "25%        275.000000\n",
       "50%        468.000000\n",
       "75%        832.000000\n",
       "max      24736.000000\n",
       "Name: num_words, dtype: float64"
      ]
     },
     "execution_count": 18,
     "metadata": {},
     "output_type": "execute_result"
    }
   ],
   "source": [
    "articles.num_words.describe()"
   ]
  },
  {
   "cell_type": "markdown",
   "id": "5f53ceac-c165-481e-9d59-e10836372b49",
   "metadata": {},
   "source": [
    "#### _remove artcles with no contents_"
   ]
  },
  {
   "cell_type": "code",
   "execution_count": 19,
   "id": "d2ee98e9-0211-4f71-a446-86915b0ceb35",
   "metadata": {},
   "outputs": [
    {
     "data": {
      "text/plain": [
       "65"
      ]
     },
     "execution_count": 19,
     "metadata": {},
     "output_type": "execute_result"
    }
   ],
   "source": [
    "# no. of  articles with no contents\n",
    "\n",
    "articles.loc[articles.num_words == 0].shape[0]"
   ]
  },
  {
   "cell_type": "code",
   "execution_count": 20,
   "id": "c6d1cd45-e9cb-4cb4-a496-c8153a9f515c",
   "metadata": {},
   "outputs": [],
   "source": [
    "# keep articles with non-zero word length/remove articles with no contents\n",
    "\n",
    "articles = articles.loc[articles.num_words > 0]"
   ]
  },
  {
   "cell_type": "code",
   "execution_count": 21,
   "id": "5a4ebfde-78b0-48f2-8564-90c4740cebd1",
   "metadata": {},
   "outputs": [
    {
     "data": {
      "text/plain": [
       "count    49935.000000\n",
       "mean       637.088675\n",
       "std        644.867203\n",
       "min          1.000000\n",
       "25%        276.000000\n",
       "50%        469.000000\n",
       "75%        833.000000\n",
       "max      24736.000000\n",
       "Name: num_words, dtype: float64"
      ]
     },
     "execution_count": 21,
     "metadata": {},
     "output_type": "execute_result"
    }
   ],
   "source": [
    "# articles num_words columns descriptive stats\n",
    "\n",
    "\n",
    "articles.num_words.describe()"
   ]
  },
  {
   "cell_type": "markdown",
   "id": "c93011bc-c21d-4dc1-8e38-1466b715aeeb",
   "metadata": {},
   "source": [
    "#### _check for outliers_\n",
    "1. plot histogram of num_words column\n",
    "2. plot box plot of num_words column"
   ]
  },
  {
   "cell_type": "code",
   "execution_count": 22,
   "id": "79969236-4108-4134-b78a-4e0e1126d6df",
   "metadata": {},
   "outputs": [
    {
     "data": {
      "image/png": "[encoded data removed]",
      "text/plain": [
       "<Figure size 864x576 with 1 Axes>"
      ]
     },
     "metadata": {},
     "output_type": "display_data"
    }
   ],
   "source": [
    "# set plot style and figure size\n",
    "\n",
    "sns.set_style('white')\n",
    "plt.figure(figsize=(12,8))\n",
    "\n",
    "#plot histogramm for number of words from contents column\n",
    "\n",
    "sns.histplot(x='num_words', data=articles,bins=100)\n",
    "plt.xlabel(\"Number of words\",fontdict = {\"fontsize\":14})\n",
    "plt.ylabel(\"Frequency\",fontdict = {\"fontsize\":14})\n",
    "plt.title(\"Articale Length in Words\",fontdict = {\"fontsize\":20});"
   ]
  },
  {
   "cell_type": "code",
   "execution_count": 23,
   "id": "17ad73a4-f59e-499a-b320-6f0a3cc1d748",
   "metadata": {},
   "outputs": [
    {
     "data": {
      "image/png": "[encoded data removed]",
      "text/plain": [
       "<Figure size 864x576 with 1 Axes>"
      ]
     },
     "metadata": {},
     "output_type": "display_data"
    }
   ],
   "source": [
    "# set plot style and figure size\n",
    "\n",
    "sns.set_style('white')\n",
    "plt.figure(figsize=(12,8))\n",
    "\n",
    "#plot boxplot for number of words from contents column\n",
    "\n",
    "sns.boxplot(x='num_words', data=articles)\n",
    "plt.xlabel(\"Number of words\",fontdict = {\"fontsize\":14})\n",
    "plt.title(\"Articale Length in Words\",fontdict = {\"fontsize\":20});"
   ]
  },
  {
   "cell_type": "markdown",
   "id": "f6199aa7-52ed-43c4-8284-217ff716506e",
   "metadata": {},
   "source": [
    "Based on above charts we can see there are outliers present in the dataset, the length of article contents is not same. The median of number of words in article is 500 and from above charts there are articles with 1000 words are more and few are more than 15K words."
   ]
  },
  {
   "cell_type": "markdown",
   "id": "7227363c-0c1e-4fed-aa90-d5b05d2c7714",
   "metadata": {},
   "source": [
    "# END"
   ]
  }
 ],
 "metadata": {
  "kernelspec": {
   "display_name": "Python 3",
   "language": "python",
   "name": "python3"
  },
  "language_info": {
   "codemirror_mode": {
    "name": "ipython",
    "version": 3
   },
   "file_extension": ".py",
   "mimetype": "text/x-python",
   "name": "python",
   "nbconvert_exporter": "python",
   "pygments_lexer": "ipython3",
   "version": "3.8.2"
  }
 },
 "nbformat": 4,
 "nbformat_minor": 5
}
