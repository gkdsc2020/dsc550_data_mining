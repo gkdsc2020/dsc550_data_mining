{
 "cells": [
  {
   "cell_type": "markdown",
   "id": "fc14ea06-f990-4ac6-8d1b-4603a5a4366f",
   "metadata": {},
   "source": [
    "# Assignment - Exercise 6.4 Project Milestone1\n",
    "## Week#6\n",
    "## Date - July-16-2021\n",
    "## Author - Ganesh Kale"
   ]
  },
  {
   "cell_type": "markdown",
   "id": "8eaafb87-f43a-45b9-b7b2-5303eb6e0026",
   "metadata": {},
   "source": [
    "#### _Data Description:_\n",
    "\n",
    "Context -  This dataset contains around 200k news headlines from the year 2012 to 2018 obtained from HuffPost. The model trained on this dataset could be used to identify tags for untracked news articles or to identify the type of language used in different news articles.\n",
    "\n",
    "Each news headline has a corresponding category. Categories and corresponding article have different counts. These categories are predefined the time of collecting the data and assigned them accordingly.\n",
    "\n",
    "Problem Statement and Inspiration:\n",
    "\n",
    "Categorize news articles based on their headlines and short descriptions?\n",
    "\n",
    "Do news articles from different categories have different writing styles?\n",
    "\n",
    "A classifier trained on this dataset could be used on a free text to identify the type of language being used."
   ]
  },
  {
   "cell_type": "markdown",
   "id": "2f86afac-2eab-4627-b730-523a0ad3d512",
   "metadata": {},
   "source": [
    "#### _import required packages_"
   ]
  },
  {
   "cell_type": "code",
   "execution_count": 1,
   "id": "c6a886d9-992b-4cf3-afca-737df57a2258",
   "metadata": {},
   "outputs": [],
   "source": [
    "import numpy as np\n",
    "import pandas as pd\n",
    "import yellowbrick\n",
    "import matplotlib.pyplot as plt\n",
    "import seaborn as sns\n",
    "\n",
    "%matplotlib inline\n",
    "\n",
    "from IPython.core.interactiveshell import InteractiveShell\n",
    "InteractiveShell.ast_node_interactivity = 'all'"
   ]
  },
  {
   "cell_type": "markdown",
   "id": "be0e33c8-8c34-4ada-b418-0e19576e54ce",
   "metadata": {},
   "source": [
    "#### _load the data set_"
   ]
  },
  {
   "cell_type": "code",
   "execution_count": 3,
   "id": "8558c216-ab40-4142-8f85-cd998e1bfd81",
   "metadata": {},
   "outputs": [],
   "source": [
    "news = pd.read_json(\"data/News_Category_Dataset_v2.json\", lines=True)"
   ]
  },
  {
   "cell_type": "markdown",
   "id": "a4ee78d5-749e-4782-8f1b-97ff229a30fa",
   "metadata": {},
   "source": [
    "#### _display dimension and top 5 records from the data set_"
   ]
  },
  {
   "cell_type": "code",
   "execution_count": 4,
   "id": "8d86bef0-7795-4f1e-a09b-fd36dad161af",
   "metadata": {},
   "outputs": [
    {
     "data": {
      "text/plain": [
       "(200853, 6)"
      ]
     },
     "execution_count": 4,
     "metadata": {},
     "output_type": "execute_result"
    },
    {
     "data": {
      "text/html": [
       "<div>\n",
       "<style scoped>\n",
       "    .dataframe tbody tr th:only-of-type {\n",
       "        vertical-align: middle;\n",
       "    }\n",
       "\n",
       "    .dataframe tbody tr th {\n",
       "        vertical-align: top;\n",
       "    }\n",
       "\n",
       "    .dataframe thead th {\n",
       "        text-align: right;\n",
       "    }\n",
       "</style>\n",
       "<table border=\"1\" class=\"dataframe\">\n",
       "  <thead>\n",
       "    <tr style=\"text-align: right;\">\n",
       "      <th></th>\n",
       "      <th>category</th>\n",
       "      <th>headline</th>\n",
       "      <th>authors</th>\n",
       "      <th>link</th>\n",
       "      <th>short_description</th>\n",
       "      <th>date</th>\n",
       "    </tr>\n",
       "  </thead>\n",
       "  <tbody>\n",
       "    <tr>\n",
       "      <th>0</th>\n",
       "      <td>CRIME</td>\n",
       "      <td>There Were 2 Mass Shootings In Texas Last Week...</td>\n",
       "      <td>Melissa Jeltsen</td>\n",
       "      <td>https://www.huffingtonpost.com/entry/texas-ama...</td>\n",
       "      <td>She left her husband. He killed their children...</td>\n",
       "      <td>2018-05-26</td>\n",
       "    </tr>\n",
       "    <tr>\n",
       "      <th>1</th>\n",
       "      <td>ENTERTAINMENT</td>\n",
       "      <td>Will Smith Joins Diplo And Nicky Jam For The 2...</td>\n",
       "      <td>Andy McDonald</td>\n",
       "      <td>https://www.huffingtonpost.com/entry/will-smit...</td>\n",
       "      <td>Of course it has a song.</td>\n",
       "      <td>2018-05-26</td>\n",
       "    </tr>\n",
       "    <tr>\n",
       "      <th>2</th>\n",
       "      <td>ENTERTAINMENT</td>\n",
       "      <td>Hugh Grant Marries For The First Time At Age 57</td>\n",
       "      <td>Ron Dicker</td>\n",
       "      <td>https://www.huffingtonpost.com/entry/hugh-gran...</td>\n",
       "      <td>The actor and his longtime girlfriend Anna Ebe...</td>\n",
       "      <td>2018-05-26</td>\n",
       "    </tr>\n",
       "    <tr>\n",
       "      <th>3</th>\n",
       "      <td>ENTERTAINMENT</td>\n",
       "      <td>Jim Carrey Blasts 'Castrato' Adam Schiff And D...</td>\n",
       "      <td>Ron Dicker</td>\n",
       "      <td>https://www.huffingtonpost.com/entry/jim-carre...</td>\n",
       "      <td>The actor gives Dems an ass-kicking for not fi...</td>\n",
       "      <td>2018-05-26</td>\n",
       "    </tr>\n",
       "    <tr>\n",
       "      <th>4</th>\n",
       "      <td>ENTERTAINMENT</td>\n",
       "      <td>Julianna Margulies Uses Donald Trump Poop Bags...</td>\n",
       "      <td>Ron Dicker</td>\n",
       "      <td>https://www.huffingtonpost.com/entry/julianna-...</td>\n",
       "      <td>The \"Dietland\" actress said using the bags is ...</td>\n",
       "      <td>2018-05-26</td>\n",
       "    </tr>\n",
       "  </tbody>\n",
       "</table>\n",
       "</div>"
      ],
      "text/plain": [
       "        category                                           headline  \\\n",
       "0          CRIME  There Were 2 Mass Shootings In Texas Last Week...   \n",
       "1  ENTERTAINMENT  Will Smith Joins Diplo And Nicky Jam For The 2...   \n",
       "2  ENTERTAINMENT    Hugh Grant Marries For The First Time At Age 57   \n",
       "3  ENTERTAINMENT  Jim Carrey Blasts 'Castrato' Adam Schiff And D...   \n",
       "4  ENTERTAINMENT  Julianna Margulies Uses Donald Trump Poop Bags...   \n",
       "\n",
       "           authors                                               link  \\\n",
       "0  Melissa Jeltsen  https://www.huffingtonpost.com/entry/texas-ama...   \n",
       "1    Andy McDonald  https://www.huffingtonpost.com/entry/will-smit...   \n",
       "2       Ron Dicker  https://www.huffingtonpost.com/entry/hugh-gran...   \n",
       "3       Ron Dicker  https://www.huffingtonpost.com/entry/jim-carre...   \n",
       "4       Ron Dicker  https://www.huffingtonpost.com/entry/julianna-...   \n",
       "\n",
       "                                   short_description       date  \n",
       "0  She left her husband. He killed their children... 2018-05-26  \n",
       "1                           Of course it has a song. 2018-05-26  \n",
       "2  The actor and his longtime girlfriend Anna Ebe... 2018-05-26  \n",
       "3  The actor gives Dems an ass-kicking for not fi... 2018-05-26  \n",
       "4  The \"Dietland\" actress said using the bags is ... 2018-05-26  "
      ]
     },
     "execution_count": 4,
     "metadata": {},
     "output_type": "execute_result"
    }
   ],
   "source": [
    "news.shape\n",
    "news.head()"
   ]
  },
  {
   "cell_type": "markdown",
   "id": "01c1c88a-37f2-4d0a-a453-a6ee1c4ea0b5",
   "metadata": {},
   "source": [
    "#### _display data set variable data types and Non-null count_"
   ]
  },
  {
   "cell_type": "code",
   "execution_count": 8,
   "id": "295e405f-75a1-4fb4-8d78-6a2f00470b0c",
   "metadata": {},
   "outputs": [
    {
     "name": "stdout",
     "output_type": "stream",
     "text": [
      "<class 'pandas.core.frame.DataFrame'>\n",
      "RangeIndex: 200853 entries, 0 to 200852\n",
      "Data columns (total 6 columns):\n",
      " #   Column             Non-Null Count   Dtype         \n",
      "---  ------             --------------   -----         \n",
      " 0   category           200853 non-null  object        \n",
      " 1   headline           200853 non-null  object        \n",
      " 2   authors            200853 non-null  object        \n",
      " 3   link               200853 non-null  object        \n",
      " 4   short_description  200853 non-null  object        \n",
      " 5   date               200853 non-null  datetime64[ns]\n",
      "dtypes: datetime64[ns](1), object(5)\n",
      "memory usage: 9.2+ MB\n"
     ]
    }
   ],
   "source": [
    "news.info()"
   ]
  },
  {
   "cell_type": "markdown",
   "id": "d7703647-ae9d-453b-a901-b35d4852744a",
   "metadata": {},
   "source": [
    "#### _display descriptive stat summary of categorical variables_"
   ]
  },
  {
   "cell_type": "code",
   "execution_count": 9,
   "id": "b13848ff-cfa0-4ae5-81bd-580bd36ddbd7",
   "metadata": {},
   "outputs": [
    {
     "name": "stderr",
     "output_type": "stream",
     "text": [
      "<ipython-input-9-d644a336d14c>:1: FutureWarning: Treating datetime data as categorical rather than numeric in `.describe` is deprecated and will be removed in a future version of pandas. Specify `datetime_is_numeric=True` to silence this warning and adopt the future behavior now.\n",
      "  news.describe()\n"
     ]
    },
    {
     "data": {
      "text/html": [
       "<div>\n",
       "<style scoped>\n",
       "    .dataframe tbody tr th:only-of-type {\n",
       "        vertical-align: middle;\n",
       "    }\n",
       "\n",
       "    .dataframe tbody tr th {\n",
       "        vertical-align: top;\n",
       "    }\n",
       "\n",
       "    .dataframe thead th {\n",
       "        text-align: right;\n",
       "    }\n",
       "</style>\n",
       "<table border=\"1\" class=\"dataframe\">\n",
       "  <thead>\n",
       "    <tr style=\"text-align: right;\">\n",
       "      <th></th>\n",
       "      <th>category</th>\n",
       "      <th>headline</th>\n",
       "      <th>authors</th>\n",
       "      <th>link</th>\n",
       "      <th>short_description</th>\n",
       "      <th>date</th>\n",
       "    </tr>\n",
       "  </thead>\n",
       "  <tbody>\n",
       "    <tr>\n",
       "      <th>count</th>\n",
       "      <td>200853</td>\n",
       "      <td>200853</td>\n",
       "      <td>200853</td>\n",
       "      <td>200853</td>\n",
       "      <td>200853</td>\n",
       "      <td>200853</td>\n",
       "    </tr>\n",
       "    <tr>\n",
       "      <th>unique</th>\n",
       "      <td>41</td>\n",
       "      <td>199344</td>\n",
       "      <td>27993</td>\n",
       "      <td>200812</td>\n",
       "      <td>178353</td>\n",
       "      <td>2309</td>\n",
       "    </tr>\n",
       "    <tr>\n",
       "      <th>top</th>\n",
       "      <td>POLITICS</td>\n",
       "      <td>Sunday Roundup</td>\n",
       "      <td></td>\n",
       "      <td>https://www.huffingtonpost.comhttp://recode.ne...</td>\n",
       "      <td></td>\n",
       "      <td>2012-12-21 00:00:00</td>\n",
       "    </tr>\n",
       "    <tr>\n",
       "      <th>freq</th>\n",
       "      <td>32739</td>\n",
       "      <td>90</td>\n",
       "      <td>36620</td>\n",
       "      <td>2</td>\n",
       "      <td>19712</td>\n",
       "      <td>100</td>\n",
       "    </tr>\n",
       "    <tr>\n",
       "      <th>first</th>\n",
       "      <td>NaN</td>\n",
       "      <td>NaN</td>\n",
       "      <td>NaN</td>\n",
       "      <td>NaN</td>\n",
       "      <td>NaN</td>\n",
       "      <td>2012-01-28 00:00:00</td>\n",
       "    </tr>\n",
       "    <tr>\n",
       "      <th>last</th>\n",
       "      <td>NaN</td>\n",
       "      <td>NaN</td>\n",
       "      <td>NaN</td>\n",
       "      <td>NaN</td>\n",
       "      <td>NaN</td>\n",
       "      <td>2018-05-26 00:00:00</td>\n",
       "    </tr>\n",
       "  </tbody>\n",
       "</table>\n",
       "</div>"
      ],
      "text/plain": [
       "        category        headline authors  \\\n",
       "count     200853          200853  200853   \n",
       "unique        41          199344   27993   \n",
       "top     POLITICS  Sunday Roundup           \n",
       "freq       32739              90   36620   \n",
       "first        NaN             NaN     NaN   \n",
       "last         NaN             NaN     NaN   \n",
       "\n",
       "                                                     link short_description  \\\n",
       "count                                              200853            200853   \n",
       "unique                                             200812            178353   \n",
       "top     https://www.huffingtonpost.comhttp://recode.ne...                     \n",
       "freq                                                    2             19712   \n",
       "first                                                 NaN               NaN   \n",
       "last                                                  NaN               NaN   \n",
       "\n",
       "                       date  \n",
       "count                200853  \n",
       "unique                 2309  \n",
       "top     2012-12-21 00:00:00  \n",
       "freq                    100  \n",
       "first   2012-01-28 00:00:00  \n",
       "last    2018-05-26 00:00:00  "
      ]
     },
     "execution_count": 9,
     "metadata": {},
     "output_type": "execute_result"
    }
   ],
   "source": [
    "news.describe()"
   ]
  },
  {
   "cell_type": "markdown",
   "id": "258d0d75-fbb7-4b6d-8bae-9c129d953a25",
   "metadata": {},
   "source": [
    "## Exploratory Data Analysis - Data Visualization"
   ]
  },
  {
   "cell_type": "markdown",
   "id": "d4a23623-de46-4025-8dbf-bfb79ac1e475",
   "metadata": {},
   "source": [
    "#### _display number of news per category_"
   ]
  },
  {
   "cell_type": "code",
   "execution_count": 14,
   "id": "96902c1d-86fc-4bfe-acfc-77ac5e0ed5cb",
   "metadata": {},
   "outputs": [
    {
     "data": {
      "text/plain": [
       "POLITICS          32739\n",
       "WELLNESS          17827\n",
       "ENTERTAINMENT     16058\n",
       "TRAVEL             9887\n",
       "STYLE & BEAUTY     9649\n",
       "PARENTING          8677\n",
       "HEALTHY LIVING     6694\n",
       "QUEER VOICES       6314\n",
       "FOOD & DRINK       6226\n",
       "BUSINESS           5937\n",
       "COMEDY             5175\n",
       "SPORTS             4884\n",
       "BLACK VOICES       4528\n",
       "HOME & LIVING      4195\n",
       "PARENTS            3955\n",
       "THE WORLDPOST      3664\n",
       "WEDDINGS           3651\n",
       "WOMEN              3490\n",
       "IMPACT             3459\n",
       "DIVORCE            3426\n",
       "CRIME              3405\n",
       "MEDIA              2815\n",
       "WEIRD NEWS         2670\n",
       "GREEN              2622\n",
       "WORLDPOST          2579\n",
       "RELIGION           2556\n",
       "STYLE              2254\n",
       "SCIENCE            2178\n",
       "WORLD NEWS         2177\n",
       "TASTE              2096\n",
       "TECH               2082\n",
       "MONEY              1707\n",
       "ARTS               1509\n",
       "FIFTY              1401\n",
       "GOOD NEWS          1398\n",
       "ARTS & CULTURE     1339\n",
       "ENVIRONMENT        1323\n",
       "COLLEGE            1144\n",
       "LATINO VOICES      1129\n",
       "CULTURE & ARTS     1030\n",
       "EDUCATION          1004\n",
       "Name: category, dtype: int64"
      ]
     },
     "execution_count": 14,
     "metadata": {},
     "output_type": "execute_result"
    }
   ],
   "source": [
    "news.category.value_counts()"
   ]
  },
  {
   "cell_type": "code",
   "execution_count": 26,
   "id": "296733fb-6e4b-4779-8083-94eb89f78767",
   "metadata": {},
   "outputs": [
    {
     "data": {
      "image/png": "[encoded data removed]",
      "text/plain": [
       "<Figure size 1296x504 with 1 Axes>"
      ]
     },
     "metadata": {},
     "output_type": "display_data"
    }
   ],
   "source": [
    "# set style of the figure and size\n",
    "\n",
    "sns.set_style('white')\n",
    "plt.figure(figsize=(18,7))\n",
    "\n",
    "# plot bar chart for categories and news count\n",
    "sns.barplot(data=news, x=news.category.value_counts().index,y=news.category.value_counts())\n",
    "plt.xlabel('Categories',fontdict = {\"fontsize\":14})\n",
    "plt.ylabel('Counts',fontdict = {\"fontsize\":14})\n",
    "plt.title('Number of News Per Category',fontdict = {\"fontsize\":20})\n",
    "plt.xticks(rotation=90);"
   ]
  },
  {
   "cell_type": "markdown",
   "id": "70fcccb2-6db0-4fdd-a9e2-a2e8839e3d0c",
   "metadata": {},
   "source": [
    "#### _display how many news each year_"
   ]
  },
  {
   "cell_type": "code",
   "execution_count": 28,
   "id": "fc9b5cb9-6a06-41a4-b32f-b4bf59e9e725",
   "metadata": {},
   "outputs": [],
   "source": [
    "# create new column year by extracting year from date column\n",
    "\n",
    "news['year'] = news['date'].apply(lambda x : x.year)"
   ]
  },
  {
   "cell_type": "code",
   "execution_count": 29,
   "id": "f00230a3-6def-40eb-8353-9395e58cd5e5",
   "metadata": {},
   "outputs": [
    {
     "data": {
      "text/plain": [
       "count    200853.000000\n",
       "mean       2014.611930\n",
       "std           1.801049\n",
       "min        2012.000000\n",
       "25%        2013.000000\n",
       "50%        2015.000000\n",
       "75%        2016.000000\n",
       "max        2018.000000\n",
       "Name: year, dtype: float64"
      ]
     },
     "execution_count": 29,
     "metadata": {},
     "output_type": "execute_result"
    }
   ],
   "source": [
    "# display the new column details\n",
    "\n",
    "news.year.describe()"
   ]
  },
  {
   "cell_type": "code",
   "execution_count": 30,
   "id": "ec735874-5d2a-47a1-9890-54c5a53bf0f5",
   "metadata": {},
   "outputs": [
    {
     "data": {
      "text/plain": [
       "2013    34583\n",
       "2014    32339\n",
       "2016    32098\n",
       "2015    32006\n",
       "2012    31355\n",
       "2017    29889\n",
       "2018     8583\n",
       "Name: year, dtype: int64"
      ]
     },
     "execution_count": 30,
     "metadata": {},
     "output_type": "execute_result"
    }
   ],
   "source": [
    "# counts of news each year\n",
    "\n",
    "news.year.value_counts()"
   ]
  },
  {
   "cell_type": "code",
   "execution_count": 32,
   "id": "815af831-ea82-4f45-9f77-698f7381279f",
   "metadata": {},
   "outputs": [
    {
     "data": {
      "image/png": "[encoded data removed]",
      "text/plain": [
       "<Figure size 1296x504 with 1 Axes>"
      ]
     },
     "metadata": {},
     "output_type": "display_data"
    }
   ],
   "source": [
    "# bar plot to show counts of news each year\n",
    "\n",
    "# set style of the figure and size\n",
    "\n",
    "sns.set_style('white')\n",
    "plt.figure(figsize=(18,7))\n",
    "\n",
    "# plot bar chart for categories and news count\n",
    "sns.barplot(data=news, x=news.year.value_counts().index,y=news.year.value_counts())\n",
    "plt.xlabel('Year',fontdict = {\"fontsize\":14})\n",
    "plt.ylabel('Counts',fontdict = {\"fontsize\":14})\n",
    "plt.title('Number of News Per Year',fontdict = {\"fontsize\":20});"
   ]
  },
  {
   "cell_type": "markdown",
   "id": "13fe0d2d-8216-4517-a4a4-de481e020efe",
   "metadata": {},
   "source": [
    "#### _display distribution of words in headline and short new summary_"
   ]
  },
  {
   "cell_type": "code",
   "execution_count": 33,
   "id": "8a7d1e38-1810-4ebe-86f6-5f5318eee317",
   "metadata": {},
   "outputs": [],
   "source": [
    "# create new column for number of words in headline and short description\n",
    "\n",
    "news['num_words_head'] = news.headline.apply(lambda x : len(x.split()))\n",
    "news['num_words_summary'] = news.short_description.apply(lambda x : len(x.split()))"
   ]
  },
  {
   "cell_type": "code",
   "execution_count": 34,
   "id": "c639c1fa-3015-4c4f-af44-b09cfb7f4f88",
   "metadata": {},
   "outputs": [
    {
     "data": {
      "text/html": [
       "<div>\n",
       "<style scoped>\n",
       "    .dataframe tbody tr th:only-of-type {\n",
       "        vertical-align: middle;\n",
       "    }\n",
       "\n",
       "    .dataframe tbody tr th {\n",
       "        vertical-align: top;\n",
       "    }\n",
       "\n",
       "    .dataframe thead th {\n",
       "        text-align: right;\n",
       "    }\n",
       "</style>\n",
       "<table border=\"1\" class=\"dataframe\">\n",
       "  <thead>\n",
       "    <tr style=\"text-align: right;\">\n",
       "      <th></th>\n",
       "      <th>num_words_head</th>\n",
       "      <th>num_words_summary</th>\n",
       "    </tr>\n",
       "  </thead>\n",
       "  <tbody>\n",
       "    <tr>\n",
       "      <th>count</th>\n",
       "      <td>200853.000000</td>\n",
       "      <td>200853.000000</td>\n",
       "    </tr>\n",
       "    <tr>\n",
       "      <th>mean</th>\n",
       "      <td>9.538563</td>\n",
       "      <td>19.728289</td>\n",
       "    </tr>\n",
       "    <tr>\n",
       "      <th>std</th>\n",
       "      <td>3.089320</td>\n",
       "      <td>14.409189</td>\n",
       "    </tr>\n",
       "    <tr>\n",
       "      <th>min</th>\n",
       "      <td>0.000000</td>\n",
       "      <td>0.000000</td>\n",
       "    </tr>\n",
       "    <tr>\n",
       "      <th>25%</th>\n",
       "      <td>7.000000</td>\n",
       "      <td>10.000000</td>\n",
       "    </tr>\n",
       "    <tr>\n",
       "      <th>50%</th>\n",
       "      <td>10.000000</td>\n",
       "      <td>19.000000</td>\n",
       "    </tr>\n",
       "    <tr>\n",
       "      <th>75%</th>\n",
       "      <td>12.000000</td>\n",
       "      <td>24.000000</td>\n",
       "    </tr>\n",
       "    <tr>\n",
       "      <th>max</th>\n",
       "      <td>44.000000</td>\n",
       "      <td>243.000000</td>\n",
       "    </tr>\n",
       "  </tbody>\n",
       "</table>\n",
       "</div>"
      ],
      "text/plain": [
       "       num_words_head  num_words_summary\n",
       "count   200853.000000      200853.000000\n",
       "mean         9.538563          19.728289\n",
       "std          3.089320          14.409189\n",
       "min          0.000000           0.000000\n",
       "25%          7.000000          10.000000\n",
       "50%         10.000000          19.000000\n",
       "75%         12.000000          24.000000\n",
       "max         44.000000         243.000000"
      ]
     },
     "execution_count": 34,
     "metadata": {},
     "output_type": "execute_result"
    }
   ],
   "source": [
    "# display the summary of new columns\n",
    "\n",
    "news[['num_words_head','num_words_summary']].describe()"
   ]
  },
  {
   "cell_type": "code",
   "execution_count": 41,
   "id": "b0317fd0-8e63-4a30-9ce6-2268b187ee82",
   "metadata": {},
   "outputs": [
    {
     "data": {
      "image/png": "[encoded data removed]",
      "text/plain": [
       "<Figure size 1296x504 with 1 Axes>"
      ]
     },
     "metadata": {},
     "output_type": "display_data"
    }
   ],
   "source": [
    "# Distribution of number of words in headline\n",
    "\n",
    "# set style of the figure and size\n",
    "\n",
    "sns.set_style('white')\n",
    "plt.figure(figsize=(18,7))\n",
    "\n",
    "# plot histogram chart for number of words in headlines\n",
    "sns.histplot(data=news, x='num_words_head', binwidth=0.8, bins=40,)\n",
    "plt.xlabel('num words headline',fontdict = {\"fontsize\":14})\n",
    "plt.ylabel('Freq',fontdict = {\"fontsize\":14})\n",
    "plt.title('Distribution of number of words in healines',fontdict = {\"fontsize\":20});"
   ]
  },
  {
   "cell_type": "code",
   "execution_count": 47,
   "id": "2632c9dd-c047-44f9-a254-4f87ffaddb69",
   "metadata": {},
   "outputs": [
    {
     "data": {
      "image/png": "[encoded data removed]",
      "text/plain": [
       "<Figure size 1296x504 with 1 Axes>"
      ]
     },
     "metadata": {},
     "output_type": "display_data"
    }
   ],
   "source": [
    "# Distribution of number of words in short description\n",
    "\n",
    "# set style of the figure and size\n",
    "\n",
    "sns.set_style('white')\n",
    "plt.figure(figsize=(18,7))\n",
    "\n",
    "# plot histogram chart for number of words in headlines\n",
    "sns.histplot(data=news, x='num_words_summary', bins=50, kde=True,)\n",
    "plt.xlabel('num words summary',fontdict = {\"fontsize\":14})\n",
    "plt.ylabel('Freq',fontdict = {\"fontsize\":14})\n",
    "plt.title('Distribution of number of words in news summary',fontdict = {\"fontsize\":20});"
   ]
  },
  {
   "cell_type": "markdown",
   "id": "6eaab588-c23c-4dde-8b27-a3ca8859a319",
   "metadata": {},
   "source": [
    "## Insights Gained from Graphical Analysis"
   ]
  },
  {
   "cell_type": "markdown",
   "id": "8cf75e8d-4461-4512-b978-f3ad2aaafd51",
   "metadata": {},
   "source": [
    "1. Bar Chart - Number of news per category:\n",
    "This bar chart shows that the number of news in each category is not same across categories so our class in imbalance and we should use proper techniques to balance the classes/categories.\n",
    "There are more Politics news than rest of the categories.\n",
    "\n",
    "2. Bar Chart - Number of news per year:\n",
    "Based on bar chart we can see that the number of news are same each year except 2018. In 2018 we have jusk around 8.5K news. This helps to understand we may skip this year and drop news in next step.\n",
    "\n",
    "3. Histogram - Distribution of number of words in headline - \n",
    "This distribution shows that it has some outliers with word count more than 20,once that headlines are removed then distribution will be normal distribution.\n",
    "\n",
    "4. Histogram - Distribution of number of words in short description - \n",
    "Based on this hostogram we can see that the distribution isn skewed and outliers exist. We need to remove the outliers with word count more than 50."
   ]
  },
  {
   "cell_type": "markdown",
   "id": "1298bccc-181c-42e1-afa2-b8418a117b07",
   "metadata": {},
   "source": [
    "## Next Steps:\n",
    "\n",
    "1. Check the weightage of classes/categories, merge some classes\n",
    "2. Balance the weightage - using SMOTE or sklearn class_weight\n",
    "3. create new columns - month, days\n",
    "4. Feature Selection - Remove unwanted features\n",
    "5. Cleaning news headlines and short descriptions - \n",
    "   - remove white spaces, punctuations, stop words, blanks, duplicates, filling missing values etc\n",
    "6. Tokenization, lemmatization/stemming\n",
    "7. compare headlines and short descriptions for similarity using different models\n",
    "8. Perform model evaluation\n",
    "9. Predict the result\n",
    "10. conclusion"
   ]
  },
  {
   "cell_type": "markdown",
   "id": "35e12416-3f80-49c2-9204-3f0051f30368",
   "metadata": {},
   "source": [
    "## END"
   ]
  }
 ],
 "metadata": {
  "kernelspec": {
   "display_name": "Python 3",
   "language": "python",
   "name": "python3"
  },
  "language_info": {
   "codemirror_mode": {
    "name": "ipython",
    "version": 3
   },
   "file_extension": ".py",
   "mimetype": "text/x-python",
   "name": "python",
   "nbconvert_exporter": "python",
   "pygments_lexer": "ipython3",
   "version": "3.8.2"
  }
 },
 "nbformat": 4,
 "nbformat_minor": 5
}
