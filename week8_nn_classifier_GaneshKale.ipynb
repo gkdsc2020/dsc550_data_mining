{
 "cells": [
  {
   "cell_type": "markdown",
   "id": "6f966957-125a-40f6-b660-e275394dcfb8",
   "metadata": {},
   "source": [
    "# Assignment - Exercise 8.3 Neural Network CLassifiers\n",
    "## Week#8&9\n",
    "## Date - July-31-2021\n",
    "## Author - Ganesh Kale"
   ]
  },
  {
   "cell_type": "markdown",
   "id": "a34eb3f0-da84-4747-9437-5394e0a27d38",
   "metadata": {},
   "source": [
    "#### _import required packages_"
   ]
  },
  {
   "cell_type": "code",
   "execution_count": 87,
   "id": "acee7278-4530-4d25-ad63-8c07a98c2f7c",
   "metadata": {},
   "outputs": [],
   "source": [
    "import numpy as np\n",
    "import pandas as pd\n",
    "import matplotlib.pyplot as plt\n",
    "import seaborn as sns\n",
    "from scipy import stats, sparse\n",
    "from sklearn import datasets\n",
    "import spacy\n",
    "import sys\n",
    "import unicodedata\n",
    "import re\n",
    "from nltk.tokenize import word_tokenize\n",
    "from nltk.corpus import stopwords\n",
    "\n",
    "%matplotlib inline\n",
    "\n",
    "\n",
    "from IPython.core.interactiveshell import InteractiveShell\n",
    "InteractiveShell.ast_node_interactivity = 'all'\n",
    "\n",
    "import warnings\n",
    "warnings.filterwarnings(\"ignore\", category=DeprecationWarning)"
   ]
  },
  {
   "cell_type": "markdown",
   "id": "1d5e0664-bd41-4409-a938-a5660609fdd2",
   "metadata": {},
   "source": [
    "#### _load the data set_"
   ]
  },
  {
   "cell_type": "code",
   "execution_count": 88,
   "id": "b11996ae-5e07-499b-a0e2-60c804ff05f7",
   "metadata": {},
   "outputs": [],
   "source": [
    "comments = pd.read_json(\"data/categorized-comments.jsonl\",lines=True)"
   ]
  },
  {
   "cell_type": "markdown",
   "id": "448680a6-42d8-470c-a427-0c69072f3446",
   "metadata": {},
   "source": [
    "#### _display shape and head of dataset_"
   ]
  },
  {
   "cell_type": "code",
   "execution_count": 89,
   "id": "cd657ce5-ca34-4309-a5c4-0c6e909fda0f",
   "metadata": {},
   "outputs": [
    {
     "data": {
      "text/plain": [
       "(606476, 2)"
      ]
     },
     "execution_count": 89,
     "metadata": {},
     "output_type": "execute_result"
    },
    {
     "data": {
      "text/html": [
       "<div>\n",
       "<style scoped>\n",
       "    .dataframe tbody tr th:only-of-type {\n",
       "        vertical-align: middle;\n",
       "    }\n",
       "\n",
       "    .dataframe tbody tr th {\n",
       "        vertical-align: top;\n",
       "    }\n",
       "\n",
       "    .dataframe thead th {\n",
       "        text-align: right;\n",
       "    }\n",
       "</style>\n",
       "<table border=\"1\" class=\"dataframe\">\n",
       "  <thead>\n",
       "    <tr style=\"text-align: right;\">\n",
       "      <th></th>\n",
       "      <th>cat</th>\n",
       "      <th>txt</th>\n",
       "    </tr>\n",
       "  </thead>\n",
       "  <tbody>\n",
       "    <tr>\n",
       "      <th>0</th>\n",
       "      <td>sports</td>\n",
       "      <td>Barely better than Gabbert? He was significant...</td>\n",
       "    </tr>\n",
       "    <tr>\n",
       "      <th>1</th>\n",
       "      <td>sports</td>\n",
       "      <td>Fuck the ducks and the Angels! But welcome to ...</td>\n",
       "    </tr>\n",
       "    <tr>\n",
       "      <th>2</th>\n",
       "      <td>sports</td>\n",
       "      <td>Should have drafted more WRs.\\n\\n- Matt Millen...</td>\n",
       "    </tr>\n",
       "    <tr>\n",
       "      <th>3</th>\n",
       "      <td>sports</td>\n",
       "      <td>[Done](https://i.imgur.com/2YZ90pm.jpg)</td>\n",
       "    </tr>\n",
       "    <tr>\n",
       "      <th>4</th>\n",
       "      <td>sports</td>\n",
       "      <td>No!! NOO!!!!!</td>\n",
       "    </tr>\n",
       "  </tbody>\n",
       "</table>\n",
       "</div>"
      ],
      "text/plain": [
       "      cat                                                txt\n",
       "0  sports  Barely better than Gabbert? He was significant...\n",
       "1  sports  Fuck the ducks and the Angels! But welcome to ...\n",
       "2  sports  Should have drafted more WRs.\\n\\n- Matt Millen...\n",
       "3  sports            [Done](https://i.imgur.com/2YZ90pm.jpg)\n",
       "4  sports                                      No!! NOO!!!!!"
      ]
     },
     "execution_count": 89,
     "metadata": {},
     "output_type": "execute_result"
    }
   ],
   "source": [
    "comments.shape\n",
    "comments.head()"
   ]
  },
  {
   "cell_type": "markdown",
   "id": "496a821a-a4cc-4809-993e-35451add1555",
   "metadata": {},
   "source": [
    "### This data set is having 600K records and after balancing classes it becomes over 1M and deep learning algorithms takes huge time to train on this data set, hence reducing size to 50K"
   ]
  },
  {
   "cell_type": "code",
   "execution_count": 98,
   "id": "bc11ac4f-ce86-44a3-8fed-d24c42809405",
   "metadata": {},
   "outputs": [],
   "source": [
    "cat_com = comments.sample(50000, random_state=101)"
   ]
  },
  {
   "cell_type": "markdown",
   "id": "45ff0d89-3139-48c9-90b6-21653d8afdd4",
   "metadata": {},
   "source": [
    "#### _display distribution of cat columns_"
   ]
  },
  {
   "cell_type": "code",
   "execution_count": 99,
   "id": "ea623c8c-570f-4bc9-bb0a-376b724954c1",
   "metadata": {},
   "outputs": [
    {
     "data": {
      "text/plain": [
       "video_games               35665\n",
       "sports                    12225\n",
       "science_and_technology     2110\n",
       "Name: cat, dtype: int64"
      ]
     },
     "execution_count": 99,
     "metadata": {},
     "output_type": "execute_result"
    }
   ],
   "source": [
    "cat_com.cat.value_counts()"
   ]
  },
  {
   "cell_type": "code",
   "execution_count": 100,
   "id": "dd9caa58-b457-414e-81e9-df38a4392f5e",
   "metadata": {},
   "outputs": [
    {
     "data": {
      "image/png": "[encoded data removed]",
      "text/plain": [
       "<Figure size 864x504 with 1 Axes>"
      ]
     },
     "metadata": {},
     "output_type": "display_data"
    }
   ],
   "source": [
    "# display graphical distribution of cat columns\n",
    "\n",
    "\n",
    "sns.set_style('white')\n",
    "plt.figure(figsize=(12,7))\n",
    "\n",
    "sns.barplot(x=cat_com.cat.value_counts().index, y=cat_com.cat.value_counts().values)\n",
    "plt.xlabel(\"Categories\",fontdict={\"fontsize\":14})\n",
    "plt.ylabel(\"Counts\",fontdict={\"fontsize\":14})\n",
    "plt.title(\"Distribution of Categories\",fontdict={\"fontsize\":20});"
   ]
  },
  {
   "cell_type": "markdown",
   "id": "7d47c60e-39ab-4857-bf0f-2a3867d7a8d0",
   "metadata": {},
   "source": [
    "#### _Pre-Processing Text_"
   ]
  },
  {
   "cell_type": "code",
   "execution_count": 101,
   "id": "48f754cb-8e9a-4d1d-9520-5315c08b9eae",
   "metadata": {},
   "outputs": [],
   "source": [
    "# lower case all text from txt column\n",
    "\n",
    "cat_com['clean_text'] = cat_com['txt']\n",
    "\n",
    "cat_com['clean_text'] = cat_com['clean_text'].apply(lambda x: x.lower())"
   ]
  },
  {
   "cell_type": "code",
   "execution_count": 102,
   "id": "db4aed48-9e25-4720-9c2c-2c02faaa779c",
   "metadata": {},
   "outputs": [],
   "source": [
    "#  create a function to clean textx\n",
    "\n",
    "def clean_texts(strng):\n",
    "    x = strng\n",
    "    x = x.strip()  # remove white sapce\n",
    "    # x = x.replace(' ',\"\")\n",
    "    x = re.sub(r'\\d',\"\",x)  # remove numbers\n",
    "    x = re.sub(r\"https\\S+\",\"\",x)  # remove links\n",
    "    x = ' '.join(w for w in x.split() if len(w)>2)  # remove words with len less than 2\n",
    "    return x"
   ]
  },
  {
   "cell_type": "code",
   "execution_count": 103,
   "id": "5aa82a24-c7a6-49a9-bf02-1901354a4454",
   "metadata": {},
   "outputs": [],
   "source": [
    "# create new column for cleaned text\n",
    "\n",
    "cat_com['clean_text'] = cat_com['clean_text'].apply(lambda x: clean_texts(x))"
   ]
  },
  {
   "cell_type": "code",
   "execution_count": 104,
   "id": "b51bd413-d6d8-4220-84ca-8566b5c63c25",
   "metadata": {
    "tags": []
   },
   "outputs": [],
   "source": [
    "# remove punctuations and stop words from clean_text column\n",
    "\n",
    "# dictionary of punctuations characters with keys and none as values\n",
    "\n",
    "punctuations = dict.fromkeys(i for i in range(sys.maxunicode) if unicodedata.category(chr(i)).startswith('P'))\n",
    "\n",
    "# removing punctuations from the text column\n",
    "cat_com['clean_text'] = cat_com.clean_text.apply(lambda x : x.translate(punctuations))"
   ]
  },
  {
   "cell_type": "code",
   "execution_count": 105,
   "id": "ad1b5d73-c844-46ad-ab5d-20d61a2d4e12",
   "metadata": {
    "tags": []
   },
   "outputs": [],
   "source": [
    "# remove stop words using nltk \n",
    "\n",
    "stop_words = stopwords.words('english')\n",
    "\n",
    "# removing stop words from the text column\n",
    "cat_com['clean_text'] = cat_com.clean_text.apply(lambda x : ' '.join([word for word in word_tokenize(x) if word not in stop_words]))\n"
   ]
  },
  {
   "cell_type": "code",
   "execution_count": 106,
   "id": "ac5f341d-bd8e-4903-8043-c00248a32f08",
   "metadata": {},
   "outputs": [],
   "source": [
    "# stemming the texts using nltk stemmer\n",
    "\n",
    "from nltk.stem.porter import PorterStemmer\n",
    "\n",
    "porter = PorterStemmer()\n",
    "cat_com['clean_text'] = cat_com.clean_text.apply(lambda x : ' '.join([porter.stem(word) for word in word_tokenize(x)]))"
   ]
  },
  {
   "cell_type": "code",
   "execution_count": 107,
   "id": "63bdc194-38d1-4077-8591-a29d9390751b",
   "metadata": {},
   "outputs": [],
   "source": [
    "# keeping text length greater than 20 after cleaning text\n",
    "\n",
    "cat_com['new'] = cat_com.clean_text.apply(lambda x: 'yes' if len(x) > 20 else 'no')"
   ]
  },
  {
   "cell_type": "code",
   "execution_count": 108,
   "id": "e3ae9eee-684e-4e23-b841-aeabeab8d2aa",
   "metadata": {},
   "outputs": [],
   "source": [
    "final = cat_com.loc[cat_com.loc[:,'new']=='yes']"
   ]
  },
  {
   "cell_type": "code",
   "execution_count": 109,
   "id": "95de32e8-d955-4381-a102-096ea2d4784b",
   "metadata": {},
   "outputs": [
    {
     "data": {
      "text/html": [
       "<div>\n",
       "<style scoped>\n",
       "    .dataframe tbody tr th:only-of-type {\n",
       "        vertical-align: middle;\n",
       "    }\n",
       "\n",
       "    .dataframe tbody tr th {\n",
       "        vertical-align: top;\n",
       "    }\n",
       "\n",
       "    .dataframe thead th {\n",
       "        text-align: right;\n",
       "    }\n",
       "</style>\n",
       "<table border=\"1\" class=\"dataframe\">\n",
       "  <thead>\n",
       "    <tr style=\"text-align: right;\">\n",
       "      <th></th>\n",
       "      <th>cat</th>\n",
       "      <th>txt</th>\n",
       "      <th>clean_text</th>\n",
       "      <th>new</th>\n",
       "    </tr>\n",
       "  </thead>\n",
       "  <tbody>\n",
       "    <tr>\n",
       "      <th>337804</th>\n",
       "      <td>video_games</td>\n",
       "      <td>Makes me happy three bears are in there.</td>\n",
       "      <td>make happi three bear</td>\n",
       "      <td>yes</td>\n",
       "    </tr>\n",
       "    <tr>\n",
       "      <th>25541</th>\n",
       "      <td>science_and_technology</td>\n",
       "      <td>&amp;gt;I don't think that many people feel handic...</td>\n",
       "      <td>gti dont think mani peopl feel handicap that c...</td>\n",
       "      <td>yes</td>\n",
       "    </tr>\n",
       "    <tr>\n",
       "      <th>180767</th>\n",
       "      <td>video_games</td>\n",
       "      <td>It wasnt meant against some particular heroes ...</td>\n",
       "      <td>wasnt meant particular hero gener carri could ...</td>\n",
       "      <td>yes</td>\n",
       "    </tr>\n",
       "    <tr>\n",
       "      <th>505628</th>\n",
       "      <td>video_games</td>\n",
       "      <td>Fair point.  I didn't see where she was before...</td>\n",
       "      <td>fair point didnt see reze much could case</td>\n",
       "      <td>yes</td>\n",
       "    </tr>\n",
       "    <tr>\n",
       "      <th>130798</th>\n",
       "      <td>video_games</td>\n",
       "      <td>This special ammo change is pointless if you a...</td>\n",
       "      <td>special ammo chang pointless ask funni everi s...</td>\n",
       "      <td>yes</td>\n",
       "    </tr>\n",
       "  </tbody>\n",
       "</table>\n",
       "</div>"
      ],
      "text/plain": [
       "                           cat  \\\n",
       "337804             video_games   \n",
       "25541   science_and_technology   \n",
       "180767             video_games   \n",
       "505628             video_games   \n",
       "130798             video_games   \n",
       "\n",
       "                                                      txt  \\\n",
       "337804          Makes me happy three bears are in there.    \n",
       "25541   &gt;I don't think that many people feel handic...   \n",
       "180767  It wasnt meant against some particular heroes ...   \n",
       "505628  Fair point.  I didn't see where she was before...   \n",
       "130798  This special ammo change is pointless if you a...   \n",
       "\n",
       "                                               clean_text  new  \n",
       "337804                              make happi three bear  yes  \n",
       "25541   gti dont think mani peopl feel handicap that c...  yes  \n",
       "180767  wasnt meant particular hero gener carri could ...  yes  \n",
       "505628          fair point didnt see reze much could case  yes  \n",
       "130798  special ammo chang pointless ask funni everi s...  yes  "
      ]
     },
     "execution_count": 109,
     "metadata": {},
     "output_type": "execute_result"
    },
    {
     "data": {
      "text/html": [
       "<div>\n",
       "<style scoped>\n",
       "    .dataframe tbody tr th:only-of-type {\n",
       "        vertical-align: middle;\n",
       "    }\n",
       "\n",
       "    .dataframe tbody tr th {\n",
       "        vertical-align: top;\n",
       "    }\n",
       "\n",
       "    .dataframe thead th {\n",
       "        text-align: right;\n",
       "    }\n",
       "</style>\n",
       "<table border=\"1\" class=\"dataframe\">\n",
       "  <thead>\n",
       "    <tr style=\"text-align: right;\">\n",
       "      <th></th>\n",
       "      <th>cat</th>\n",
       "      <th>txt</th>\n",
       "      <th>clean_text</th>\n",
       "      <th>new</th>\n",
       "    </tr>\n",
       "  </thead>\n",
       "  <tbody>\n",
       "    <tr>\n",
       "      <th>500141</th>\n",
       "      <td>video_games</td>\n",
       "      <td>I just don't like joysticks. I could have so m...</td>\n",
       "      <td>dont like joystick could much aim capabl m+kb ...</td>\n",
       "      <td>yes</td>\n",
       "    </tr>\n",
       "    <tr>\n",
       "      <th>261340</th>\n",
       "      <td>sports</td>\n",
       "      <td>Then whats the point of playing clubs?\\n\\nMe a...</td>\n",
       "      <td>what point play club mate never use like year ...</td>\n",
       "      <td>yes</td>\n",
       "    </tr>\n",
       "    <tr>\n",
       "      <th>560073</th>\n",
       "      <td>video_games</td>\n",
       "      <td>This is also a good tip. Unless that angry Jap...</td>\n",
       "      <td>also good tip unless angri japanes sound littl...</td>\n",
       "      <td>yes</td>\n",
       "    </tr>\n",
       "    <tr>\n",
       "      <th>26578</th>\n",
       "      <td>science_and_technology</td>\n",
       "      <td>Let's be mature and not bring people's dangles...</td>\n",
       "      <td>let matur bring peopl dangl talk cell phone</td>\n",
       "      <td>yes</td>\n",
       "    </tr>\n",
       "    <tr>\n",
       "      <th>124174</th>\n",
       "      <td>video_games</td>\n",
       "      <td>Well rumble is not just 1v1 it's ur awarness a...</td>\n",
       "      <td>well rumbl awar surviv skill take part posit u...</td>\n",
       "      <td>yes</td>\n",
       "    </tr>\n",
       "  </tbody>\n",
       "</table>\n",
       "</div>"
      ],
      "text/plain": [
       "                           cat  \\\n",
       "500141             video_games   \n",
       "261340                  sports   \n",
       "560073             video_games   \n",
       "26578   science_and_technology   \n",
       "124174             video_games   \n",
       "\n",
       "                                                      txt  \\\n",
       "500141  I just don't like joysticks. I could have so m...   \n",
       "261340  Then whats the point of playing clubs?\\n\\nMe a...   \n",
       "560073  This is also a good tip. Unless that angry Jap...   \n",
       "26578   Let's be mature and not bring people's dangles...   \n",
       "124174  Well rumble is not just 1v1 it's ur awarness a...   \n",
       "\n",
       "                                               clean_text  new  \n",
       "500141  dont like joystick could much aim capabl m+kb ...  yes  \n",
       "261340  what point play club mate never use like year ...  yes  \n",
       "560073  also good tip unless angri japanes sound littl...  yes  \n",
       "26578         let matur bring peopl dangl talk cell phone  yes  \n",
       "124174  well rumbl awar surviv skill take part posit u...  yes  "
      ]
     },
     "execution_count": 109,
     "metadata": {},
     "output_type": "execute_result"
    }
   ],
   "source": [
    "# display head and tail of data sets\n",
    "\n",
    "final.head()\n",
    "final.tail()"
   ]
  },
  {
   "cell_type": "code",
   "execution_count": 110,
   "id": "12dbe1cc-1974-410d-a1d7-56f0c1f7cd57",
   "metadata": {
    "tags": []
   },
   "outputs": [
    {
     "data": {
      "text/plain": [
       "video_games               26433\n",
       "sports                     8525\n",
       "science_and_technology     1645\n",
       "Name: cat, dtype: int64"
      ]
     },
     "execution_count": 110,
     "metadata": {},
     "output_type": "execute_result"
    },
    {
     "data": {
      "text/plain": [
       "video_games               35665\n",
       "sports                    12225\n",
       "science_and_technology     2110\n",
       "Name: cat, dtype: int64"
      ]
     },
     "execution_count": 110,
     "metadata": {},
     "output_type": "execute_result"
    }
   ],
   "source": [
    "# distribution of categories in final data set and main data set - cat_com\n",
    "\n",
    "final.cat.value_counts()\n",
    "\n",
    "cat_com.cat.value_counts()"
   ]
  },
  {
   "cell_type": "markdown",
   "id": "53e5d9d7-81ea-4a3b-8c25-7717fa404566",
   "metadata": {},
   "source": [
    "## Balance the imbalanced classes"
   ]
  },
  {
   "cell_type": "code",
   "execution_count": 111,
   "id": "efac5151-7c2d-46c9-8472-68d57e17f307",
   "metadata": {},
   "outputs": [],
   "source": [
    "# import SMOTE\n",
    "\n",
    "from imblearn.over_sampling import SMOTE"
   ]
  },
  {
   "cell_type": "code",
   "execution_count": 112,
   "id": "434ef830-0622-433a-a859-c6d00298a39e",
   "metadata": {},
   "outputs": [],
   "source": [
    "# create instance of SMOTE\n",
    "\n",
    "smote = SMOTE()"
   ]
  },
  {
   "cell_type": "code",
   "execution_count": 113,
   "id": "013fdd7d-0f19-4dd6-99d0-6597d5e2c1c9",
   "metadata": {},
   "outputs": [],
   "source": [
    "# import TF-IDF vectorizer and create instance\n",
    "\n",
    "from sklearn.feature_extraction.text import TfidfVectorizer\n",
    "\n",
    "tfidf = TfidfVectorizer()"
   ]
  },
  {
   "cell_type": "code",
   "execution_count": 114,
   "id": "4aa57a1e-ee09-47b9-8d68-848998334f0f",
   "metadata": {},
   "outputs": [],
   "source": [
    "# create features by using tfidf model on cleaned text column\n",
    "\n",
    "X = tfidf.fit_transform(final['clean_text'])"
   ]
  },
  {
   "cell_type": "code",
   "execution_count": 115,
   "id": "526bd654-8ee3-48d1-99dc-b8a5ed2e78a3",
   "metadata": {},
   "outputs": [],
   "source": [
    "# import lable encoder and endocde target class\n",
    "\n",
    "from sklearn.preprocessing import LabelEncoder\n",
    "\n",
    "one_hot = LabelEncoder()\n",
    "y = one_hot.fit_transform(final['cat'])"
   ]
  },
  {
   "cell_type": "code",
   "execution_count": 116,
   "id": "e34a0604-110a-4545-83bc-7362ce5ff59a",
   "metadata": {},
   "outputs": [
    {
     "name": "stdout",
     "output_type": "stream",
     "text": [
      "{'science_and_technology': 0, 'sports': 1, 'video_games': 2}\n"
     ]
    }
   ],
   "source": [
    "# display the encoded values mapping with classes\n",
    "\n",
    "class_mapping = dict(zip(one_hot.classes_,one_hot.transform(one_hot.classes_)))\n",
    "print(class_mapping)"
   ]
  },
  {
   "cell_type": "code",
   "execution_count": 117,
   "id": "7d397c8d-6daa-46e7-b460-e855d8bd6ad2",
   "metadata": {
    "tags": []
   },
   "outputs": [],
   "source": [
    "# using SMOTE methode balance the classes\n",
    "\n",
    "X_smote, y_smote = smote.fit_resample(X,y)"
   ]
  },
  {
   "cell_type": "code",
   "execution_count": 118,
   "id": "289c3172-bd03-4356-814c-4133b0132eb5",
   "metadata": {},
   "outputs": [
    {
     "data": {
      "text/plain": [
       "((36603, 28879), (36603,))"
      ]
     },
     "execution_count": 118,
     "metadata": {},
     "output_type": "execute_result"
    },
    {
     "data": {
      "text/plain": [
       "((79299, 28879), (79299,))"
      ]
     },
     "execution_count": 118,
     "metadata": {},
     "output_type": "execute_result"
    }
   ],
   "source": [
    "# display shape of X_smote and y_smote & X, y\n",
    "\n",
    "X.shape, y.shape\n",
    "X_smote.shape, y_smote.shape"
   ]
  },
  {
   "cell_type": "code",
   "execution_count": 119,
   "id": "422be6f7-9f9c-45b8-ba4f-7fe4aeb52eae",
   "metadata": {},
   "outputs": [
    {
     "data": {
      "text/plain": [
       "'Category Classes before balancing: Counter({2: 26433, 1: 8525, 0: 1645})'"
      ]
     },
     "execution_count": 119,
     "metadata": {},
     "output_type": "execute_result"
    },
    {
     "data": {
      "text/plain": [
       "'Category Classes after balancing: Counter({2: 26433, 0: 26433, 1: 26433})'"
      ]
     },
     "execution_count": 119,
     "metadata": {},
     "output_type": "execute_result"
    }
   ],
   "source": [
    "# display y_smote distribution and cat column(y)\n",
    "\n",
    "from collections import Counter\n",
    "\n",
    "f\"Category Classes before balancing: {Counter(y)}\"\n",
    "f\"Category Classes after balancing: {Counter(y_smote)}\""
   ]
  },
  {
   "cell_type": "markdown",
   "id": "89a9703c-c389-4364-8445-709c527471df",
   "metadata": {},
   "source": [
    "### Class Weights  - Another method to handle imbalanced classes(not used here)"
   ]
  },
  {
   "cell_type": "code",
   "execution_count": 120,
   "id": "a5cd1a35-44ac-410d-8b51-19480655e7da",
   "metadata": {},
   "outputs": [],
   "source": [
    "# import the required module\n",
    "\n",
    "from sklearn.utils import class_weight"
   ]
  },
  {
   "cell_type": "code",
   "execution_count": 610,
   "id": "76dfc62d-cead-4228-9473-7108be8a4824",
   "metadata": {},
   "outputs": [
    {
     "name": "stderr",
     "output_type": "stream",
     "text": [
      "/Users/ganeshkale/work/dsc550datamining/venv/lib/python3.8/site-packages/sklearn/utils/validation.py:70: FutureWarning: Pass classes=['science_and_technology' 'sports' 'video_games'], y=337804               video_games\n",
      "25541     science_and_technology\n",
      "180767               video_games\n",
      "505628               video_games\n",
      "130798               video_games\n",
      "                   ...          \n",
      "500141               video_games\n",
      "261340                    sports\n",
      "560073               video_games\n",
      "26578     science_and_technology\n",
      "124174               video_games\n",
      "Name: cat, Length: 36603, dtype: object as keyword args. From version 1.0 (renaming of 0.25) passing these as positional arguments will result in an error\n",
      "  warnings.warn(f\"Pass {args_msg} as keyword args. From version \"\n"
     ]
    }
   ],
   "source": [
    "# create class weights\n",
    "\n",
    "class_weights = list(class_weight.compute_class_weight('balanced',np.unique(final['cat']),final['cat']));"
   ]
  },
  {
   "cell_type": "code",
   "execution_count": 122,
   "id": "8d49ba61-ab59-4471-857e-c1cebed5871c",
   "metadata": {},
   "outputs": [],
   "source": [
    "# sort class weights\n",
    "\n",
    "class_weights.sort()"
   ]
  },
  {
   "cell_type": "code",
   "execution_count": 123,
   "id": "c5016952-0037-4ff9-ab21-5aecec865ef0",
   "metadata": {},
   "outputs": [
    {
     "data": {
      "text/plain": [
       "{0: 0.46158211326750653, 1: 1.4312023460410557, 2: 7.417021276595745}"
      ]
     },
     "execution_count": 123,
     "metadata": {},
     "output_type": "execute_result"
    }
   ],
   "source": [
    "# display class weights\n",
    "\n",
    "weights = {}\n",
    "\n",
    "for idx, wt in enumerate(class_weights):\n",
    "    weights[idx]= wt\n",
    "\n",
    "weights"
   ]
  },
  {
   "cell_type": "markdown",
   "id": "ee7d8e29-76ca-4895-80ae-4ca6a8d42201",
   "metadata": {},
   "source": [
    "#### _split the data set into train and validation_"
   ]
  },
  {
   "cell_type": "code",
   "execution_count": 124,
   "id": "94228b50-2827-427d-b762-95a1e036119d",
   "metadata": {},
   "outputs": [],
   "source": [
    "# import required module\n",
    "\n",
    "from sklearn.model_selection import train_test_split"
   ]
  },
  {
   "cell_type": "code",
   "execution_count": 125,
   "id": "13a9bf76-d11a-4da1-b75f-8c90a362b652",
   "metadata": {},
   "outputs": [],
   "source": [
    "#  split data sets\n",
    "\n",
    "X_train, X_test, y_train, y_test = train_test_split(X_smote, y_smote, test_size=0.3, random_state=42)"
   ]
  },
  {
   "cell_type": "code",
   "execution_count": 126,
   "id": "0fe1e295-0b30-4468-9eb9-5666a09e4201",
   "metadata": {},
   "outputs": [
    {
     "data": {
      "text/plain": [
       "'Training dataset shape: 55509'"
      ]
     },
     "execution_count": 126,
     "metadata": {},
     "output_type": "execute_result"
    },
    {
     "data": {
      "text/plain": [
       "'Validation dataset shape: 23790'"
      ]
     },
     "execution_count": 126,
     "metadata": {},
     "output_type": "execute_result"
    }
   ],
   "source": [
    "# display shape of train and validation data sets\n",
    "\n",
    "f\"Training dataset shape: {X_train.shape[0]}\"\n",
    "f\"Validation dataset shape: {X_test.shape[0]}\""
   ]
  },
  {
   "cell_type": "markdown",
   "id": "0648deb9-7dcc-42cb-a40e-da112b9da528",
   "metadata": {},
   "source": [
    "## 1. MLPClassifier - Neural Network Classifier using Scikit-learn"
   ]
  },
  {
   "cell_type": "markdown",
   "id": "a217ecef-06db-4301-b268-a9e5ce2beb83",
   "metadata": {},
   "source": [
    "#### _import classifier_"
   ]
  },
  {
   "cell_type": "code",
   "execution_count": 335,
   "id": "2f22bec0-7031-4c30-a4e1-a7a8c6a8350d",
   "metadata": {},
   "outputs": [],
   "source": [
    "from sklearn.neural_network import MLPClassifier"
   ]
  },
  {
   "cell_type": "code",
   "execution_count": 336,
   "id": "d19d332a-7601-455f-994c-47b62d82bb94",
   "metadata": {},
   "outputs": [],
   "source": [
    "# inititate the classifier with 3 hidden layers with different number of neurons/nodes in each layer\n",
    "\n",
    "classifier = MLPClassifier(hidden_layer_sizes=(150,100,50))"
   ]
  },
  {
   "cell_type": "code",
   "execution_count": 337,
   "id": "7631ad27-cf1f-4802-87f0-3fea88cad018",
   "metadata": {},
   "outputs": [
    {
     "data": {
      "text/plain": [
       "MLPClassifier(hidden_layer_sizes=(150, 100, 50))"
      ]
     },
     "execution_count": 337,
     "metadata": {},
     "output_type": "execute_result"
    }
   ],
   "source": [
    "# train the classifier on training data set\n",
    "\n",
    "classifier.fit(X_train,y_train)"
   ]
  },
  {
   "cell_type": "code",
   "execution_count": 338,
   "id": "e007cea7-d8f4-4d81-b2ac-ab25b5a172c9",
   "metadata": {},
   "outputs": [],
   "source": [
    "# predict the classes using classifier\n",
    "\n",
    "predictions = classifier.predict(X_test)"
   ]
  },
  {
   "cell_type": "code",
   "execution_count": 339,
   "id": "b67197f3-8677-4c8a-88fc-c3226ce9c64f",
   "metadata": {},
   "outputs": [],
   "source": [
    "# import the required metrics to evaluate the classifier model\n",
    "\n",
    "from sklearn.metrics import confusion_matrix, classification_report"
   ]
  },
  {
   "cell_type": "code",
   "execution_count": 354,
   "id": "527b3797-c4e1-41d2-bd1e-60b5948666b2",
   "metadata": {
    "tags": []
   },
   "outputs": [
    {
     "data": {
      "text/plain": [
       "'Accuracy of Model: 0.95'"
      ]
     },
     "execution_count": 354,
     "metadata": {},
     "output_type": "execute_result"
    }
   ],
   "source": [
    "# Display accuracy of model\n",
    "\n",
    "from sklearn.metrics import accuracy_score\n",
    "\n",
    "f\"Accuracy of Model: {round(accuracy_score(y_test.argmax(axis=1), predictions.argmax(axis=1)),2)}\""
   ]
  },
  {
   "cell_type": "code",
   "execution_count": 345,
   "id": "4e04d2c4-e3f0-490f-be99-aa39a172e568",
   "metadata": {},
   "outputs": [
    {
     "data": {
      "text/plain": [
       "array([[7957,    0,    2],\n",
       "       [  18, 7673,  297],\n",
       "       [ 192,  715, 6936]])"
      ]
     },
     "execution_count": 345,
     "metadata": {},
     "output_type": "execute_result"
    }
   ],
   "source": [
    "# display confusion matrics\n",
    "\n",
    "cm = confusion_matrix(y_test.argmax(axis=1), predictions.argmax(axis=1))\n",
    "cm"
   ]
  },
  {
   "cell_type": "code",
   "execution_count": 346,
   "id": "04eb919e-1f85-4b38-b4f8-842365c0526d",
   "metadata": {},
   "outputs": [
    {
     "name": "stdout",
     "output_type": "stream",
     "text": [
      "{'science_and_technology': 0, 'sports': 1, 'video_games': 2}\n",
      "----------------------------------------------------------------------\n"
     ]
    },
    {
     "data": {
      "text/html": [
       "<div>\n",
       "<style scoped>\n",
       "    .dataframe tbody tr th:only-of-type {\n",
       "        vertical-align: middle;\n",
       "    }\n",
       "\n",
       "    .dataframe tbody tr th {\n",
       "        vertical-align: top;\n",
       "    }\n",
       "\n",
       "    .dataframe thead th {\n",
       "        text-align: right;\n",
       "    }\n",
       "</style>\n",
       "<table border=\"1\" class=\"dataframe\">\n",
       "  <thead>\n",
       "    <tr style=\"text-align: right;\">\n",
       "      <th>Predicted</th>\n",
       "      <th>0</th>\n",
       "      <th>1</th>\n",
       "      <th>2</th>\n",
       "      <th>Total</th>\n",
       "    </tr>\n",
       "    <tr>\n",
       "      <th>Actual</th>\n",
       "      <th></th>\n",
       "      <th></th>\n",
       "      <th></th>\n",
       "      <th></th>\n",
       "    </tr>\n",
       "  </thead>\n",
       "  <tbody>\n",
       "    <tr>\n",
       "      <th>0</th>\n",
       "      <td>7957</td>\n",
       "      <td>0</td>\n",
       "      <td>2</td>\n",
       "      <td>7959</td>\n",
       "    </tr>\n",
       "    <tr>\n",
       "      <th>1</th>\n",
       "      <td>18</td>\n",
       "      <td>7673</td>\n",
       "      <td>297</td>\n",
       "      <td>7988</td>\n",
       "    </tr>\n",
       "    <tr>\n",
       "      <th>2</th>\n",
       "      <td>192</td>\n",
       "      <td>715</td>\n",
       "      <td>6936</td>\n",
       "      <td>7843</td>\n",
       "    </tr>\n",
       "    <tr>\n",
       "      <th>Total</th>\n",
       "      <td>8167</td>\n",
       "      <td>8388</td>\n",
       "      <td>7235</td>\n",
       "      <td>23790</td>\n",
       "    </tr>\n",
       "  </tbody>\n",
       "</table>\n",
       "</div>"
      ],
      "text/plain": [
       "Predicted     0     1     2  Total\n",
       "Actual                            \n",
       "0          7957     0     2   7959\n",
       "1            18  7673   297   7988\n",
       "2           192   715  6936   7843\n",
       "Total      8167  8388  7235  23790"
      ]
     },
     "execution_count": 346,
     "metadata": {},
     "output_type": "execute_result"
    }
   ],
   "source": [
    "# display confusion matrics result in crosstab\n",
    "\n",
    "print(class_mapping)\n",
    "print(\"-\"*70)\n",
    "pd.crosstab(y_test.argmax(axis=1), predictions.argmax(axis=1), rownames=['Actual'], colnames=['Predicted'],margins=True,dropna=False,margins_name='Total')"
   ]
  },
  {
   "cell_type": "code",
   "execution_count": 348,
   "id": "5b573447-535e-4ec1-859c-3079e8a4ed7a",
   "metadata": {},
   "outputs": [
    {
     "name": "stdout",
     "output_type": "stream",
     "text": [
      "                        precision    recall  f1-score   support\n",
      "\n",
      "science_and_technology       0.97      1.00      0.99      7959\n",
      "                sports       0.91      0.96      0.94      7988\n",
      "           video_games       0.96      0.88      0.92      7843\n",
      "\n",
      "              accuracy                           0.95     23790\n",
      "             macro avg       0.95      0.95      0.95     23790\n",
      "          weighted avg       0.95      0.95      0.95     23790\n",
      "\n"
     ]
    }
   ],
   "source": [
    "# display the classififcation report\n",
    "\n",
    "print(classification_report(y_test.argmax(axis=1), predictions.argmax(axis=1), target_names=class_mapping.keys()))"
   ]
  },
  {
   "cell_type": "markdown",
   "id": "67a69357-f4b5-44e6-af85-8f82923ed78f",
   "metadata": {},
   "source": [
    "## 2. Neural Network Classifier with Keras"
   ]
  },
  {
   "cell_type": "markdown",
   "id": "170e4006-52e4-4ef1-9003-203e2d57689c",
   "metadata": {},
   "source": [
    "#### _import required libraries_"
   ]
  },
  {
   "cell_type": "code",
   "execution_count": 419,
   "id": "7cd92f8e-0fc6-41cd-b699-a19c11217b25",
   "metadata": {},
   "outputs": [],
   "source": [
    "import tensorflow\n",
    "from tensorflow import keras\n",
    "from keras.models import Sequential\n",
    "from keras.layers import Dense\n",
    "from keras.wrappers.scikit_learn import KerasClassifier\n",
    "from sklearn.model_selection import cross_val_score, KFold\n",
    "from keras.utils.np_utils import to_categorical\n",
    "from keras.preprocessing.text import Tokenizer, one_hot"
   ]
  },
  {
   "cell_type": "code",
   "execution_count": 377,
   "id": "6c939b91-56a5-400d-8754-40a96945430b",
   "metadata": {},
   "outputs": [
    {
     "data": {
      "text/html": [
       "<div>\n",
       "<style scoped>\n",
       "    .dataframe tbody tr th:only-of-type {\n",
       "        vertical-align: middle;\n",
       "    }\n",
       "\n",
       "    .dataframe tbody tr th {\n",
       "        vertical-align: top;\n",
       "    }\n",
       "\n",
       "    .dataframe thead th {\n",
       "        text-align: right;\n",
       "    }\n",
       "</style>\n",
       "<table border=\"1\" class=\"dataframe\">\n",
       "  <thead>\n",
       "    <tr style=\"text-align: right;\">\n",
       "      <th></th>\n",
       "      <th>cat</th>\n",
       "      <th>txt</th>\n",
       "      <th>clean_text</th>\n",
       "      <th>new</th>\n",
       "    </tr>\n",
       "  </thead>\n",
       "  <tbody>\n",
       "    <tr>\n",
       "      <th>337804</th>\n",
       "      <td>video_games</td>\n",
       "      <td>Makes me happy three bears are in there.</td>\n",
       "      <td>make happi three bear</td>\n",
       "      <td>yes</td>\n",
       "    </tr>\n",
       "    <tr>\n",
       "      <th>25541</th>\n",
       "      <td>science_and_technology</td>\n",
       "      <td>&amp;gt;I don't think that many people feel handic...</td>\n",
       "      <td>gti dont think mani peopl feel handicap that c...</td>\n",
       "      <td>yes</td>\n",
       "    </tr>\n",
       "    <tr>\n",
       "      <th>180767</th>\n",
       "      <td>video_games</td>\n",
       "      <td>It wasnt meant against some particular heroes ...</td>\n",
       "      <td>wasnt meant particular hero gener carri could ...</td>\n",
       "      <td>yes</td>\n",
       "    </tr>\n",
       "    <tr>\n",
       "      <th>505628</th>\n",
       "      <td>video_games</td>\n",
       "      <td>Fair point.  I didn't see where she was before...</td>\n",
       "      <td>fair point didnt see reze much could case</td>\n",
       "      <td>yes</td>\n",
       "    </tr>\n",
       "    <tr>\n",
       "      <th>130798</th>\n",
       "      <td>video_games</td>\n",
       "      <td>This special ammo change is pointless if you a...</td>\n",
       "      <td>special ammo chang pointless ask funni everi s...</td>\n",
       "      <td>yes</td>\n",
       "    </tr>\n",
       "  </tbody>\n",
       "</table>\n",
       "</div>"
      ],
      "text/plain": [
       "                           cat  \\\n",
       "337804             video_games   \n",
       "25541   science_and_technology   \n",
       "180767             video_games   \n",
       "505628             video_games   \n",
       "130798             video_games   \n",
       "\n",
       "                                                      txt  \\\n",
       "337804          Makes me happy three bears are in there.    \n",
       "25541   &gt;I don't think that many people feel handic...   \n",
       "180767  It wasnt meant against some particular heroes ...   \n",
       "505628  Fair point.  I didn't see where she was before...   \n",
       "130798  This special ammo change is pointless if you a...   \n",
       "\n",
       "                                               clean_text  new  \n",
       "337804                              make happi three bear  yes  \n",
       "25541   gti dont think mani peopl feel handicap that c...  yes  \n",
       "180767  wasnt meant particular hero gener carri could ...  yes  \n",
       "505628          fair point didnt see reze much could case  yes  \n",
       "130798  special ammo chang pointless ask funni everi s...  yes  "
      ]
     },
     "execution_count": 377,
     "metadata": {},
     "output_type": "execute_result"
    }
   ],
   "source": [
    "# display head of dataset\n",
    "\n",
    "final.head()"
   ]
  },
  {
   "cell_type": "code",
   "execution_count": 396,
   "id": "7f0a5033-78f9-4f48-ba0a-7a42ff3a1daf",
   "metadata": {},
   "outputs": [],
   "source": [
    "# split the dataset into train and test\n",
    "\n",
    "features_train, features_test, target_train, target_test = train_test_split(final.clean_text.values,\n",
    "                                                                            final.cat.values, test_size=0.3, random_state=42)"
   ]
  },
  {
   "cell_type": "code",
   "execution_count": 412,
   "id": "57894619-815e-4e6e-ba40-802618351464",
   "metadata": {},
   "outputs": [],
   "source": [
    "# tokenize the features with dim 5000\n",
    "\n",
    "tokenizer = Tokenizer(num_words=5000)\n",
    "tokenizer.fit_on_texts(features_train)"
   ]
  },
  {
   "cell_type": "code",
   "execution_count": 413,
   "id": "20ead466-e571-4b75-9b08-5b14c9449f49",
   "metadata": {},
   "outputs": [],
   "source": [
    "# transform text feature to sequences\n",
    "\n",
    "features_train_nn = tokenizer.texts_to_sequences(features_train)\n",
    "features_test_nn = tokenizer.texts_to_sequences(features_test)"
   ]
  },
  {
   "cell_type": "code",
   "execution_count": 414,
   "id": "ec838323-1af9-4904-b3a8-03125a0e5c10",
   "metadata": {},
   "outputs": [],
   "source": [
    "# convert feature list into numpy matrix\n",
    "\n",
    "features_train_nn = tokenizer.sequences_to_matrix(features_train_nn)\n",
    "features_test_nn = tokenizer.sequences_to_matrix(features_test_nn)"
   ]
  },
  {
   "cell_type": "code",
   "execution_count": 415,
   "id": "827193e6-2a4e-4934-b71c-0ee2e100c8a1",
   "metadata": {},
   "outputs": [
    {
     "data": {
      "text/plain": [
       "'Training dataset shape: 25622'"
      ]
     },
     "execution_count": 415,
     "metadata": {},
     "output_type": "execute_result"
    },
    {
     "data": {
      "text/plain": [
       "'Validation dataset shape: 10981'"
      ]
     },
     "execution_count": 415,
     "metadata": {},
     "output_type": "execute_result"
    }
   ],
   "source": [
    "# Using same data split used for above problem which is cleaned and balanced data\n",
    "\n",
    "# display shape of train and validation data sets\n",
    "\n",
    "f\"Training dataset shape: {features_train_nn.shape[0]}\"\n",
    "f\"Validation dataset shape: {features_test_nn.shape[0]}\""
   ]
  },
  {
   "cell_type": "code",
   "execution_count": 425,
   "id": "31a462a7-d252-4848-bb93-12f1e867035d",
   "metadata": {},
   "outputs": [],
   "source": [
    "# encode the target column into integers\n",
    "\n",
    "one_hot_enc = LabelEncoder()\n",
    "\n",
    "target_train = one_hot_enc.fit_transform(target_train)\n",
    "target_test = one_hot_enc.fit_transform(target_test)"
   ]
  },
  {
   "cell_type": "code",
   "execution_count": 426,
   "id": "3a5c3769-d96a-4f58-b24c-42180b8002c4",
   "metadata": {},
   "outputs": [],
   "source": [
    "# One-hot encode target vector to create a target matrix\n",
    "\n",
    "target_train_nn = to_categorical(target_train)\n",
    "target_test_nn = to_categorical(target_test)"
   ]
  },
  {
   "cell_type": "code",
   "execution_count": 459,
   "id": "1ad9d9a3-e325-487d-a30d-6cac134f0b4e",
   "metadata": {},
   "outputs": [
    {
     "data": {
      "text/plain": [
       "'The input Dimension of Feature is :5000'"
      ]
     },
     "execution_count": 459,
     "metadata": {},
     "output_type": "execute_result"
    }
   ],
   "source": [
    "# input dimension of features\n",
    "\n",
    "input_dim = features_train_nn.shape[1]\n",
    "\n",
    "f\"The input Dimension of Feature is :{input_dim}\""
   ]
  },
  {
   "cell_type": "code",
   "execution_count": 580,
   "id": "5267de43-ef14-406e-a4ef-5c87c25aa9b7",
   "metadata": {},
   "outputs": [],
   "source": [
    "# define the baseline model function\n",
    "\n",
    "def baseline_model():\n",
    "    \n",
    "    # start neural network\n",
    "    model = Sequential()\n",
    "    # rectified unit activation function - first layer     \n",
    "    model.add(Dense(units=10,activation=\"relu\",input_dim = input_dim))\n",
    "    # second layer - rectified unit activation function\n",
    "    model.add(Dense(units=6, activation='relu'))\n",
    "#     # third layer - rectified unit activation function\n",
    "#     model.add(Dense(units=64, activation='relu'))\n",
    "    # final layer - softmax activation function\n",
    "    model.add(Dense(units=3, activation='softmax'))\n",
    "    # compile model\n",
    "    model.compile(loss =  'categorical_crossentropy', optimizer='adam',metrics=['accuracy'])\n",
    "    \n",
    "    return model"
   ]
  },
  {
   "cell_type": "code",
   "execution_count": 581,
   "id": "c6390c6f-a421-4056-a8d9-407a232c9357",
   "metadata": {},
   "outputs": [
    {
     "name": "stdout",
     "output_type": "stream",
     "text": [
      "Model: \"sequential_2\"\n",
      "_________________________________________________________________\n",
      "Layer (type)                 Output Shape              Param #   \n",
      "=================================================================\n",
      "dense_6 (Dense)              (None, 10)                50010     \n",
      "_________________________________________________________________\n",
      "dense_7 (Dense)              (None, 6)                 66        \n",
      "_________________________________________________________________\n",
      "dense_8 (Dense)              (None, 3)                 21        \n",
      "=================================================================\n",
      "Total params: 50,097\n",
      "Trainable params: 50,097\n",
      "Non-trainable params: 0\n",
      "_________________________________________________________________\n"
     ]
    }
   ],
   "source": [
    "# Summary of model\n",
    "\n",
    "baseline_model().summary()"
   ]
  },
  {
   "cell_type": "code",
   "execution_count": 582,
   "id": "8d2cf97f-163d-4e23-a89d-fad8de37c4e9",
   "metadata": {},
   "outputs": [],
   "source": [
    "# sort indices of datasets before training the model\n",
    "\n",
    "X_train.sort_indices()\n",
    "\n",
    "X_test.sort_indices()"
   ]
  },
  {
   "cell_type": "code",
   "execution_count": 583,
   "id": "6f50399e-75a7-45b9-91cf-58bc3af0644c",
   "metadata": {
    "tags": []
   },
   "outputs": [
    {
     "name": "stdout",
     "output_type": "stream",
     "text": [
      "Epoch 1/10\n",
      "51/51 - 2s - loss: 0.9412 - accuracy: 0.6922 - val_loss: 0.8089 - val_accuracy: 0.7185\n",
      "Epoch 2/10\n",
      "51/51 - 0s - loss: 0.7326 - accuracy: 0.7255 - val_loss: 0.6743 - val_accuracy: 0.7288\n",
      "Epoch 3/10\n",
      "51/51 - 0s - loss: 0.6058 - accuracy: 0.7678 - val_loss: 0.5629 - val_accuracy: 0.7995\n",
      "Epoch 4/10\n",
      "51/51 - 0s - loss: 0.4927 - accuracy: 0.8246 - val_loss: 0.4739 - val_accuracy: 0.8305\n",
      "Epoch 5/10\n",
      "51/51 - 0s - loss: 0.3997 - accuracy: 0.8608 - val_loss: 0.4092 - val_accuracy: 0.8508\n",
      "Epoch 6/10\n",
      "51/51 - 0s - loss: 0.3346 - accuracy: 0.8823 - val_loss: 0.3803 - val_accuracy: 0.8576\n",
      "Epoch 7/10\n",
      "51/51 - 0s - loss: 0.2928 - accuracy: 0.8945 - val_loss: 0.3659 - val_accuracy: 0.8598\n",
      "Epoch 8/10\n",
      "51/51 - 0s - loss: 0.2636 - accuracy: 0.9032 - val_loss: 0.3630 - val_accuracy: 0.8590\n",
      "Epoch 9/10\n",
      "51/51 - 0s - loss: 0.2424 - accuracy: 0.9095 - val_loss: 0.3662 - val_accuracy: 0.8565\n",
      "Epoch 10/10\n",
      "51/51 - 0s - loss: 0.2259 - accuracy: 0.9145 - val_loss: 0.3708 - val_accuracy: 0.8552\n"
     ]
    }
   ],
   "source": [
    "# fit the model\n",
    "mod = baseline_model()\n",
    "\n",
    "history = mod.fit(features_train_nn, target_train_nn,epochs=10,batch_size = 512, verbose = 2, \n",
    "                  validation_data =  (features_test_nn,target_test_nn));"
   ]
  },
  {
   "cell_type": "code",
   "execution_count": 589,
   "id": "f30dfae1-91d5-465d-bf56-96be7ec672a8",
   "metadata": {},
   "outputs": [],
   "source": [
    "# clear the session\n",
    "\n",
    "from keras.backend import clear_session\n",
    "\n",
    "clear_session()"
   ]
  },
  {
   "cell_type": "code",
   "execution_count": 585,
   "id": "44019174-6829-4b77-9e9f-b6648d8e46d4",
   "metadata": {},
   "outputs": [
    {
     "data": {
      "text/plain": [
       "'Training accuracy of the model:0.3556'"
      ]
     },
     "execution_count": 585,
     "metadata": {},
     "output_type": "execute_result"
    }
   ],
   "source": [
    "# evaluate the accuracy of  model on Training data\n",
    "\n",
    "loss, accuracy = baseline_model().evaluate(features_train_nn, target_train_nn, verbose=0)\n",
    "\n",
    "f\"Training accuracy of the model:{accuracy:.4f}\""
   ]
  },
  {
   "cell_type": "code",
   "execution_count": 599,
   "id": "58f29ab7-be09-4b41-8b29-91e076ecb719",
   "metadata": {},
   "outputs": [
    {
     "data": {
      "text/plain": [
       "'Testing accuracy of the model:0.6718'"
      ]
     },
     "execution_count": 599,
     "metadata": {},
     "output_type": "execute_result"
    }
   ],
   "source": [
    "# evaluate the accuracy of model on Testing data\n",
    "\n",
    "loss, accuracy = baseline_model().evaluate(features_test_nn, target_test_nn, verbose=0)\n",
    "\n",
    "f\"Testing accuracy of the model:{accuracy:.4f}\""
   ]
  },
  {
   "cell_type": "markdown",
   "id": "2708dc64-b79c-4a72-8e92-473966149944",
   "metadata": {},
   "source": [
    "#### _Plot the accuracy and loss of model_"
   ]
  },
  {
   "cell_type": "code",
   "execution_count": 600,
   "id": "bdfda793-3761-4e75-8574-17a9766d9947",
   "metadata": {},
   "outputs": [],
   "source": [
    "# plot accuracy and loss\n",
    "\n",
    "plt.style.use('ggplot')\n",
    "\n",
    "# create function to plot\n",
    "\n",
    "def plot_history(history):\n",
    "    acc = history.history['accuracy']\n",
    "    val_acc = history.history['val_accuracy']\n",
    "    loss = history.history['loss']\n",
    "    val_loss = history.history['val_loss']\n",
    "    x = range(1, len(acc)+1)\n",
    "    \n",
    "#     accuracy plot\n",
    "    plt.figure(figsize=(28,7))\n",
    "    plt.subplot(1,2,1)\n",
    "    plt.plot(x,acc,'b',label='Training Accuracy')\n",
    "    plt.plot(x,val_acc,'g',label='Validation Accuracy')\n",
    "    plt.title('Training and Validation Accuracy')\n",
    "    plt.legend()\n",
    "    \n",
    "#     loss function plot\n",
    "    plt.figure(figsize=(28,7))\n",
    "    plt.subplot(1,2,1)\n",
    "    plt.plot(x,loss,'b',label='Training Loss')\n",
    "    plt.plot(x,val_loss,'g',label='Validation Loss')\n",
    "    plt.title('Training and Validation Loss')\n",
    "    plt.legend()"
   ]
  },
  {
   "cell_type": "code",
   "execution_count": 601,
   "id": "f4276b0a-6f9c-487a-8359-cc368622f1fa",
   "metadata": {},
   "outputs": [
    {
     "data": {
      "image/png": "[encoded data removed]",
      "text/plain": [
       "<Figure size 2016x504 with 1 Axes>"
      ]
     },
     "metadata": {},
     "output_type": "display_data"
    },
    {
     "data": {
      "image/png": "[encoded data removed]",
      "text/plain": [
       "<Figure size 2016x504 with 1 Axes>"
      ]
     },
     "metadata": {},
     "output_type": "display_data"
    }
   ],
   "source": [
    "#  plot accuracy and loss\n",
    "\n",
    "\n",
    "plot_history(history);"
   ]
  },
  {
   "cell_type": "markdown",
   "id": "6d8dd1a2-d047-457b-b08f-6363e5179e14",
   "metadata": {},
   "source": [
    "#### _Model Evaluations_"
   ]
  },
  {
   "cell_type": "code",
   "execution_count": 602,
   "id": "ef01a362-b815-4cfc-bc90-fa1f00c5febf",
   "metadata": {},
   "outputs": [],
   "source": [
    "# import required packages\n",
    "\n",
    "from sklearn.metrics import accuracy_score, precision_score, recall_score, f1_score, confusion_matrix, classification_report"
   ]
  },
  {
   "cell_type": "code",
   "execution_count": 603,
   "id": "c6b56045-a8cd-4575-9b13-0855f5dfa9e6",
   "metadata": {},
   "outputs": [],
   "source": [
    "# predict the classes for test set\n",
    "\n",
    "pred_prob = baseline_model().predict(features_test_nn, verbose=0)\n",
    "\n",
    "# predict crisp classes for test set\n",
    "\n",
    "pred_class = np.argmax(baseline_model().predict(features_test_nn,verbose=0), axis=-1)\n",
    "# pred_class = to_categorical(pred_class)"
   ]
  },
  {
   "cell_type": "code",
   "execution_count": 604,
   "id": "4efc63a1-af5e-400c-b098-5b5ba5586d54",
   "metadata": {},
   "outputs": [],
   "source": [
    "testy = [np.argmax(e,axis=None,out=None) for e in target_test_nn]"
   ]
  },
  {
   "cell_type": "code",
   "execution_count": 605,
   "id": "6506c172-15a7-43fe-9616-87b1dbf62ce7",
   "metadata": {},
   "outputs": [
    {
     "data": {
      "text/plain": [
       "'Accuracy: 0.41817685092432383'"
      ]
     },
     "execution_count": 605,
     "metadata": {},
     "output_type": "execute_result"
    },
    {
     "data": {
      "text/plain": [
       "'Precision:[0.04787962 0.22484234 0.71328535]'"
      ]
     },
     "execution_count": 605,
     "metadata": {},
     "output_type": "execute_result"
    },
    {
     "data": {
      "text/plain": [
       "'Recall: [0.20710059 0.31733746 0.46476553]'"
      ]
     },
     "execution_count": 605,
     "metadata": {},
     "output_type": "execute_result"
    },
    {
     "data": {
      "text/plain": [
       "'F1 Score:[0.07777778 0.26320013 0.56281176]'"
      ]
     },
     "execution_count": 605,
     "metadata": {},
     "output_type": "execute_result"
    }
   ],
   "source": [
    "# accuracy, precision, recall and f1 score\n",
    "\n",
    "accuracy = accuracy_score(testy,pred_class)\n",
    "\n",
    "precision = precision_score(testy,pred_class, average=None)\n",
    "\n",
    "recall = recall_score(testy,pred_class, average=None)\n",
    "\n",
    "f1 = f1_score(testy,pred_class, average=None)\n",
    "\n",
    "\n",
    "f\"Accuracy: {accuracy}\"\n",
    "f\"Precision:{precision}\"\n",
    "f\"Recall: {recall}\"\n",
    "f\"F1 Score:{f1}\""
   ]
  },
  {
   "cell_type": "code",
   "execution_count": 606,
   "id": "7d238cb5-7860-40d9-84a1-06d655f3853c",
   "metadata": {},
   "outputs": [
    {
     "data": {
      "text/plain": [
       "array([[ 105,  147,  255],\n",
       "       [ 545,  820, 1219],\n",
       "       [1543, 2680, 3667]])"
      ]
     },
     "execution_count": 606,
     "metadata": {},
     "output_type": "execute_result"
    }
   ],
   "source": [
    "# confusion matrix\n",
    "\n",
    "matrix = confusion_matrix(testy,pred_class)\n",
    "matrix"
   ]
  },
  {
   "cell_type": "code",
   "execution_count": 609,
   "id": "0a4c086f-8797-4427-8945-148519a3b105",
   "metadata": {},
   "outputs": [],
   "source": [
    "# pd.crosstab(testy,pred_class)"
   ]
  },
  {
   "cell_type": "code",
   "execution_count": 607,
   "id": "65b7f771-cd3e-41ca-acbc-d63743b32e66",
   "metadata": {},
   "outputs": [
    {
     "name": "stdout",
     "output_type": "stream",
     "text": [
      "                        precision    recall  f1-score   support\n",
      "\n",
      "science_and_technology       0.05      0.21      0.08       507\n",
      "                sports       0.22      0.32      0.26      2584\n",
      "           video_games       0.71      0.46      0.56      7890\n",
      "\n",
      "              accuracy                           0.42     10981\n",
      "             macro avg       0.33      0.33      0.30     10981\n",
      "          weighted avg       0.57      0.42      0.47     10981\n",
      "\n"
     ]
    }
   ],
   "source": [
    "# display the classififcation report\n",
    "\n",
    "print(classification_report(testy,pred_class, target_names=class_mapping.keys()))"
   ]
  },
  {
   "cell_type": "markdown",
   "id": "4411beaf-8edf-417c-a267-f7a4a3090e36",
   "metadata": {},
   "source": [
    "# END"
   ]
  },
  {
   "cell_type": "markdown",
   "id": "55336822-538b-44a5-95f5-7bfc2e44c6a1",
   "metadata": {},
   "source": [
    "## 3. Classifying Images"
   ]
  },
  {
   "cell_type": "markdown",
   "id": "f50463a2-51aa-41b8-b922-a1a59e5f5a42",
   "metadata": {},
   "source": [
    "#### _import required packages_"
   ]
  },
  {
   "cell_type": "code",
   "execution_count": 292,
   "id": "4136a7c8-bcce-4490-9deb-8fb53c1bbcde",
   "metadata": {},
   "outputs": [
    {
     "data": {
      "text/plain": [
       "'2.5.0'"
      ]
     },
     "execution_count": 292,
     "metadata": {},
     "output_type": "execute_result"
    }
   ],
   "source": [
    "import tensorflow\n",
    "\n",
    "tensorflow.__version__"
   ]
  },
  {
   "cell_type": "code",
   "execution_count": 136,
   "id": "4e07d464-3ab2-4d7f-9a35-0e283f3daceb",
   "metadata": {},
   "outputs": [],
   "source": [
    "from keras.datasets import mnist\n",
    "from keras.layers import Dense, Dropout, Flatten\n",
    "from keras.layers.convolutional import Conv2D, MaxPooling2D\n",
    "from keras.utils import np_utils\n",
    "from keras import backend as K"
   ]
  },
  {
   "cell_type": "code",
   "execution_count": 293,
   "id": "ee4f8144-ec3e-49ce-8b03-be980a3aa400",
   "metadata": {},
   "outputs": [],
   "source": [
    "#  set the color channel value to last for TensorFlow 2.X\n",
    "\n",
    "K.set_image_data_format(\"channels_last\")"
   ]
  },
  {
   "cell_type": "code",
   "execution_count": 294,
   "id": "530fbe18-3919-4c99-8bc4-0d98bf4083b4",
   "metadata": {},
   "outputs": [],
   "source": [
    "# set seed\n",
    "\n",
    "np.random.seed(0)"
   ]
  },
  {
   "cell_type": "code",
   "execution_count": 295,
   "id": "0906eb90-7d45-4aab-8315-df0db0648e7e",
   "metadata": {},
   "outputs": [],
   "source": [
    "#  set image information\n",
    "\n",
    "channels = 1\n",
    "height = 28\n",
    "width = 28"
   ]
  },
  {
   "cell_type": "code",
   "execution_count": 296,
   "id": "3d0aeea2-3d89-457b-84e0-56b28b25c062",
   "metadata": {},
   "outputs": [],
   "source": [
    "# load data and target from MNIST data\n",
    "\n",
    "(data_train, target_train), (data_test, target_test) = mnist.load_data()"
   ]
  },
  {
   "cell_type": "code",
   "execution_count": 297,
   "id": "538f44f8-f752-4697-8ac8-e2a822920f39",
   "metadata": {},
   "outputs": [
    {
     "data": {
      "text/plain": [
       "(60000, 28, 28)"
      ]
     },
     "execution_count": 297,
     "metadata": {},
     "output_type": "execute_result"
    }
   ],
   "source": [
    "data_train.shape"
   ]
  },
  {
   "cell_type": "code",
   "execution_count": 298,
   "id": "a4683df9-f2b2-448a-9ea1-3fb8f96a45c3",
   "metadata": {},
   "outputs": [],
   "source": [
    "# reshape training image data ino features\n",
    "\n",
    "data_train = data_train.reshape(data_train.shape[0],height, width, channels)"
   ]
  },
  {
   "cell_type": "code",
   "execution_count": 299,
   "id": "a68b0beb-38bc-441e-b78d-fe70526b6d18",
   "metadata": {},
   "outputs": [],
   "source": [
    "# reshape test image data into features\n",
    "\n",
    "data_test = data_test.reshape(data_test.shape[0], height, width, channels)"
   ]
  },
  {
   "cell_type": "code",
   "execution_count": 300,
   "id": "d384b2e3-a959-4615-8646-4294cfa6fcd4",
   "metadata": {},
   "outputs": [],
   "source": [
    "# rescale pixel intensity to between 0, 1\n",
    "\n",
    "features_train =  data_train/255\n",
    "features_test = data_test/255"
   ]
  },
  {
   "cell_type": "code",
   "execution_count": 301,
   "id": "366c2845-8ff7-42af-ba6b-4853522c6b4c",
   "metadata": {},
   "outputs": [],
   "source": [
    "# one-hot encode target\n",
    "\n",
    "target_train = np_utils.to_categorical(target_train)\n",
    "target_test = np_utils.to_categorical(target_test)\n",
    "number_of_classes = target_test.shape[1]"
   ]
  },
  {
   "cell_type": "code",
   "execution_count": 304,
   "id": "f25b7b6e-0fb1-471c-a174-a9a7736998e1",
   "metadata": {},
   "outputs": [],
   "source": [
    "# start neural network\n",
    "\n",
    "network = Sequential()"
   ]
  },
  {
   "cell_type": "code",
   "execution_count": 305,
   "id": "28e99a70-1f8d-4609-a5ca-5b7c523b0860",
   "metadata": {},
   "outputs": [],
   "source": [
    "# Add convolutional layer with 64 filters, a 5x5 window, and ReLU activation function\n",
    "\n",
    "network.add(Conv2D(filters=64,kernel_size=(5, 5),input_shape=( width, height,channels),activation='relu'))"
   ]
  },
  {
   "cell_type": "code",
   "execution_count": 306,
   "id": "b024278c-3c10-4bec-a3c1-af7f42d312e4",
   "metadata": {},
   "outputs": [],
   "source": [
    "# Add max pooling layer with a 2x2 window\n",
    "\n",
    "network.add(MaxPooling2D(pool_size=(2, 2)))"
   ]
  },
  {
   "cell_type": "code",
   "execution_count": 307,
   "id": "275b6d12-5ed8-4421-a326-310b1062006e",
   "metadata": {},
   "outputs": [],
   "source": [
    "# Add dropout layer\n",
    "\n",
    "network.add(Dropout(0.5))"
   ]
  },
  {
   "cell_type": "code",
   "execution_count": 308,
   "id": "5be3d6ed-bcc5-49bd-9559-fef907d23662",
   "metadata": {},
   "outputs": [],
   "source": [
    "# Add layer to flatten input\n",
    "\n",
    "network.add(Flatten())"
   ]
  },
  {
   "cell_type": "code",
   "execution_count": 309,
   "id": "fcaaac93-e556-41e3-94b5-ae09a6f3b0d2",
   "metadata": {},
   "outputs": [],
   "source": [
    "# Add fully connected layer of 128 units with a ReLU activation function\n",
    "\n",
    "network.add(Dense(128, activation=\"relu\"))"
   ]
  },
  {
   "cell_type": "code",
   "execution_count": 310,
   "id": "9d76a9da-1b93-48e7-98fb-ebfbc92a8727",
   "metadata": {},
   "outputs": [],
   "source": [
    "# Add dropout layer\n",
    "\n",
    "network.add(Dropout(0.5))"
   ]
  },
  {
   "cell_type": "code",
   "execution_count": 311,
   "id": "d80ea660-4e8f-47a9-bc8b-b5e7aaf1555f",
   "metadata": {},
   "outputs": [],
   "source": [
    "# Add fully connected layer with a softmax activation function\n",
    "\n",
    "network.add(Dense(number_of_classes, activation=\"softmax\"))"
   ]
  },
  {
   "cell_type": "code",
   "execution_count": 312,
   "id": "c2566317-6482-47b2-8c4e-ab673410f091",
   "metadata": {},
   "outputs": [],
   "source": [
    "# Compile neural network\n",
    "\n",
    "network.compile(loss=\"categorical_crossentropy\", # Cross-entropy\n",
    "                   optimizer=\"rmsprop\", # Root Mean Square Propagation\n",
    "                   metrics=[\"accuracy\"]) # Accuracy performance metric"
   ]
  },
  {
   "cell_type": "code",
   "execution_count": 313,
   "id": "44c5fe4c-0073-454f-8349-3c6e3ad5873d",
   "metadata": {
    "tags": []
   },
   "outputs": [
    {
     "name": "stdout",
     "output_type": "stream",
     "text": [
      "Epoch 1/2\n",
      "60/60 [==============================] - 28s 443ms/step - loss: 0.9808 - accuracy: 0.6814 - val_loss: 0.1484 - val_accuracy: 0.9586\n",
      "Epoch 2/2\n",
      "60/60 [==============================] - 24s 401ms/step - loss: 0.2056 - accuracy: 0.9404 - val_loss: 0.0881 - val_accuracy: 0.9743\n"
     ]
    },
    {
     "data": {
      "text/plain": [
       "<keras.callbacks.History at 0x188760550>"
      ]
     },
     "execution_count": 313,
     "metadata": {},
     "output_type": "execute_result"
    }
   ],
   "source": [
    "# Train neural network\n",
    "\n",
    "network.fit(features_train, # Features\n",
    "               target_train, # Target\n",
    "               epochs=2, # Number of epochs\n",
    "               verbose=1, # Don't print description after each epoch\n",
    "               batch_size=1000, # Number of observations per batch\n",
    "               validation_data=(features_test, target_test)) # Data for evaluation"
   ]
  },
  {
   "cell_type": "code",
   "execution_count": 314,
   "id": "0d01d265-22f5-4e98-9492-4bbc9a435976",
   "metadata": {
    "tags": []
   },
   "outputs": [
    {
     "data": {
      "text/plain": [
       "'Test Score: 0.08808194100856781'"
      ]
     },
     "execution_count": 314,
     "metadata": {},
     "output_type": "execute_result"
    },
    {
     "data": {
      "text/plain": [
       "'Test Accuracy: 0.9743000268936157'"
      ]
     },
     "execution_count": 314,
     "metadata": {},
     "output_type": "execute_result"
    }
   ],
   "source": [
    "# accuracy of the model\n",
    "\n",
    "score = network.evaluate(features_test,target_test, verbose=0)\n",
    "\n",
    "f\"Test Score: {score[0]}\"\n",
    "\n",
    "f\"Test Accuracy: {score[1]}\""
   ]
  },
  {
   "cell_type": "code",
   "execution_count": 334,
   "id": "35752de8-2f51-4d1d-a9d5-5084fe019133",
   "metadata": {},
   "outputs": [
    {
     "data": {
      "image/png": "[encoded data removed]",
      "text/plain": [
       "<Figure size 504x504 with 1 Axes>"
      ]
     },
     "metadata": {},
     "output_type": "display_data"
    }
   ],
   "source": [
    "#  evaluation the model by predicting the value\n",
    "\n",
    "plt.figure(figsize=(7,7))\n",
    "\n",
    "predictions = network.predict(features_test)\n",
    "n = 1\n",
    "plt.imshow(features_test[n].reshape(28, 28), cmap=plt.cm.binary)\n",
    "plt.title(np.argmax(predictions[n], axis=0), fontdict={'fontsize':22})\n",
    "plt.show();"
   ]
  },
  {
   "cell_type": "markdown",
   "id": "4c4fe82b-5e51-49e7-8218-9f998cd0b699",
   "metadata": {},
   "source": [
    "# END"
   ]
  }
 ],
 "metadata": {
  "kernelspec": {
   "display_name": "Python 3",
   "language": "python",
   "name": "python3"
  },
  "language_info": {
   "codemirror_mode": {
    "name": "ipython",
    "version": 3
   },
   "file_extension": ".py",
   "mimetype": "text/x-python",
   "name": "python",
   "nbconvert_exporter": "python",
   "pygments_lexer": "ipython3",
   "version": "3.8.2"
  }
 },
 "nbformat": 4,
 "nbformat_minor": 5
}
