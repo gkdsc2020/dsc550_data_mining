{
 "cells": [
  {
   "cell_type": "markdown",
   "id": "5ec02a23-ab15-48db-8cab-4f082e9828c7",
   "metadata": {},
   "source": [
    "# Assignment - Exercise 4.2 Sentiment Analysis\n",
    "## Week#4\n",
    "## Date - July-02-2021\n",
    "## Author - Ganesh Kale"
   ]
  },
  {
   "cell_type": "markdown",
   "id": "0f257bee-40a1-465f-abbc-e54db7b8ef22",
   "metadata": {},
   "source": [
    "#### Import required packages"
   ]
  },
  {
   "cell_type": "code",
   "execution_count": 8,
   "id": "be96bce2-dd60-4a4e-ad9c-b10c36ec871e",
   "metadata": {},
   "outputs": [],
   "source": [
    "import numpy as np\n",
    "import pandas as pd\n",
    "import matplotlib.pyplot as plt\n",
    "import seaborn as sns\n",
    "import nltk\n",
    "from nltk.sentiment.vader import SentimentIntensityAnalyzer\n",
    "\n",
    "%matplotlib inline\n",
    "\n",
    "from IPython.core.interactiveshell import InteractiveShell\n",
    "InteractiveShell.ast_node_interactivity = 'all'"
   ]
  },
  {
   "cell_type": "markdown",
   "id": "ebf812ed-00b1-4d4e-ab88-5f42658e6312",
   "metadata": {},
   "source": [
    "Load data file into dataframe"
   ]
  },
  {
   "cell_type": "code",
   "execution_count": 9,
   "id": "64db0a50-b120-4895-bf15-dc80e4c2abcd",
   "metadata": {},
   "outputs": [],
   "source": [
    "comm = pd.read_csv(\"data/DailyComments.csv\")"
   ]
  },
  {
   "cell_type": "code",
   "execution_count": 10,
   "id": "93defddd-b5f5-4a44-b3d4-c2e2d01df40a",
   "metadata": {},
   "outputs": [
    {
     "data": {
      "text/html": [
       "<div>\n",
       "<style scoped>\n",
       "    .dataframe tbody tr th:only-of-type {\n",
       "        vertical-align: middle;\n",
       "    }\n",
       "\n",
       "    .dataframe tbody tr th {\n",
       "        vertical-align: top;\n",
       "    }\n",
       "\n",
       "    .dataframe thead th {\n",
       "        text-align: right;\n",
       "    }\n",
       "</style>\n",
       "<table border=\"1\" class=\"dataframe\">\n",
       "  <thead>\n",
       "    <tr style=\"text-align: right;\">\n",
       "      <th></th>\n",
       "      <th>Day of Week</th>\n",
       "      <th>comments</th>\n",
       "    </tr>\n",
       "  </thead>\n",
       "  <tbody>\n",
       "    <tr>\n",
       "      <th>0</th>\n",
       "      <td>Monday</td>\n",
       "      <td>Hello, how are you?</td>\n",
       "    </tr>\n",
       "    <tr>\n",
       "      <th>1</th>\n",
       "      <td>Tuesday</td>\n",
       "      <td>Today is a good day!</td>\n",
       "    </tr>\n",
       "    <tr>\n",
       "      <th>2</th>\n",
       "      <td>Wednesday</td>\n",
       "      <td>It's my birthday so it's a really special day!</td>\n",
       "    </tr>\n",
       "    <tr>\n",
       "      <th>3</th>\n",
       "      <td>Thursday</td>\n",
       "      <td>Today is neither a good day or a bad day!</td>\n",
       "    </tr>\n",
       "    <tr>\n",
       "      <th>4</th>\n",
       "      <td>Friday</td>\n",
       "      <td>I'm having a bad day.</td>\n",
       "    </tr>\n",
       "    <tr>\n",
       "      <th>5</th>\n",
       "      <td>Saturday</td>\n",
       "      <td>There' s nothing special happening today.</td>\n",
       "    </tr>\n",
       "    <tr>\n",
       "      <th>6</th>\n",
       "      <td>Sunday</td>\n",
       "      <td>Today is a SUPER good day!</td>\n",
       "    </tr>\n",
       "  </tbody>\n",
       "</table>\n",
       "</div>"
      ],
      "text/plain": [
       "  Day of Week                                        comments\n",
       "0      Monday                             Hello, how are you?\n",
       "1     Tuesday                            Today is a good day!\n",
       "2   Wednesday  It's my birthday so it's a really special day!\n",
       "3    Thursday       Today is neither a good day or a bad day!\n",
       "4      Friday                           I'm having a bad day.\n",
       "5    Saturday       There' s nothing special happening today.\n",
       "6      Sunday                      Today is a SUPER good day!"
      ]
     },
     "execution_count": 10,
     "metadata": {},
     "output_type": "execute_result"
    }
   ],
   "source": [
    "comm"
   ]
  },
  {
   "cell_type": "markdown",
   "id": "b0b2c374-926b-4018-8baa-e01fbedafa4b",
   "metadata": {},
   "source": [
    "### Scheme Used for Sentiment Analysis - VADER from NLTK"
   ]
  },
  {
   "cell_type": "markdown",
   "id": "23072c7d-9dc5-4dce-a2ec-7699c53c0164",
   "metadata": {},
   "source": [
    "VADER(Valence Aware Dictionary for sEntiment Reasoning) is used to categorise the each comment as positive or negative or neutral. This model used for text sentiment analysis that is sensitive to both polarity (positive and negative) and intensity or strength of emotion. This model is from the natural Language Tool Kit(NLTK) package and used on unlableled text.\n",
    "Vader has built in lexicons of sentiment related words and it is pretrained model that uses rule based values tuned to sentiments from social media. This meodel returns the 4 scores based on the given sentence, these scores are related to positive or neutral or neagtive score and its compound score.\n",
    "- pos: The probability of the sentiment to be positive\n",
    "- neu: The probability of the sentiment to be neutral\n",
    "- neg: The probability of the sentiment to be negative\n",
    "- compound: The Normalized compund score which calculates the sum of all lexicon ratings and takes values from -1 to 1.\n",
    "\n",
    "The probabilities of positive, negative and neutral add up to 1 and compound score range from -1 to 1.\n",
    "The threshold values of compund score for each polarity is as below - \n",
    "- positive: compound score >=0.05\n",
    "- neutral: compound score between -0.05 to 0.05\n",
    "- negative: compound score <= -0.05"
   ]
  },
  {
   "cell_type": "code",
   "execution_count": 11,
   "id": "2ae6009a-f4b8-40ec-92f4-9f8722660c5d",
   "metadata": {},
   "outputs": [
    {
     "name": "stderr",
     "output_type": "stream",
     "text": [
      "[nltk_data] Downloading package vader_lexicon to\n",
      "[nltk_data]     /Users/ganeshkale/nltk_data...\n",
      "[nltk_data]   Package vader_lexicon is already up-to-date!\n"
     ]
    },
    {
     "data": {
      "text/plain": [
       "True"
      ]
     },
     "execution_count": 11,
     "metadata": {},
     "output_type": "execute_result"
    }
   ],
   "source": [
    "nltk.download('vader_lexicon')\n",
    "\n",
    "vader = SentimentIntensityAnalyzer()"
   ]
  },
  {
   "cell_type": "code",
   "execution_count": 12,
   "id": "683e3c46-f42d-4fbe-8a6e-66c665457642",
   "metadata": {},
   "outputs": [],
   "source": [
    "# function to get max polarity score \n",
    "\n",
    "def max_score(text):\n",
    "    pos = vader.polarity_scores(text)['pos']\n",
    "    neg = vader.polarity_scores(text)['neg']\n",
    "    neu = vader.polarity_scores(text)['neu']\n",
    "    \n",
    "    if max(pos,neg,neu)==pos:\n",
    "        return 'positive'\n",
    "    elif max(pos,neg,neu)==neg:\n",
    "        return 'negative'\n",
    "    else:\n",
    "        return 'neutral'"
   ]
  },
  {
   "cell_type": "markdown",
   "id": "75badc10-8a09-4067-bbe9-3162059a9195",
   "metadata": {},
   "source": [
    "create separate column to tag sentiment either positive, negative or neutral"
   ]
  },
  {
   "cell_type": "code",
   "execution_count": 13,
   "id": "aa646795-b61c-4965-b31d-71112c871c8c",
   "metadata": {},
   "outputs": [],
   "source": [
    "comm['sentiment'] = comm.comments.apply(lambda x : max_score(x))"
   ]
  },
  {
   "cell_type": "markdown",
   "id": "776dc49d-8000-4e33-908f-0d284052e3fe",
   "metadata": {},
   "source": [
    "Create new column for compound score"
   ]
  },
  {
   "cell_type": "code",
   "execution_count": 14,
   "id": "97bb9717-405d-44f8-b207-65b77a957d71",
   "metadata": {},
   "outputs": [],
   "source": [
    "comm['compound'] = comm.comments.apply(lambda x: vader.polarity_scores(x)['compound'])\n",
    "comm['positive'] = comm.comments.apply(lambda x: vader.polarity_scores(x)['pos'])\n",
    "comm['negative'] = comm.comments.apply(lambda x: vader.polarity_scores(x)['neg'])\n",
    "comm['neutral'] = comm.comments.apply(lambda x: vader.polarity_scores(x)['neu'])"
   ]
  },
  {
   "cell_type": "code",
   "execution_count": 15,
   "id": "77cfb5ab-5349-45c3-83e0-9b3db5ac06b2",
   "metadata": {},
   "outputs": [
    {
     "data": {
      "text/html": [
       "<div>\n",
       "<style scoped>\n",
       "    .dataframe tbody tr th:only-of-type {\n",
       "        vertical-align: middle;\n",
       "    }\n",
       "\n",
       "    .dataframe tbody tr th {\n",
       "        vertical-align: top;\n",
       "    }\n",
       "\n",
       "    .dataframe thead th {\n",
       "        text-align: right;\n",
       "    }\n",
       "</style>\n",
       "<table border=\"1\" class=\"dataframe\">\n",
       "  <thead>\n",
       "    <tr style=\"text-align: right;\">\n",
       "      <th></th>\n",
       "      <th>Day of Week</th>\n",
       "      <th>comments</th>\n",
       "      <th>sentiment</th>\n",
       "      <th>compound</th>\n",
       "      <th>positive</th>\n",
       "      <th>negative</th>\n",
       "      <th>neutral</th>\n",
       "    </tr>\n",
       "  </thead>\n",
       "  <tbody>\n",
       "    <tr>\n",
       "      <th>0</th>\n",
       "      <td>Monday</td>\n",
       "      <td>Hello, how are you?</td>\n",
       "      <td>neutral</td>\n",
       "      <td>0.0000</td>\n",
       "      <td>0.000</td>\n",
       "      <td>0.000</td>\n",
       "      <td>1.000</td>\n",
       "    </tr>\n",
       "    <tr>\n",
       "      <th>1</th>\n",
       "      <td>Tuesday</td>\n",
       "      <td>Today is a good day!</td>\n",
       "      <td>positive</td>\n",
       "      <td>0.4926</td>\n",
       "      <td>0.516</td>\n",
       "      <td>0.000</td>\n",
       "      <td>0.484</td>\n",
       "    </tr>\n",
       "    <tr>\n",
       "      <th>2</th>\n",
       "      <td>Wednesday</td>\n",
       "      <td>It's my birthday so it's a really special day!</td>\n",
       "      <td>neutral</td>\n",
       "      <td>0.5497</td>\n",
       "      <td>0.336</td>\n",
       "      <td>0.000</td>\n",
       "      <td>0.664</td>\n",
       "    </tr>\n",
       "    <tr>\n",
       "      <th>3</th>\n",
       "      <td>Thursday</td>\n",
       "      <td>Today is neither a good day or a bad day!</td>\n",
       "      <td>negative</td>\n",
       "      <td>-0.7350</td>\n",
       "      <td>0.000</td>\n",
       "      <td>0.508</td>\n",
       "      <td>0.492</td>\n",
       "    </tr>\n",
       "    <tr>\n",
       "      <th>4</th>\n",
       "      <td>Friday</td>\n",
       "      <td>I'm having a bad day.</td>\n",
       "      <td>negative</td>\n",
       "      <td>-0.5423</td>\n",
       "      <td>0.000</td>\n",
       "      <td>0.538</td>\n",
       "      <td>0.462</td>\n",
       "    </tr>\n",
       "    <tr>\n",
       "      <th>5</th>\n",
       "      <td>Saturday</td>\n",
       "      <td>There' s nothing special happening today.</td>\n",
       "      <td>neutral</td>\n",
       "      <td>-0.3089</td>\n",
       "      <td>0.000</td>\n",
       "      <td>0.361</td>\n",
       "      <td>0.639</td>\n",
       "    </tr>\n",
       "    <tr>\n",
       "      <th>6</th>\n",
       "      <td>Sunday</td>\n",
       "      <td>Today is a SUPER good day!</td>\n",
       "      <td>positive</td>\n",
       "      <td>0.8327</td>\n",
       "      <td>0.723</td>\n",
       "      <td>0.000</td>\n",
       "      <td>0.277</td>\n",
       "    </tr>\n",
       "  </tbody>\n",
       "</table>\n",
       "</div>"
      ],
      "text/plain": [
       "  Day of Week                                        comments sentiment  \\\n",
       "0      Monday                             Hello, how are you?   neutral   \n",
       "1     Tuesday                            Today is a good day!  positive   \n",
       "2   Wednesday  It's my birthday so it's a really special day!   neutral   \n",
       "3    Thursday       Today is neither a good day or a bad day!  negative   \n",
       "4      Friday                           I'm having a bad day.  negative   \n",
       "5    Saturday       There' s nothing special happening today.   neutral   \n",
       "6      Sunday                      Today is a SUPER good day!  positive   \n",
       "\n",
       "   compound  positive  negative  neutral  \n",
       "0    0.0000     0.000     0.000    1.000  \n",
       "1    0.4926     0.516     0.000    0.484  \n",
       "2    0.5497     0.336     0.000    0.664  \n",
       "3   -0.7350     0.000     0.508    0.492  \n",
       "4   -0.5423     0.000     0.538    0.462  \n",
       "5   -0.3089     0.000     0.361    0.639  \n",
       "6    0.8327     0.723     0.000    0.277  "
      ]
     },
     "execution_count": 15,
     "metadata": {},
     "output_type": "execute_result"
    }
   ],
   "source": [
    "comm"
   ]
  },
  {
   "cell_type": "markdown",
   "id": "daa5387c-0820-419e-a946-f08a8d029479",
   "metadata": {},
   "source": [
    "### The Sentiment of each comments"
   ]
  },
  {
   "cell_type": "code",
   "execution_count": 16,
   "id": "211cde6f-61d2-4446-9190-7bfb042f3a8e",
   "metadata": {
    "tags": []
   },
   "outputs": [
    {
     "data": {
      "text/html": [
       "<div>\n",
       "<style scoped>\n",
       "    .dataframe tbody tr th:only-of-type {\n",
       "        vertical-align: middle;\n",
       "    }\n",
       "\n",
       "    .dataframe tbody tr th {\n",
       "        vertical-align: top;\n",
       "    }\n",
       "\n",
       "    .dataframe thead th {\n",
       "        text-align: right;\n",
       "    }\n",
       "</style>\n",
       "<table border=\"1\" class=\"dataframe\">\n",
       "  <thead>\n",
       "    <tr style=\"text-align: right;\">\n",
       "      <th></th>\n",
       "      <th>Day of Week</th>\n",
       "      <th>comments</th>\n",
       "      <th>sentiment</th>\n",
       "    </tr>\n",
       "  </thead>\n",
       "  <tbody>\n",
       "    <tr>\n",
       "      <th>0</th>\n",
       "      <td>Monday</td>\n",
       "      <td>Hello, how are you?</td>\n",
       "      <td>neutral</td>\n",
       "    </tr>\n",
       "    <tr>\n",
       "      <th>1</th>\n",
       "      <td>Tuesday</td>\n",
       "      <td>Today is a good day!</td>\n",
       "      <td>positive</td>\n",
       "    </tr>\n",
       "    <tr>\n",
       "      <th>2</th>\n",
       "      <td>Wednesday</td>\n",
       "      <td>It's my birthday so it's a really special day!</td>\n",
       "      <td>neutral</td>\n",
       "    </tr>\n",
       "    <tr>\n",
       "      <th>3</th>\n",
       "      <td>Thursday</td>\n",
       "      <td>Today is neither a good day or a bad day!</td>\n",
       "      <td>negative</td>\n",
       "    </tr>\n",
       "    <tr>\n",
       "      <th>4</th>\n",
       "      <td>Friday</td>\n",
       "      <td>I'm having a bad day.</td>\n",
       "      <td>negative</td>\n",
       "    </tr>\n",
       "    <tr>\n",
       "      <th>5</th>\n",
       "      <td>Saturday</td>\n",
       "      <td>There' s nothing special happening today.</td>\n",
       "      <td>neutral</td>\n",
       "    </tr>\n",
       "    <tr>\n",
       "      <th>6</th>\n",
       "      <td>Sunday</td>\n",
       "      <td>Today is a SUPER good day!</td>\n",
       "      <td>positive</td>\n",
       "    </tr>\n",
       "  </tbody>\n",
       "</table>\n",
       "</div>"
      ],
      "text/plain": [
       "  Day of Week                                        comments sentiment\n",
       "0      Monday                             Hello, how are you?   neutral\n",
       "1     Tuesday                            Today is a good day!  positive\n",
       "2   Wednesday  It's my birthday so it's a really special day!   neutral\n",
       "3    Thursday       Today is neither a good day or a bad day!  negative\n",
       "4      Friday                           I'm having a bad day.  negative\n",
       "5    Saturday       There' s nothing special happening today.   neutral\n",
       "6      Sunday                      Today is a SUPER good day!  positive"
      ]
     },
     "execution_count": 16,
     "metadata": {},
     "output_type": "execute_result"
    }
   ],
   "source": [
    "comm.filter(['Day of Week','comments','sentiment'])"
   ]
  },
  {
   "cell_type": "markdown",
   "id": "afccaeef-ab66-42af-aa4c-588c3f181afb",
   "metadata": {},
   "source": [
    "# Sentiment Analysis on different Data Set - tweets from twitter"
   ]
  },
  {
   "cell_type": "markdown",
   "id": "aac028ab-96af-4fd0-b345-9aa83539e3d4",
   "metadata": {},
   "source": [
    "Load tweets data set from kaggle datasets"
   ]
  },
  {
   "cell_type": "code",
   "execution_count": 17,
   "id": "490f35c9-df07-4c3c-8c74-43d0cf598466",
   "metadata": {},
   "outputs": [],
   "source": [
    "tweets = pd.read_csv(\"data/tweets.csv\")"
   ]
  },
  {
   "cell_type": "code",
   "execution_count": 18,
   "id": "1565e150-e0f4-4ff4-993f-5f972d0ca0a1",
   "metadata": {},
   "outputs": [
    {
     "data": {
      "text/plain": [
       "(17197, 2)"
      ]
     },
     "execution_count": 18,
     "metadata": {},
     "output_type": "execute_result"
    },
    {
     "data": {
      "text/html": [
       "<div>\n",
       "<style scoped>\n",
       "    .dataframe tbody tr th:only-of-type {\n",
       "        vertical-align: middle;\n",
       "    }\n",
       "\n",
       "    .dataframe tbody tr th {\n",
       "        vertical-align: top;\n",
       "    }\n",
       "\n",
       "    .dataframe thead th {\n",
       "        text-align: right;\n",
       "    }\n",
       "</style>\n",
       "<table border=\"1\" class=\"dataframe\">\n",
       "  <thead>\n",
       "    <tr style=\"text-align: right;\">\n",
       "      <th></th>\n",
       "      <th>id</th>\n",
       "      <th>tweet</th>\n",
       "    </tr>\n",
       "  </thead>\n",
       "  <tbody>\n",
       "    <tr>\n",
       "      <th>0</th>\n",
       "      <td>31963</td>\n",
       "      <td>#studiolife #aislife #requires #passion #dedic...</td>\n",
       "    </tr>\n",
       "    <tr>\n",
       "      <th>1</th>\n",
       "      <td>31964</td>\n",
       "      <td>@user #white #supremacists want everyone to s...</td>\n",
       "    </tr>\n",
       "    <tr>\n",
       "      <th>2</th>\n",
       "      <td>31965</td>\n",
       "      <td>safe ways to heal your #acne!!    #altwaystohe...</td>\n",
       "    </tr>\n",
       "    <tr>\n",
       "      <th>3</th>\n",
       "      <td>31966</td>\n",
       "      <td>is the hp and the cursed child book up for res...</td>\n",
       "    </tr>\n",
       "    <tr>\n",
       "      <th>4</th>\n",
       "      <td>31967</td>\n",
       "      <td>3rd #bihday to my amazing, hilarious #nephew...</td>\n",
       "    </tr>\n",
       "  </tbody>\n",
       "</table>\n",
       "</div>"
      ],
      "text/plain": [
       "      id                                              tweet\n",
       "0  31963  #studiolife #aislife #requires #passion #dedic...\n",
       "1  31964   @user #white #supremacists want everyone to s...\n",
       "2  31965  safe ways to heal your #acne!!    #altwaystohe...\n",
       "3  31966  is the hp and the cursed child book up for res...\n",
       "4  31967    3rd #bihday to my amazing, hilarious #nephew..."
      ]
     },
     "execution_count": 18,
     "metadata": {},
     "output_type": "execute_result"
    }
   ],
   "source": [
    "tweets.shape\n",
    "tweets.head()"
   ]
  },
  {
   "cell_type": "markdown",
   "id": "a0df2b64-0565-423a-b224-cb0f9c16a20f",
   "metadata": {},
   "source": [
    "using VADER , calculate polarity score for each tweet"
   ]
  },
  {
   "cell_type": "code",
   "execution_count": 19,
   "id": "3b326350-0925-45d6-b3a9-a3d8fe34faad",
   "metadata": {},
   "outputs": [],
   "source": [
    "tweets['positive'] = tweets.tweet.apply(lambda x: vader.polarity_scores(x)['pos'])\n",
    "tweets['negative'] = tweets.tweet.apply(lambda x: vader.polarity_scores(x)['neg'])\n",
    "tweets['neutral'] = tweets.tweet.apply(lambda x: vader.polarity_scores(x)['neu'])\n",
    "tweets['compound'] = tweets.tweet.apply(lambda x: vader.polarity_scores(x)['compound'])"
   ]
  },
  {
   "cell_type": "markdown",
   "id": "664ce6d1-c4cb-4a75-8d8b-48338262bd21",
   "metadata": {},
   "source": [
    "Removed the # & @user from tweets since neutral score is higher for such chars"
   ]
  },
  {
   "cell_type": "code",
   "execution_count": 20,
   "id": "8e0c3d37-92dd-4308-a62a-829fbe9e65a4",
   "metadata": {},
   "outputs": [],
   "source": [
    "tweets['tweets'] = tweets.tweet.apply(lambda x : x.replace('@user',''))\n",
    "tweets['tweets'] = tweets.tweets.apply(lambda x : x.replace('#',''))"
   ]
  },
  {
   "cell_type": "markdown",
   "id": "77b5822a-7163-4b76-b0d7-5c788680977e",
   "metadata": {},
   "source": [
    "created new column based on scores and tagged whether tweet is positive or negative"
   ]
  },
  {
   "cell_type": "code",
   "execution_count": 21,
   "id": "7227358b-426a-48e2-a9b7-254c82a068c1",
   "metadata": {},
   "outputs": [],
   "source": [
    "tweets['sentiment'] = tweets.tweets.apply(lambda x:max_score(x))"
   ]
  },
  {
   "cell_type": "markdown",
   "id": "9daa79e8-3059-46d8-90e0-eb70e88e6b66",
   "metadata": {},
   "source": [
    "sample of tweets data after tagging sentiments to each tweet"
   ]
  },
  {
   "cell_type": "code",
   "execution_count": 22,
   "id": "891607d3-999b-4c79-ab64-ab96aa841aea",
   "metadata": {},
   "outputs": [
    {
     "data": {
      "text/html": [
       "<div>\n",
       "<style scoped>\n",
       "    .dataframe tbody tr th:only-of-type {\n",
       "        vertical-align: middle;\n",
       "    }\n",
       "\n",
       "    .dataframe tbody tr th {\n",
       "        vertical-align: top;\n",
       "    }\n",
       "\n",
       "    .dataframe thead th {\n",
       "        text-align: right;\n",
       "    }\n",
       "</style>\n",
       "<table border=\"1\" class=\"dataframe\">\n",
       "  <thead>\n",
       "    <tr style=\"text-align: right;\">\n",
       "      <th></th>\n",
       "      <th>id</th>\n",
       "      <th>tweets</th>\n",
       "      <th>sentiment</th>\n",
       "    </tr>\n",
       "  </thead>\n",
       "  <tbody>\n",
       "    <tr>\n",
       "      <th>14483</th>\n",
       "      <td>46446</td>\n",
       "      <td>the hairy legged mystery  via  fun childrensli...</td>\n",
       "      <td>neutral</td>\n",
       "    </tr>\n",
       "    <tr>\n",
       "      <th>17110</th>\n",
       "      <td>49073</td>\n",
       "      <td>tomorrow is my pageant   nervous</td>\n",
       "      <td>neutral</td>\n",
       "    </tr>\n",
       "    <tr>\n",
       "      <th>9902</th>\n",
       "      <td>41865</td>\n",
       "      <td>di! dark digitala di fantasy girl   ayyasap ...</td>\n",
       "      <td>neutral</td>\n",
       "    </tr>\n",
       "    <tr>\n",
       "      <th>6937</th>\n",
       "      <td>38900</td>\n",
       "      <td>ðððððð10 minutes go for  ult...</td>\n",
       "      <td>neutral</td>\n",
       "    </tr>\n",
       "    <tr>\n",
       "      <th>8138</th>\n",
       "      <td>40101</td>\n",
       "      <td>wish your dear ones  bihday with this lovely a...</td>\n",
       "      <td>positive</td>\n",
       "    </tr>\n",
       "    <tr>\n",
       "      <th>7346</th>\n",
       "      <td>39309</td>\n",
       "      <td>we're at the sta raring to go for horley carni...</td>\n",
       "      <td>neutral</td>\n",
       "    </tr>\n",
       "    <tr>\n",
       "      <th>6621</th>\n",
       "      <td>38584</td>\n",
       "      <td>math make me happy you not so much    math mak...</td>\n",
       "      <td>neutral</td>\n",
       "    </tr>\n",
       "    <tr>\n",
       "      <th>16169</th>\n",
       "      <td>48132</td>\n",
       "      <td>love u papa   fathers day</td>\n",
       "      <td>positive</td>\n",
       "    </tr>\n",
       "    <tr>\n",
       "      <th>10127</th>\n",
       "      <td>42090</td>\n",
       "      <td>lorena would like to meet somebody who know...</td>\n",
       "      <td>neutral</td>\n",
       "    </tr>\n",
       "    <tr>\n",
       "      <th>9558</th>\n",
       "      <td>41521</td>\n",
       "      <td>that's crazy yo !!</td>\n",
       "      <td>neutral</td>\n",
       "    </tr>\n",
       "  </tbody>\n",
       "</table>\n",
       "</div>"
      ],
      "text/plain": [
       "          id                                             tweets sentiment\n",
       "14483  46446  the hairy legged mystery  via  fun childrensli...   neutral\n",
       "17110  49073                   tomorrow is my pageant   nervous   neutral\n",
       "9902   41865    di! dark digitala di fantasy girl   ayyasap ...   neutral\n",
       "6937   38900  ðððððð10 minutes go for  ult...   neutral\n",
       "8138   40101  wish your dear ones  bihday with this lovely a...  positive\n",
       "7346   39309  we're at the sta raring to go for horley carni...   neutral\n",
       "6621   38584  math make me happy you not so much    math mak...   neutral\n",
       "16169  48132                          love u papa   fathers day  positive\n",
       "10127  42090     lorena would like to meet somebody who know...   neutral\n",
       "9558   41521                             that's crazy yo !!       neutral"
      ]
     },
     "execution_count": 22,
     "metadata": {},
     "output_type": "execute_result"
    }
   ],
   "source": [
    "tweets.filter(['id','tweets','sentiment']).sample(10)"
   ]
  },
  {
   "cell_type": "markdown",
   "id": "0288b924-1e78-4457-9b2a-53712b331cab",
   "metadata": {},
   "source": [
    "distribution of sentiments for all tweets"
   ]
  },
  {
   "cell_type": "code",
   "execution_count": 23,
   "id": "dbf3aa69-616d-4b29-b7c4-c4f022b19658",
   "metadata": {},
   "outputs": [
    {
     "data": {
      "text/plain": [
       "neutral     14716\n",
       "positive     2135\n",
       "negative      346\n",
       "Name: sentiment, dtype: int64"
      ]
     },
     "execution_count": 23,
     "metadata": {},
     "output_type": "execute_result"
    }
   ],
   "source": [
    "tweets.sentiment.value_counts()"
   ]
  },
  {
   "cell_type": "markdown",
   "id": "a97cf800-0209-4207-8562-64dcf5e70c14",
   "metadata": {},
   "source": [
    "# END"
   ]
  }
 ],
 "metadata": {
  "kernelspec": {
   "display_name": "Python 3",
   "language": "python",
   "name": "python3"
  },
  "language_info": {
   "codemirror_mode": {
    "name": "ipython",
    "version": 3
   },
   "file_extension": ".py",
   "mimetype": "text/x-python",
   "name": "python",
   "nbconvert_exporter": "python",
   "pygments_lexer": "ipython3",
   "version": "3.8.2"
  }
 },
 "nbformat": 4,
 "nbformat_minor": 5
}
