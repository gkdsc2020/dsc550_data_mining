{
 "cells": [
  {
   "cell_type": "markdown",
   "id": "fc14ea06-f990-4ac6-8d1b-4603a5a4366f",
   "metadata": {},
   "source": [
    "# Assignment - Exercise 7.3 Project Milestone 2\n",
    "## Week#7\n",
    "## Date - July-24-2021\n",
    "## Author - Ganesh Kale"
   ]
  },
  {
   "cell_type": "markdown",
   "id": "b7f2ab9b-9abe-485b-8f40-0a7d43dee6dc",
   "metadata": {},
   "source": [
    "#### _**Project Overview**_\n",
    "\n",
    "**Introduction** - From the beginning, since first news paper printed, every news that makes into page has had a specific section allotted to it. The newspaper style, news sections, format etc.. have been changed over the time but not the categorization of the news and it still carried over even in to the digital version of newspaper. News articles are not limited to few topics, it covers a wide range of interest from politcs to sports to moveis and so on.\n",
    "**For long time, this process of categorization news was done manually by people and used to allot news to respective section(category).**\n",
    "With digitalization of news paper, the news gets updated every moment and allocating to them to appropriate category can be cumbersome task. \n",
    "\n",
    "**How to Solve this problem** - To avoid manual news categorization, with help of latest technology, Natural Language Processing and machine leanring, this problem will tackled to classify and predict which category a piece of news will fall into based on the news headline and short description.\n",
    "\n",
    "**What model will be built for and How it would help** - In order to solve the manual news categorization problem, A machine learning model will be built using supervised machine learning techniques, that would learn from existing news headlines and short description and predict the news category appropriately.\n",
    "With the help of this model the news categorization can be automated and it would save manual work and help users to read the news of their interest in raight section."
   ]
  },
  {
   "cell_type": "markdown",
   "id": "8eaafb87-f43a-45b9-b7b2-5303eb6e0026",
   "metadata": {},
   "source": [
    "#### _Data Description:_\n",
    "\n",
    "Context -  This dataset contains around 200k news headlines from the year 2012 to 2018 obtained from HuffPost. The model trained on this dataset could be used to identify tags for untracked news articles or to identify the type of language used in different news articles.\n",
    "\n",
    "Each news headline has a corresponding category. Categories and corresponding article have different counts. These categories are predefined the time of collecting the data and assigned them accordingly."
   ]
  },
  {
   "cell_type": "markdown",
   "id": "2f86afac-2eab-4627-b730-523a0ad3d512",
   "metadata": {},
   "source": [
    "#### _import required packages_"
   ]
  },
  {
   "cell_type": "code",
   "execution_count": 1,
   "id": "c6a886d9-992b-4cf3-afca-737df57a2258",
   "metadata": {},
   "outputs": [],
   "source": [
    "import numpy as np\n",
    "import pandas as pd\n",
    "import yellowbrick\n",
    "import matplotlib.pyplot as plt\n",
    "import seaborn as sns\n",
    "import missingno as msno\n",
    "from imblearn.over_sampling import SMOTE\n",
    "from sklearn.preprocessing import LabelBinarizer, LabelEncoder\n",
    "\n",
    "%matplotlib inline\n",
    "\n",
    "from IPython.core.interactiveshell import InteractiveShell\n",
    "InteractiveShell.ast_node_interactivity = 'all'"
   ]
  },
  {
   "cell_type": "markdown",
   "id": "be0e33c8-8c34-4ada-b418-0e19576e54ce",
   "metadata": {},
   "source": [
    "#### _load the data set_"
   ]
  },
  {
   "cell_type": "code",
   "execution_count": 2,
   "id": "8558c216-ab40-4142-8f85-cd998e1bfd81",
   "metadata": {},
   "outputs": [],
   "source": [
    "news = pd.read_json(\"data/News_Category_Dataset_v2.json\", lines=True)"
   ]
  },
  {
   "cell_type": "markdown",
   "id": "a4ee78d5-749e-4782-8f1b-97ff229a30fa",
   "metadata": {},
   "source": [
    "#### _display dimension and top 5 records from the data set_"
   ]
  },
  {
   "cell_type": "code",
   "execution_count": 3,
   "id": "8d86bef0-7795-4f1e-a09b-fd36dad161af",
   "metadata": {},
   "outputs": [
    {
     "data": {
      "text/plain": [
       "(200853, 6)"
      ]
     },
     "execution_count": 3,
     "metadata": {},
     "output_type": "execute_result"
    },
    {
     "data": {
      "text/html": [
       "<div>\n",
       "<style scoped>\n",
       "    .dataframe tbody tr th:only-of-type {\n",
       "        vertical-align: middle;\n",
       "    }\n",
       "\n",
       "    .dataframe tbody tr th {\n",
       "        vertical-align: top;\n",
       "    }\n",
       "\n",
       "    .dataframe thead th {\n",
       "        text-align: right;\n",
       "    }\n",
       "</style>\n",
       "<table border=\"1\" class=\"dataframe\">\n",
       "  <thead>\n",
       "    <tr style=\"text-align: right;\">\n",
       "      <th></th>\n",
       "      <th>category</th>\n",
       "      <th>headline</th>\n",
       "      <th>authors</th>\n",
       "      <th>link</th>\n",
       "      <th>short_description</th>\n",
       "      <th>date</th>\n",
       "    </tr>\n",
       "  </thead>\n",
       "  <tbody>\n",
       "    <tr>\n",
       "      <th>0</th>\n",
       "      <td>CRIME</td>\n",
       "      <td>There Were 2 Mass Shootings In Texas Last Week...</td>\n",
       "      <td>Melissa Jeltsen</td>\n",
       "      <td>https://www.huffingtonpost.com/entry/texas-ama...</td>\n",
       "      <td>She left her husband. He killed their children...</td>\n",
       "      <td>2018-05-26</td>\n",
       "    </tr>\n",
       "    <tr>\n",
       "      <th>1</th>\n",
       "      <td>ENTERTAINMENT</td>\n",
       "      <td>Will Smith Joins Diplo And Nicky Jam For The 2...</td>\n",
       "      <td>Andy McDonald</td>\n",
       "      <td>https://www.huffingtonpost.com/entry/will-smit...</td>\n",
       "      <td>Of course it has a song.</td>\n",
       "      <td>2018-05-26</td>\n",
       "    </tr>\n",
       "    <tr>\n",
       "      <th>2</th>\n",
       "      <td>ENTERTAINMENT</td>\n",
       "      <td>Hugh Grant Marries For The First Time At Age 57</td>\n",
       "      <td>Ron Dicker</td>\n",
       "      <td>https://www.huffingtonpost.com/entry/hugh-gran...</td>\n",
       "      <td>The actor and his longtime girlfriend Anna Ebe...</td>\n",
       "      <td>2018-05-26</td>\n",
       "    </tr>\n",
       "    <tr>\n",
       "      <th>3</th>\n",
       "      <td>ENTERTAINMENT</td>\n",
       "      <td>Jim Carrey Blasts 'Castrato' Adam Schiff And D...</td>\n",
       "      <td>Ron Dicker</td>\n",
       "      <td>https://www.huffingtonpost.com/entry/jim-carre...</td>\n",
       "      <td>The actor gives Dems an ass-kicking for not fi...</td>\n",
       "      <td>2018-05-26</td>\n",
       "    </tr>\n",
       "    <tr>\n",
       "      <th>4</th>\n",
       "      <td>ENTERTAINMENT</td>\n",
       "      <td>Julianna Margulies Uses Donald Trump Poop Bags...</td>\n",
       "      <td>Ron Dicker</td>\n",
       "      <td>https://www.huffingtonpost.com/entry/julianna-...</td>\n",
       "      <td>The \"Dietland\" actress said using the bags is ...</td>\n",
       "      <td>2018-05-26</td>\n",
       "    </tr>\n",
       "  </tbody>\n",
       "</table>\n",
       "</div>"
      ],
      "text/plain": [
       "        category                                           headline  \\\n",
       "0          CRIME  There Were 2 Mass Shootings In Texas Last Week...   \n",
       "1  ENTERTAINMENT  Will Smith Joins Diplo And Nicky Jam For The 2...   \n",
       "2  ENTERTAINMENT    Hugh Grant Marries For The First Time At Age 57   \n",
       "3  ENTERTAINMENT  Jim Carrey Blasts 'Castrato' Adam Schiff And D...   \n",
       "4  ENTERTAINMENT  Julianna Margulies Uses Donald Trump Poop Bags...   \n",
       "\n",
       "           authors                                               link  \\\n",
       "0  Melissa Jeltsen  https://www.huffingtonpost.com/entry/texas-ama...   \n",
       "1    Andy McDonald  https://www.huffingtonpost.com/entry/will-smit...   \n",
       "2       Ron Dicker  https://www.huffingtonpost.com/entry/hugh-gran...   \n",
       "3       Ron Dicker  https://www.huffingtonpost.com/entry/jim-carre...   \n",
       "4       Ron Dicker  https://www.huffingtonpost.com/entry/julianna-...   \n",
       "\n",
       "                                   short_description       date  \n",
       "0  She left her husband. He killed their children... 2018-05-26  \n",
       "1                           Of course it has a song. 2018-05-26  \n",
       "2  The actor and his longtime girlfriend Anna Ebe... 2018-05-26  \n",
       "3  The actor gives Dems an ass-kicking for not fi... 2018-05-26  \n",
       "4  The \"Dietland\" actress said using the bags is ... 2018-05-26  "
      ]
     },
     "execution_count": 3,
     "metadata": {},
     "output_type": "execute_result"
    }
   ],
   "source": [
    "news.shape\n",
    "news.head()"
   ]
  },
  {
   "cell_type": "markdown",
   "id": "01c1c88a-37f2-4d0a-a453-a6ee1c4ea0b5",
   "metadata": {},
   "source": [
    "#### _display data set variable data types and Non-null count_"
   ]
  },
  {
   "cell_type": "code",
   "execution_count": 4,
   "id": "295e405f-75a1-4fb4-8d78-6a2f00470b0c",
   "metadata": {},
   "outputs": [
    {
     "name": "stdout",
     "output_type": "stream",
     "text": [
      "<class 'pandas.core.frame.DataFrame'>\n",
      "RangeIndex: 200853 entries, 0 to 200852\n",
      "Data columns (total 6 columns):\n",
      " #   Column             Non-Null Count   Dtype         \n",
      "---  ------             --------------   -----         \n",
      " 0   category           200853 non-null  object        \n",
      " 1   headline           200853 non-null  object        \n",
      " 2   authors            200853 non-null  object        \n",
      " 3   link               200853 non-null  object        \n",
      " 4   short_description  200853 non-null  object        \n",
      " 5   date               200853 non-null  datetime64[ns]\n",
      "dtypes: datetime64[ns](1), object(5)\n",
      "memory usage: 9.2+ MB\n"
     ]
    }
   ],
   "source": [
    "news.info()"
   ]
  },
  {
   "cell_type": "markdown",
   "id": "d7703647-ae9d-453b-a901-b35d4852744a",
   "metadata": {},
   "source": [
    "#### _display descriptive stat summary of categorical variables_"
   ]
  },
  {
   "cell_type": "code",
   "execution_count": 5,
   "id": "b13848ff-cfa0-4ae5-81bd-580bd36ddbd7",
   "metadata": {},
   "outputs": [
    {
     "name": "stderr",
     "output_type": "stream",
     "text": [
      "<ipython-input-5-d644a336d14c>:1: FutureWarning: Treating datetime data as categorical rather than numeric in `.describe` is deprecated and will be removed in a future version of pandas. Specify `datetime_is_numeric=True` to silence this warning and adopt the future behavior now.\n",
      "  news.describe()\n"
     ]
    },
    {
     "data": {
      "text/html": [
       "<div>\n",
       "<style scoped>\n",
       "    .dataframe tbody tr th:only-of-type {\n",
       "        vertical-align: middle;\n",
       "    }\n",
       "\n",
       "    .dataframe tbody tr th {\n",
       "        vertical-align: top;\n",
       "    }\n",
       "\n",
       "    .dataframe thead th {\n",
       "        text-align: right;\n",
       "    }\n",
       "</style>\n",
       "<table border=\"1\" class=\"dataframe\">\n",
       "  <thead>\n",
       "    <tr style=\"text-align: right;\">\n",
       "      <th></th>\n",
       "      <th>category</th>\n",
       "      <th>headline</th>\n",
       "      <th>authors</th>\n",
       "      <th>link</th>\n",
       "      <th>short_description</th>\n",
       "      <th>date</th>\n",
       "    </tr>\n",
       "  </thead>\n",
       "  <tbody>\n",
       "    <tr>\n",
       "      <th>count</th>\n",
       "      <td>200853</td>\n",
       "      <td>200853</td>\n",
       "      <td>200853</td>\n",
       "      <td>200853</td>\n",
       "      <td>200853</td>\n",
       "      <td>200853</td>\n",
       "    </tr>\n",
       "    <tr>\n",
       "      <th>unique</th>\n",
       "      <td>41</td>\n",
       "      <td>199344</td>\n",
       "      <td>27993</td>\n",
       "      <td>200812</td>\n",
       "      <td>178353</td>\n",
       "      <td>2309</td>\n",
       "    </tr>\n",
       "    <tr>\n",
       "      <th>top</th>\n",
       "      <td>POLITICS</td>\n",
       "      <td>Sunday Roundup</td>\n",
       "      <td></td>\n",
       "      <td>https://www.huffingtonpost.comhttp://www.guilt...</td>\n",
       "      <td></td>\n",
       "      <td>2012-12-21 00:00:00</td>\n",
       "    </tr>\n",
       "    <tr>\n",
       "      <th>freq</th>\n",
       "      <td>32739</td>\n",
       "      <td>90</td>\n",
       "      <td>36620</td>\n",
       "      <td>2</td>\n",
       "      <td>19712</td>\n",
       "      <td>100</td>\n",
       "    </tr>\n",
       "    <tr>\n",
       "      <th>first</th>\n",
       "      <td>NaN</td>\n",
       "      <td>NaN</td>\n",
       "      <td>NaN</td>\n",
       "      <td>NaN</td>\n",
       "      <td>NaN</td>\n",
       "      <td>2012-01-28 00:00:00</td>\n",
       "    </tr>\n",
       "    <tr>\n",
       "      <th>last</th>\n",
       "      <td>NaN</td>\n",
       "      <td>NaN</td>\n",
       "      <td>NaN</td>\n",
       "      <td>NaN</td>\n",
       "      <td>NaN</td>\n",
       "      <td>2018-05-26 00:00:00</td>\n",
       "    </tr>\n",
       "  </tbody>\n",
       "</table>\n",
       "</div>"
      ],
      "text/plain": [
       "        category        headline authors  \\\n",
       "count     200853          200853  200853   \n",
       "unique        41          199344   27993   \n",
       "top     POLITICS  Sunday Roundup           \n",
       "freq       32739              90   36620   \n",
       "first        NaN             NaN     NaN   \n",
       "last         NaN             NaN     NaN   \n",
       "\n",
       "                                                     link short_description  \\\n",
       "count                                              200853            200853   \n",
       "unique                                             200812            178353   \n",
       "top     https://www.huffingtonpost.comhttp://www.guilt...                     \n",
       "freq                                                    2             19712   \n",
       "first                                                 NaN               NaN   \n",
       "last                                                  NaN               NaN   \n",
       "\n",
       "                       date  \n",
       "count                200853  \n",
       "unique                 2309  \n",
       "top     2012-12-21 00:00:00  \n",
       "freq                    100  \n",
       "first   2012-01-28 00:00:00  \n",
       "last    2018-05-26 00:00:00  "
      ]
     },
     "execution_count": 5,
     "metadata": {},
     "output_type": "execute_result"
    }
   ],
   "source": [
    "news.describe()"
   ]
  },
  {
   "cell_type": "markdown",
   "id": "258d0d75-fbb7-4b6d-8bae-9c129d953a25",
   "metadata": {},
   "source": [
    "## Exploratory Data Analysis - Data Visualization"
   ]
  },
  {
   "cell_type": "markdown",
   "id": "d4a23623-de46-4025-8dbf-bfb79ac1e475",
   "metadata": {},
   "source": [
    "#### _display number of news per category_"
   ]
  },
  {
   "cell_type": "code",
   "execution_count": 6,
   "id": "96902c1d-86fc-4bfe-acfc-77ac5e0ed5cb",
   "metadata": {},
   "outputs": [
    {
     "data": {
      "text/plain": [
       "POLITICS          32739\n",
       "WELLNESS          17827\n",
       "ENTERTAINMENT     16058\n",
       "TRAVEL             9887\n",
       "STYLE & BEAUTY     9649\n",
       "PARENTING          8677\n",
       "HEALTHY LIVING     6694\n",
       "QUEER VOICES       6314\n",
       "FOOD & DRINK       6226\n",
       "BUSINESS           5937\n",
       "COMEDY             5175\n",
       "SPORTS             4884\n",
       "BLACK VOICES       4528\n",
       "HOME & LIVING      4195\n",
       "PARENTS            3955\n",
       "THE WORLDPOST      3664\n",
       "WEDDINGS           3651\n",
       "WOMEN              3490\n",
       "IMPACT             3459\n",
       "DIVORCE            3426\n",
       "CRIME              3405\n",
       "MEDIA              2815\n",
       "WEIRD NEWS         2670\n",
       "GREEN              2622\n",
       "WORLDPOST          2579\n",
       "RELIGION           2556\n",
       "STYLE              2254\n",
       "SCIENCE            2178\n",
       "WORLD NEWS         2177\n",
       "TASTE              2096\n",
       "TECH               2082\n",
       "MONEY              1707\n",
       "ARTS               1509\n",
       "FIFTY              1401\n",
       "GOOD NEWS          1398\n",
       "ARTS & CULTURE     1339\n",
       "ENVIRONMENT        1323\n",
       "COLLEGE            1144\n",
       "LATINO VOICES      1129\n",
       "CULTURE & ARTS     1030\n",
       "EDUCATION          1004\n",
       "Name: category, dtype: int64"
      ]
     },
     "execution_count": 6,
     "metadata": {},
     "output_type": "execute_result"
    }
   ],
   "source": [
    "news.category.value_counts()"
   ]
  },
  {
   "cell_type": "code",
   "execution_count": 7,
   "id": "296733fb-6e4b-4779-8083-94eb89f78767",
   "metadata": {},
   "outputs": [
    {
     "data": {
      "image/png": "[encoded data removed]",
      "text/plain": [
       "<Figure size 1296x504 with 1 Axes>"
      ]
     },
     "metadata": {},
     "output_type": "display_data"
    }
   ],
   "source": [
    "# set style of the figure and size\n",
    "\n",
    "sns.set_style('white')\n",
    "plt.figure(figsize=(18,7))\n",
    "\n",
    "# plot bar chart for categories and news count\n",
    "sns.barplot(data=news, x=news.category.value_counts().index,y=news.category.value_counts())\n",
    "plt.xlabel('Categories',fontdict = {\"fontsize\":14})\n",
    "plt.ylabel('Counts',fontdict = {\"fontsize\":14})\n",
    "plt.title('Number of News Per Category',fontdict = {\"fontsize\":20})\n",
    "plt.xticks(rotation=90);"
   ]
  },
  {
   "cell_type": "markdown",
   "id": "70fcccb2-6db0-4fdd-a9e2-a2e8839e3d0c",
   "metadata": {},
   "source": [
    "#### _display how many news each year_"
   ]
  },
  {
   "cell_type": "code",
   "execution_count": 8,
   "id": "fc9b5cb9-6a06-41a4-b32f-b4bf59e9e725",
   "metadata": {},
   "outputs": [],
   "source": [
    "# create new column year by extracting year from date column\n",
    "\n",
    "news['year'] = news['date'].apply(lambda x : x.year)"
   ]
  },
  {
   "cell_type": "code",
   "execution_count": 9,
   "id": "f00230a3-6def-40eb-8353-9395e58cd5e5",
   "metadata": {},
   "outputs": [
    {
     "data": {
      "text/plain": [
       "count    200853.000000\n",
       "mean       2014.611930\n",
       "std           1.801049\n",
       "min        2012.000000\n",
       "25%        2013.000000\n",
       "50%        2015.000000\n",
       "75%        2016.000000\n",
       "max        2018.000000\n",
       "Name: year, dtype: float64"
      ]
     },
     "execution_count": 9,
     "metadata": {},
     "output_type": "execute_result"
    }
   ],
   "source": [
    "# display the new column details\n",
    "\n",
    "news.year.describe()"
   ]
  },
  {
   "cell_type": "code",
   "execution_count": 10,
   "id": "ec735874-5d2a-47a1-9890-54c5a53bf0f5",
   "metadata": {},
   "outputs": [
    {
     "data": {
      "text/plain": [
       "2013    34583\n",
       "2014    32339\n",
       "2016    32098\n",
       "2015    32006\n",
       "2012    31355\n",
       "2017    29889\n",
       "2018     8583\n",
       "Name: year, dtype: int64"
      ]
     },
     "execution_count": 10,
     "metadata": {},
     "output_type": "execute_result"
    }
   ],
   "source": [
    "# counts of news each year\n",
    "\n",
    "news.year.value_counts()"
   ]
  },
  {
   "cell_type": "code",
   "execution_count": 11,
   "id": "815af831-ea82-4f45-9f77-698f7381279f",
   "metadata": {},
   "outputs": [
    {
     "data": {
      "image/png": "[encoded data removed]",
      "text/plain": [
       "<Figure size 1296x504 with 1 Axes>"
      ]
     },
     "metadata": {},
     "output_type": "display_data"
    }
   ],
   "source": [
    "# bar plot to show counts of news each year\n",
    "\n",
    "# set style of the figure and size\n",
    "\n",
    "sns.set_style('white')\n",
    "plt.figure(figsize=(18,7))\n",
    "\n",
    "# plot bar chart for categories and news count\n",
    "sns.barplot(data=news, x=news.year.value_counts().index,y=news.year.value_counts())\n",
    "plt.xlabel('Year',fontdict = {\"fontsize\":14})\n",
    "plt.ylabel('Counts',fontdict = {\"fontsize\":14})\n",
    "plt.title('Number of News Per Year',fontdict = {\"fontsize\":20});"
   ]
  },
  {
   "cell_type": "markdown",
   "id": "13fe0d2d-8216-4517-a4a4-de481e020efe",
   "metadata": {},
   "source": [
    "#### _display distribution of words in headline and short new summary_"
   ]
  },
  {
   "cell_type": "code",
   "execution_count": 12,
   "id": "8a7d1e38-1810-4ebe-86f6-5f5318eee317",
   "metadata": {},
   "outputs": [],
   "source": [
    "# create new column for number of words in headline and short description\n",
    "\n",
    "news['num_words_head'] = news.headline.apply(lambda x : len(x.split()))\n",
    "news['num_words_summary'] = news.short_description.apply(lambda x : len(x.split()))"
   ]
  },
  {
   "cell_type": "code",
   "execution_count": 13,
   "id": "c639c1fa-3015-4c4f-af44-b09cfb7f4f88",
   "metadata": {},
   "outputs": [
    {
     "data": {
      "text/html": [
       "<div>\n",
       "<style scoped>\n",
       "    .dataframe tbody tr th:only-of-type {\n",
       "        vertical-align: middle;\n",
       "    }\n",
       "\n",
       "    .dataframe tbody tr th {\n",
       "        vertical-align: top;\n",
       "    }\n",
       "\n",
       "    .dataframe thead th {\n",
       "        text-align: right;\n",
       "    }\n",
       "</style>\n",
       "<table border=\"1\" class=\"dataframe\">\n",
       "  <thead>\n",
       "    <tr style=\"text-align: right;\">\n",
       "      <th></th>\n",
       "      <th>num_words_head</th>\n",
       "      <th>num_words_summary</th>\n",
       "    </tr>\n",
       "  </thead>\n",
       "  <tbody>\n",
       "    <tr>\n",
       "      <th>count</th>\n",
       "      <td>200853.000000</td>\n",
       "      <td>200853.000000</td>\n",
       "    </tr>\n",
       "    <tr>\n",
       "      <th>mean</th>\n",
       "      <td>9.538563</td>\n",
       "      <td>19.728289</td>\n",
       "    </tr>\n",
       "    <tr>\n",
       "      <th>std</th>\n",
       "      <td>3.089320</td>\n",
       "      <td>14.409189</td>\n",
       "    </tr>\n",
       "    <tr>\n",
       "      <th>min</th>\n",
       "      <td>0.000000</td>\n",
       "      <td>0.000000</td>\n",
       "    </tr>\n",
       "    <tr>\n",
       "      <th>25%</th>\n",
       "      <td>7.000000</td>\n",
       "      <td>10.000000</td>\n",
       "    </tr>\n",
       "    <tr>\n",
       "      <th>50%</th>\n",
       "      <td>10.000000</td>\n",
       "      <td>19.000000</td>\n",
       "    </tr>\n",
       "    <tr>\n",
       "      <th>75%</th>\n",
       "      <td>12.000000</td>\n",
       "      <td>24.000000</td>\n",
       "    </tr>\n",
       "    <tr>\n",
       "      <th>max</th>\n",
       "      <td>44.000000</td>\n",
       "      <td>243.000000</td>\n",
       "    </tr>\n",
       "  </tbody>\n",
       "</table>\n",
       "</div>"
      ],
      "text/plain": [
       "       num_words_head  num_words_summary\n",
       "count   200853.000000      200853.000000\n",
       "mean         9.538563          19.728289\n",
       "std          3.089320          14.409189\n",
       "min          0.000000           0.000000\n",
       "25%          7.000000          10.000000\n",
       "50%         10.000000          19.000000\n",
       "75%         12.000000          24.000000\n",
       "max         44.000000         243.000000"
      ]
     },
     "execution_count": 13,
     "metadata": {},
     "output_type": "execute_result"
    }
   ],
   "source": [
    "# display the summary of new columns\n",
    "\n",
    "news[['num_words_head','num_words_summary']].describe()"
   ]
  },
  {
   "cell_type": "code",
   "execution_count": 14,
   "id": "b0317fd0-8e63-4a30-9ce6-2268b187ee82",
   "metadata": {},
   "outputs": [
    {
     "data": {
      "image/png": "[encoded data removed]",
      "text/plain": [
       "<Figure size 1296x504 with 1 Axes>"
      ]
     },
     "metadata": {},
     "output_type": "display_data"
    }
   ],
   "source": [
    "# Distribution of number of words in headline\n",
    "\n",
    "# set style of the figure and size\n",
    "\n",
    "sns.set_style('white')\n",
    "plt.figure(figsize=(18,7))\n",
    "\n",
    "# plot histogram chart for number of words in headlines\n",
    "sns.histplot(data=news, x='num_words_head', binwidth=0.8, bins=40,)\n",
    "plt.xlabel('num words headline',fontdict = {\"fontsize\":14})\n",
    "plt.ylabel('Freq',fontdict = {\"fontsize\":14})\n",
    "plt.title('Distribution of number of words in headlines',fontdict = {\"fontsize\":20});"
   ]
  },
  {
   "cell_type": "code",
   "execution_count": 15,
   "id": "2632c9dd-c047-44f9-a254-4f87ffaddb69",
   "metadata": {},
   "outputs": [
    {
     "data": {
      "image/png": "[encoded data removed]",
      "text/plain": [
       "<Figure size 1296x504 with 1 Axes>"
      ]
     },
     "metadata": {},
     "output_type": "display_data"
    }
   ],
   "source": [
    "# Distribution of number of words in short description\n",
    "\n",
    "# set style of the figure and size\n",
    "\n",
    "sns.set_style('white')\n",
    "plt.figure(figsize=(18,7))\n",
    "\n",
    "# plot histogram chart for number of words in headlines\n",
    "sns.histplot(data=news, x='num_words_summary', bins=50, kde=True,)\n",
    "plt.xlabel('num words summary',fontdict = {\"fontsize\":14})\n",
    "plt.ylabel('Freq',fontdict = {\"fontsize\":14})\n",
    "plt.title('Distribution of number of words in news summary',fontdict = {\"fontsize\":20});"
   ]
  },
  {
   "cell_type": "markdown",
   "id": "6eaab588-c23c-4dde-8b27-a3ca8859a319",
   "metadata": {},
   "source": [
    "## Insights Gained from Graphical Analysis"
   ]
  },
  {
   "cell_type": "markdown",
   "id": "8cf75e8d-4461-4512-b978-f3ad2aaafd51",
   "metadata": {},
   "source": [
    "1. Bar Chart - Number of news per category:\n",
    "This bar chart shows that the number of news in each category is not same across categories so our class in imbalance and we should use proper techniques to balance the classes/categories.\n",
    "There are more Politics news than rest of the categories.\n",
    "\n",
    "2. Bar Chart - Number of news per year:\n",
    "Based on bar chart we can see that the number of news are same each year except 2018. In 2018 we have jusk around 8.5K news. This helps to understand we may skip this year and drop news in next step.\n",
    "\n",
    "3. Histogram - Distribution of number of words in headline - \n",
    "This distribution shows that it has some outliers with word count more than 20,once that headlines are removed then distribution will be normal distribution.\n",
    "\n",
    "4. Histogram - Distribution of number of words in short description - \n",
    "Based on this hostogram we can see that the distribution is skewed and outliers exist. We need to remove the outliers with word count more than 50."
   ]
  },
  {
   "cell_type": "markdown",
   "id": "ca40e22d-67a6-4263-9cea-fcb4171806ac",
   "metadata": {},
   "source": [
    "# **Project Milestone: 2**"
   ]
  },
  {
   "cell_type": "markdown",
   "id": "e19f976d-dff7-4f68-a58c-2db8faaa8f78",
   "metadata": {},
   "source": [
    "#### _Display head of data frame_"
   ]
  },
  {
   "cell_type": "code",
   "execution_count": 16,
   "id": "ab1350be-196d-442c-aea9-342927817d23",
   "metadata": {},
   "outputs": [
    {
     "data": {
      "text/html": [
       "<div>\n",
       "<style scoped>\n",
       "    .dataframe tbody tr th:only-of-type {\n",
       "        vertical-align: middle;\n",
       "    }\n",
       "\n",
       "    .dataframe tbody tr th {\n",
       "        vertical-align: top;\n",
       "    }\n",
       "\n",
       "    .dataframe thead th {\n",
       "        text-align: right;\n",
       "    }\n",
       "</style>\n",
       "<table border=\"1\" class=\"dataframe\">\n",
       "  <thead>\n",
       "    <tr style=\"text-align: right;\">\n",
       "      <th></th>\n",
       "      <th>category</th>\n",
       "      <th>headline</th>\n",
       "      <th>authors</th>\n",
       "      <th>link</th>\n",
       "      <th>short_description</th>\n",
       "      <th>date</th>\n",
       "      <th>year</th>\n",
       "      <th>num_words_head</th>\n",
       "      <th>num_words_summary</th>\n",
       "    </tr>\n",
       "  </thead>\n",
       "  <tbody>\n",
       "    <tr>\n",
       "      <th>0</th>\n",
       "      <td>CRIME</td>\n",
       "      <td>There Were 2 Mass Shootings In Texas Last Week...</td>\n",
       "      <td>Melissa Jeltsen</td>\n",
       "      <td>https://www.huffingtonpost.com/entry/texas-ama...</td>\n",
       "      <td>She left her husband. He killed their children...</td>\n",
       "      <td>2018-05-26</td>\n",
       "      <td>2018</td>\n",
       "      <td>14</td>\n",
       "      <td>13</td>\n",
       "    </tr>\n",
       "    <tr>\n",
       "      <th>1</th>\n",
       "      <td>ENTERTAINMENT</td>\n",
       "      <td>Will Smith Joins Diplo And Nicky Jam For The 2...</td>\n",
       "      <td>Andy McDonald</td>\n",
       "      <td>https://www.huffingtonpost.com/entry/will-smit...</td>\n",
       "      <td>Of course it has a song.</td>\n",
       "      <td>2018-05-26</td>\n",
       "      <td>2018</td>\n",
       "      <td>14</td>\n",
       "      <td>6</td>\n",
       "    </tr>\n",
       "    <tr>\n",
       "      <th>2</th>\n",
       "      <td>ENTERTAINMENT</td>\n",
       "      <td>Hugh Grant Marries For The First Time At Age 57</td>\n",
       "      <td>Ron Dicker</td>\n",
       "      <td>https://www.huffingtonpost.com/entry/hugh-gran...</td>\n",
       "      <td>The actor and his longtime girlfriend Anna Ebe...</td>\n",
       "      <td>2018-05-26</td>\n",
       "      <td>2018</td>\n",
       "      <td>10</td>\n",
       "      <td>15</td>\n",
       "    </tr>\n",
       "    <tr>\n",
       "      <th>3</th>\n",
       "      <td>ENTERTAINMENT</td>\n",
       "      <td>Jim Carrey Blasts 'Castrato' Adam Schiff And D...</td>\n",
       "      <td>Ron Dicker</td>\n",
       "      <td>https://www.huffingtonpost.com/entry/jim-carre...</td>\n",
       "      <td>The actor gives Dems an ass-kicking for not fi...</td>\n",
       "      <td>2018-05-26</td>\n",
       "      <td>2018</td>\n",
       "      <td>11</td>\n",
       "      <td>14</td>\n",
       "    </tr>\n",
       "    <tr>\n",
       "      <th>4</th>\n",
       "      <td>ENTERTAINMENT</td>\n",
       "      <td>Julianna Margulies Uses Donald Trump Poop Bags...</td>\n",
       "      <td>Ron Dicker</td>\n",
       "      <td>https://www.huffingtonpost.com/entry/julianna-...</td>\n",
       "      <td>The \"Dietland\" actress said using the bags is ...</td>\n",
       "      <td>2018-05-26</td>\n",
       "      <td>2018</td>\n",
       "      <td>13</td>\n",
       "      <td>13</td>\n",
       "    </tr>\n",
       "  </tbody>\n",
       "</table>\n",
       "</div>"
      ],
      "text/plain": [
       "        category                                           headline  \\\n",
       "0          CRIME  There Were 2 Mass Shootings In Texas Last Week...   \n",
       "1  ENTERTAINMENT  Will Smith Joins Diplo And Nicky Jam For The 2...   \n",
       "2  ENTERTAINMENT    Hugh Grant Marries For The First Time At Age 57   \n",
       "3  ENTERTAINMENT  Jim Carrey Blasts 'Castrato' Adam Schiff And D...   \n",
       "4  ENTERTAINMENT  Julianna Margulies Uses Donald Trump Poop Bags...   \n",
       "\n",
       "           authors                                               link  \\\n",
       "0  Melissa Jeltsen  https://www.huffingtonpost.com/entry/texas-ama...   \n",
       "1    Andy McDonald  https://www.huffingtonpost.com/entry/will-smit...   \n",
       "2       Ron Dicker  https://www.huffingtonpost.com/entry/hugh-gran...   \n",
       "3       Ron Dicker  https://www.huffingtonpost.com/entry/jim-carre...   \n",
       "4       Ron Dicker  https://www.huffingtonpost.com/entry/julianna-...   \n",
       "\n",
       "                                   short_description       date  year  \\\n",
       "0  She left her husband. He killed their children... 2018-05-26  2018   \n",
       "1                           Of course it has a song. 2018-05-26  2018   \n",
       "2  The actor and his longtime girlfriend Anna Ebe... 2018-05-26  2018   \n",
       "3  The actor gives Dems an ass-kicking for not fi... 2018-05-26  2018   \n",
       "4  The \"Dietland\" actress said using the bags is ... 2018-05-26  2018   \n",
       "\n",
       "   num_words_head  num_words_summary  \n",
       "0              14                 13  \n",
       "1              14                  6  \n",
       "2              10                 15  \n",
       "3              11                 14  \n",
       "4              13                 13  "
      ]
     },
     "execution_count": 16,
     "metadata": {},
     "output_type": "execute_result"
    }
   ],
   "source": [
    "news.head()"
   ]
  },
  {
   "cell_type": "markdown",
   "id": "0ac88df2-a534-4d7e-9b3a-ee1b949de0fb",
   "metadata": {},
   "source": [
    "#### _Drop Features that are not required_"
   ]
  },
  {
   "cell_type": "markdown",
   "id": "7dd2754e-19b2-4be0-ac05-442d3b557458",
   "metadata": {},
   "source": [
    "The main goal of this project is to predict the appropriate category from news headline and news short description, so these are the two columns we need to train model. Hence we are going to drop rest unwanted features from the data set.\n",
    "\n",
    "The below list of features will be dropped from the data set -\n",
    "\n",
    "1. authors - This feature tells who wrote the news but it would help use determine the news category, we we are going to drop this feature.\n",
    "\n",
    "2. link - this feature shows source of the news and it does not required for news categorization. So it will be dropped.\n",
    "\n",
    "3. date - this feature explains what date the news was published and this either would not help to solve the problem, hence it will be removed from the data set.\n",
    "\n",
    "4. year - This feature was created from date, to see the distribution of news and headlines and this will be removed as well.\n",
    "\n",
    "5. num_words_head and num_words_summary - These features were created to see the words distribution in headlines and summary respectively and will be used to remove outliers from the dataset. Once outliers are removed based on these feature numbers, it will be dropped from data set."
   ]
  },
  {
   "cell_type": "code",
   "execution_count": 17,
   "id": "a2138fed-7477-4d18-9ceb-c4e81b39e209",
   "metadata": {},
   "outputs": [],
   "source": [
    "# drop the features - \n",
    "\n",
    "drop_features = ['authors','link','date','year']\n",
    "\n",
    "news_df = news.drop(drop_features,axis=1)"
   ]
  },
  {
   "cell_type": "code",
   "execution_count": 18,
   "id": "2b914068-ea2b-4d2f-b2bf-eaa42d3855e8",
   "metadata": {},
   "outputs": [
    {
     "data": {
      "text/plain": [
       "(200853, 5)"
      ]
     },
     "execution_count": 18,
     "metadata": {},
     "output_type": "execute_result"
    },
    {
     "data": {
      "text/html": [
       "<div>\n",
       "<style scoped>\n",
       "    .dataframe tbody tr th:only-of-type {\n",
       "        vertical-align: middle;\n",
       "    }\n",
       "\n",
       "    .dataframe tbody tr th {\n",
       "        vertical-align: top;\n",
       "    }\n",
       "\n",
       "    .dataframe thead th {\n",
       "        text-align: right;\n",
       "    }\n",
       "</style>\n",
       "<table border=\"1\" class=\"dataframe\">\n",
       "  <thead>\n",
       "    <tr style=\"text-align: right;\">\n",
       "      <th></th>\n",
       "      <th>category</th>\n",
       "      <th>headline</th>\n",
       "      <th>short_description</th>\n",
       "      <th>num_words_head</th>\n",
       "      <th>num_words_summary</th>\n",
       "    </tr>\n",
       "  </thead>\n",
       "  <tbody>\n",
       "    <tr>\n",
       "      <th>0</th>\n",
       "      <td>CRIME</td>\n",
       "      <td>There Were 2 Mass Shootings In Texas Last Week...</td>\n",
       "      <td>She left her husband. He killed their children...</td>\n",
       "      <td>14</td>\n",
       "      <td>13</td>\n",
       "    </tr>\n",
       "    <tr>\n",
       "      <th>1</th>\n",
       "      <td>ENTERTAINMENT</td>\n",
       "      <td>Will Smith Joins Diplo And Nicky Jam For The 2...</td>\n",
       "      <td>Of course it has a song.</td>\n",
       "      <td>14</td>\n",
       "      <td>6</td>\n",
       "    </tr>\n",
       "    <tr>\n",
       "      <th>2</th>\n",
       "      <td>ENTERTAINMENT</td>\n",
       "      <td>Hugh Grant Marries For The First Time At Age 57</td>\n",
       "      <td>The actor and his longtime girlfriend Anna Ebe...</td>\n",
       "      <td>10</td>\n",
       "      <td>15</td>\n",
       "    </tr>\n",
       "    <tr>\n",
       "      <th>3</th>\n",
       "      <td>ENTERTAINMENT</td>\n",
       "      <td>Jim Carrey Blasts 'Castrato' Adam Schiff And D...</td>\n",
       "      <td>The actor gives Dems an ass-kicking for not fi...</td>\n",
       "      <td>11</td>\n",
       "      <td>14</td>\n",
       "    </tr>\n",
       "    <tr>\n",
       "      <th>4</th>\n",
       "      <td>ENTERTAINMENT</td>\n",
       "      <td>Julianna Margulies Uses Donald Trump Poop Bags...</td>\n",
       "      <td>The \"Dietland\" actress said using the bags is ...</td>\n",
       "      <td>13</td>\n",
       "      <td>13</td>\n",
       "    </tr>\n",
       "  </tbody>\n",
       "</table>\n",
       "</div>"
      ],
      "text/plain": [
       "        category                                           headline  \\\n",
       "0          CRIME  There Were 2 Mass Shootings In Texas Last Week...   \n",
       "1  ENTERTAINMENT  Will Smith Joins Diplo And Nicky Jam For The 2...   \n",
       "2  ENTERTAINMENT    Hugh Grant Marries For The First Time At Age 57   \n",
       "3  ENTERTAINMENT  Jim Carrey Blasts 'Castrato' Adam Schiff And D...   \n",
       "4  ENTERTAINMENT  Julianna Margulies Uses Donald Trump Poop Bags...   \n",
       "\n",
       "                                   short_description  num_words_head  \\\n",
       "0  She left her husband. He killed their children...              14   \n",
       "1                           Of course it has a song.              14   \n",
       "2  The actor and his longtime girlfriend Anna Ebe...              10   \n",
       "3  The actor gives Dems an ass-kicking for not fi...              11   \n",
       "4  The \"Dietland\" actress said using the bags is ...              13   \n",
       "\n",
       "   num_words_summary  \n",
       "0                 13  \n",
       "1                  6  \n",
       "2                 15  \n",
       "3                 14  \n",
       "4                 13  "
      ]
     },
     "execution_count": 18,
     "metadata": {},
     "output_type": "execute_result"
    }
   ],
   "source": [
    "# display head of new dataframe\n",
    "\n",
    "news_df.shape\n",
    "news_df.head()"
   ]
  },
  {
   "cell_type": "markdown",
   "id": "1b1197f9-2c54-4775-b01a-500eb8ec347c",
   "metadata": {},
   "source": [
    "#### _Remove Outliers from the dataset_"
   ]
  },
  {
   "cell_type": "markdown",
   "id": "8bf6e9b9-0740-48c2-a07e-cd90ddf9f48b",
   "metadata": {},
   "source": [
    "1. Headlines with word count more than 21 words - Based on the histograms plotted above, we can see in the headline column, we have very few headlines with words more than 21, so we are going to remove those headlines.\n",
    "\n",
    "2. News Short Descriptionwith word count more than 60 words - The histogram above shows the news short description with word count more than 60 words are very few and because of this, we are going to keep news short description with word count less than 61 words."
   ]
  },
  {
   "cell_type": "code",
   "execution_count": 19,
   "id": "908477d2-d8c9-4b2e-909a-21c6553fb2a4",
   "metadata": {},
   "outputs": [],
   "source": [
    "# remove headlines with more that 21 word count and short description with more than 60 words.\n",
    "\n",
    "news_df = news_df.loc[(news_df.loc[:,'num_words_head']<=21) & (news_df.loc[:,'num_words_summary']<=60)]"
   ]
  },
  {
   "cell_type": "code",
   "execution_count": 20,
   "id": "6b6752c9-67fc-46af-b636-fa61d9b59baf",
   "metadata": {},
   "outputs": [
    {
     "data": {
      "text/plain": [
       "(199470, 5)"
      ]
     },
     "execution_count": 20,
     "metadata": {},
     "output_type": "execute_result"
    },
    {
     "data": {
      "text/html": [
       "<div>\n",
       "<style scoped>\n",
       "    .dataframe tbody tr th:only-of-type {\n",
       "        vertical-align: middle;\n",
       "    }\n",
       "\n",
       "    .dataframe tbody tr th {\n",
       "        vertical-align: top;\n",
       "    }\n",
       "\n",
       "    .dataframe thead th {\n",
       "        text-align: right;\n",
       "    }\n",
       "</style>\n",
       "<table border=\"1\" class=\"dataframe\">\n",
       "  <thead>\n",
       "    <tr style=\"text-align: right;\">\n",
       "      <th></th>\n",
       "      <th>category</th>\n",
       "      <th>headline</th>\n",
       "      <th>short_description</th>\n",
       "      <th>num_words_head</th>\n",
       "      <th>num_words_summary</th>\n",
       "    </tr>\n",
       "  </thead>\n",
       "  <tbody>\n",
       "    <tr>\n",
       "      <th>0</th>\n",
       "      <td>CRIME</td>\n",
       "      <td>There Were 2 Mass Shootings In Texas Last Week...</td>\n",
       "      <td>She left her husband. He killed their children...</td>\n",
       "      <td>14</td>\n",
       "      <td>13</td>\n",
       "    </tr>\n",
       "    <tr>\n",
       "      <th>1</th>\n",
       "      <td>ENTERTAINMENT</td>\n",
       "      <td>Will Smith Joins Diplo And Nicky Jam For The 2...</td>\n",
       "      <td>Of course it has a song.</td>\n",
       "      <td>14</td>\n",
       "      <td>6</td>\n",
       "    </tr>\n",
       "    <tr>\n",
       "      <th>2</th>\n",
       "      <td>ENTERTAINMENT</td>\n",
       "      <td>Hugh Grant Marries For The First Time At Age 57</td>\n",
       "      <td>The actor and his longtime girlfriend Anna Ebe...</td>\n",
       "      <td>10</td>\n",
       "      <td>15</td>\n",
       "    </tr>\n",
       "    <tr>\n",
       "      <th>3</th>\n",
       "      <td>ENTERTAINMENT</td>\n",
       "      <td>Jim Carrey Blasts 'Castrato' Adam Schiff And D...</td>\n",
       "      <td>The actor gives Dems an ass-kicking for not fi...</td>\n",
       "      <td>11</td>\n",
       "      <td>14</td>\n",
       "    </tr>\n",
       "    <tr>\n",
       "      <th>4</th>\n",
       "      <td>ENTERTAINMENT</td>\n",
       "      <td>Julianna Margulies Uses Donald Trump Poop Bags...</td>\n",
       "      <td>The \"Dietland\" actress said using the bags is ...</td>\n",
       "      <td>13</td>\n",
       "      <td>13</td>\n",
       "    </tr>\n",
       "  </tbody>\n",
       "</table>\n",
       "</div>"
      ],
      "text/plain": [
       "        category                                           headline  \\\n",
       "0          CRIME  There Were 2 Mass Shootings In Texas Last Week...   \n",
       "1  ENTERTAINMENT  Will Smith Joins Diplo And Nicky Jam For The 2...   \n",
       "2  ENTERTAINMENT    Hugh Grant Marries For The First Time At Age 57   \n",
       "3  ENTERTAINMENT  Jim Carrey Blasts 'Castrato' Adam Schiff And D...   \n",
       "4  ENTERTAINMENT  Julianna Margulies Uses Donald Trump Poop Bags...   \n",
       "\n",
       "                                   short_description  num_words_head  \\\n",
       "0  She left her husband. He killed their children...              14   \n",
       "1                           Of course it has a song.              14   \n",
       "2  The actor and his longtime girlfriend Anna Ebe...              10   \n",
       "3  The actor gives Dems an ass-kicking for not fi...              11   \n",
       "4  The \"Dietland\" actress said using the bags is ...              13   \n",
       "\n",
       "   num_words_summary  \n",
       "0                 13  \n",
       "1                  6  \n",
       "2                 15  \n",
       "3                 14  \n",
       "4                 13  "
      ]
     },
     "execution_count": 20,
     "metadata": {},
     "output_type": "execute_result"
    }
   ],
   "source": [
    "# display shape and top records\n",
    "\n",
    "news_df.shape\n",
    "news_df.head()"
   ]
  },
  {
   "cell_type": "markdown",
   "id": "86a62a50-be05-405e-95d9-1490bc5c0969",
   "metadata": {},
   "source": [
    "#### _Display distribution of word counts in headlines and short description_"
   ]
  },
  {
   "cell_type": "code",
   "execution_count": 21,
   "id": "7d660e2e-b2d6-4952-8439-931ba7682ac9",
   "metadata": {},
   "outputs": [
    {
     "data": {
      "image/png": "[encoded data removed]",
      "text/plain": [
       "<Figure size 1296x504 with 1 Axes>"
      ]
     },
     "metadata": {},
     "output_type": "display_data"
    }
   ],
   "source": [
    "# Distribution of number of words in headline after removing outliers\n",
    "\n",
    "# set style of the figure and size\n",
    "\n",
    "sns.set_style('white')\n",
    "plt.figure(figsize=(18,7))\n",
    "\n",
    "# plot histogram chart for number of words in headlines\n",
    "sns.histplot(data=news_df, x='num_words_head', binwidth=0.8, bins=40)\n",
    "plt.xlabel('num words headline',fontdict = {\"fontsize\":14})\n",
    "plt.ylabel('Freq',fontdict = {\"fontsize\":14})\n",
    "plt.title('Distribution of number of words in headlines',fontdict = {\"fontsize\":20});"
   ]
  },
  {
   "cell_type": "code",
   "execution_count": 22,
   "id": "913599cc-c5bb-4519-97b1-6de331f07892",
   "metadata": {},
   "outputs": [
    {
     "data": {
      "image/png": "[encoded data removed]",
      "text/plain": [
       "<Figure size 1296x504 with 1 Axes>"
      ]
     },
     "metadata": {},
     "output_type": "display_data"
    }
   ],
   "source": [
    "# Distribution of number of words in short description after removing outliers\n",
    "\n",
    "# set style of the figure and size\n",
    "\n",
    "sns.set_style('white')\n",
    "plt.figure(figsize=(18,7))\n",
    "\n",
    "# plot histogram chart for number of words in headlines\n",
    "sns.histplot(data=news_df, x='num_words_summary', bins=40, kde=True)\n",
    "plt.xlabel('num words short description',fontdict = {\"fontsize\":14})\n",
    "plt.ylabel('Freq',fontdict = {\"fontsize\":14})\n",
    "plt.title('Distribution of number of words in short description',fontdict = {\"fontsize\":20});"
   ]
  },
  {
   "cell_type": "markdown",
   "id": "238b9cd0-aee4-40e6-a6bb-651da06b4686",
   "metadata": {},
   "source": [
    "#### _Drop num_words_summary and num_words_head columns from the data set_"
   ]
  },
  {
   "cell_type": "code",
   "execution_count": 23,
   "id": "e02ad551-6797-4560-bd43-31e13c165670",
   "metadata": {},
   "outputs": [],
   "source": [
    "# drop two columns\n",
    "\n",
    "news_df = news_df.drop(['num_words_summary','num_words_head'], axis=1)"
   ]
  },
  {
   "cell_type": "code",
   "execution_count": 24,
   "id": "052dca77-c4ec-4dd0-979a-d2f06fa69cfc",
   "metadata": {},
   "outputs": [
    {
     "data": {
      "text/html": [
       "<div>\n",
       "<style scoped>\n",
       "    .dataframe tbody tr th:only-of-type {\n",
       "        vertical-align: middle;\n",
       "    }\n",
       "\n",
       "    .dataframe tbody tr th {\n",
       "        vertical-align: top;\n",
       "    }\n",
       "\n",
       "    .dataframe thead th {\n",
       "        text-align: right;\n",
       "    }\n",
       "</style>\n",
       "<table border=\"1\" class=\"dataframe\">\n",
       "  <thead>\n",
       "    <tr style=\"text-align: right;\">\n",
       "      <th></th>\n",
       "      <th>category</th>\n",
       "      <th>headline</th>\n",
       "      <th>short_description</th>\n",
       "    </tr>\n",
       "  </thead>\n",
       "  <tbody>\n",
       "    <tr>\n",
       "      <th>0</th>\n",
       "      <td>CRIME</td>\n",
       "      <td>There Were 2 Mass Shootings In Texas Last Week...</td>\n",
       "      <td>She left her husband. He killed their children...</td>\n",
       "    </tr>\n",
       "    <tr>\n",
       "      <th>1</th>\n",
       "      <td>ENTERTAINMENT</td>\n",
       "      <td>Will Smith Joins Diplo And Nicky Jam For The 2...</td>\n",
       "      <td>Of course it has a song.</td>\n",
       "    </tr>\n",
       "    <tr>\n",
       "      <th>2</th>\n",
       "      <td>ENTERTAINMENT</td>\n",
       "      <td>Hugh Grant Marries For The First Time At Age 57</td>\n",
       "      <td>The actor and his longtime girlfriend Anna Ebe...</td>\n",
       "    </tr>\n",
       "    <tr>\n",
       "      <th>3</th>\n",
       "      <td>ENTERTAINMENT</td>\n",
       "      <td>Jim Carrey Blasts 'Castrato' Adam Schiff And D...</td>\n",
       "      <td>The actor gives Dems an ass-kicking for not fi...</td>\n",
       "    </tr>\n",
       "    <tr>\n",
       "      <th>4</th>\n",
       "      <td>ENTERTAINMENT</td>\n",
       "      <td>Julianna Margulies Uses Donald Trump Poop Bags...</td>\n",
       "      <td>The \"Dietland\" actress said using the bags is ...</td>\n",
       "    </tr>\n",
       "  </tbody>\n",
       "</table>\n",
       "</div>"
      ],
      "text/plain": [
       "        category                                           headline  \\\n",
       "0          CRIME  There Were 2 Mass Shootings In Texas Last Week...   \n",
       "1  ENTERTAINMENT  Will Smith Joins Diplo And Nicky Jam For The 2...   \n",
       "2  ENTERTAINMENT    Hugh Grant Marries For The First Time At Age 57   \n",
       "3  ENTERTAINMENT  Jim Carrey Blasts 'Castrato' Adam Schiff And D...   \n",
       "4  ENTERTAINMENT  Julianna Margulies Uses Donald Trump Poop Bags...   \n",
       "\n",
       "                                   short_description  \n",
       "0  She left her husband. He killed their children...  \n",
       "1                           Of course it has a song.  \n",
       "2  The actor and his longtime girlfriend Anna Ebe...  \n",
       "3  The actor gives Dems an ass-kicking for not fi...  \n",
       "4  The \"Dietland\" actress said using the bags is ...  "
      ]
     },
     "execution_count": 24,
     "metadata": {},
     "output_type": "execute_result"
    }
   ],
   "source": [
    "# display head of dataframe\n",
    "\n",
    "news_df.head()"
   ]
  },
  {
   "cell_type": "markdown",
   "id": "a24d1454-7992-4c3c-b926-19e8d78b57c8",
   "metadata": {},
   "source": [
    "#### _check if any features have missing info or blank/null_"
   ]
  },
  {
   "cell_type": "code",
   "execution_count": 25,
   "id": "73b404d0-a206-4768-bdff-72155d44ce66",
   "metadata": {},
   "outputs": [
    {
     "data": {
      "text/plain": [
       "6"
      ]
     },
     "execution_count": 25,
     "metadata": {},
     "output_type": "execute_result"
    },
    {
     "data": {
      "text/plain": [
       "19692"
      ]
     },
     "execution_count": 25,
     "metadata": {},
     "output_type": "execute_result"
    }
   ],
   "source": [
    "# display the balnk strings in headline and short description column\n",
    "\n",
    "len(news_df[news_df['headline']==\"\"])\n",
    "\n",
    "len(news_df[news_df['short_description']==\"\"])"
   ]
  },
  {
   "cell_type": "code",
   "execution_count": 26,
   "id": "167025ab-0ed9-404c-8314-c16aacd20a2a",
   "metadata": {},
   "outputs": [
    {
     "data": {
      "text/plain": [
       "<AxesSubplot:>"
      ]
     },
     "execution_count": 26,
     "metadata": {},
     "output_type": "execute_result"
    },
    {
     "data": {
      "image/png": "[encoded data removed]",
      "text/plain": [
       "<Figure size 1728x720 with 3 Axes>"
      ]
     },
     "metadata": {},
     "output_type": "display_data"
    }
   ],
   "source": [
    "# display bars for each features with non-null values\n",
    "\n",
    "\n",
    "msno.bar(news_df, color ='b')"
   ]
  },
  {
   "cell_type": "markdown",
   "id": "a1db2aa5-d342-432b-ac2e-a919872965ae",
   "metadata": {},
   "source": [
    "Based on above bar charts, it shows that we do not have any missing values or blanks in the features."
   ]
  },
  {
   "cell_type": "markdown",
   "id": "071165ad-5c09-4788-884f-340c6ff8447a",
   "metadata": {},
   "source": [
    "#### _Remove duplicates from the data set_"
   ]
  },
  {
   "cell_type": "code",
   "execution_count": 27,
   "id": "854b371d-7b77-4e6b-9971-389c120e9240",
   "metadata": {},
   "outputs": [],
   "source": [
    "# check if any headlines are duplicates\n",
    "\n",
    "dup_headlines = news_df.duplicated('headline', keep=False)"
   ]
  },
  {
   "cell_type": "code",
   "execution_count": 28,
   "id": "42e2352d-7ec9-4795-b054-d47dd4d4dd1f",
   "metadata": {},
   "outputs": [
    {
     "data": {
      "text/plain": [
       "2118"
      ]
     },
     "execution_count": 28,
     "metadata": {},
     "output_type": "execute_result"
    }
   ],
   "source": [
    "# display count of duplicate headlines \n",
    "\n",
    "news_df[dup_headlines].shape[0]"
   ]
  },
  {
   "cell_type": "code",
   "execution_count": 29,
   "id": "c6e02941-9ce8-42d6-88cf-ee5b15deb660",
   "metadata": {},
   "outputs": [],
   "source": [
    "# check if any headlines are duplicates\n",
    "\n",
    "dup_summary = news_df.duplicated('short_description', keep=False)"
   ]
  },
  {
   "cell_type": "code",
   "execution_count": 30,
   "id": "c1a3ca1e-0cc1-4796-b7c9-3181bde60cdf",
   "metadata": {},
   "outputs": [
    {
     "data": {
      "text/plain": [
       "23391"
      ]
     },
     "execution_count": 30,
     "metadata": {},
     "output_type": "execute_result"
    }
   ],
   "source": [
    "# display count of duplicate headlines \n",
    "\n",
    "news_df[dup_summary].shape[0]"
   ]
  },
  {
   "cell_type": "markdown",
   "id": "9d2687c8-650c-47d1-93e2-3abf85702012",
   "metadata": {},
   "source": [
    "#### _Remove duplicate headlines from the data set_"
   ]
  },
  {
   "cell_type": "code",
   "execution_count": 31,
   "id": "a8b342f8-1cdf-41ad-b15a-d374bf727097",
   "metadata": {},
   "outputs": [
    {
     "name": "stderr",
     "output_type": "stream",
     "text": [
      "<ipython-input-31-ba8f806c2f23>:5: UserWarning: Boolean Series key will be reindexed to match DataFrame index.\n",
      "  news_df = news_df[~dup_summary]\n"
     ]
    }
   ],
   "source": [
    "# remove duplicate headlines and short description\n",
    "\n",
    "news_df = news_df[~dup_headlines]\n",
    "\n",
    "news_df = news_df[~dup_summary]"
   ]
  },
  {
   "cell_type": "markdown",
   "id": "08b3c449-d1d2-4684-bd08-572841900e7a",
   "metadata": {},
   "source": [
    "#### _Create new Column by joining headline and short description columns_"
   ]
  },
  {
   "cell_type": "code",
   "execution_count": 32,
   "id": "5c426fd6-dfc8-46af-8a92-4f8097811bba",
   "metadata": {},
   "outputs": [],
   "source": [
    "news_df['news_text'] = news_df['headline'] + \" \" + news_df['short_description']"
   ]
  },
  {
   "cell_type": "code",
   "execution_count": 33,
   "id": "5eac6cb4-2342-4ac9-bc9a-397cc9e3efa8",
   "metadata": {},
   "outputs": [
    {
     "data": {
      "text/plain": [
       "(174713, 4)"
      ]
     },
     "execution_count": 33,
     "metadata": {},
     "output_type": "execute_result"
    },
    {
     "data": {
      "text/html": [
       "<div>\n",
       "<style scoped>\n",
       "    .dataframe tbody tr th:only-of-type {\n",
       "        vertical-align: middle;\n",
       "    }\n",
       "\n",
       "    .dataframe tbody tr th {\n",
       "        vertical-align: top;\n",
       "    }\n",
       "\n",
       "    .dataframe thead th {\n",
       "        text-align: right;\n",
       "    }\n",
       "</style>\n",
       "<table border=\"1\" class=\"dataframe\">\n",
       "  <thead>\n",
       "    <tr style=\"text-align: right;\">\n",
       "      <th></th>\n",
       "      <th>category</th>\n",
       "      <th>headline</th>\n",
       "      <th>short_description</th>\n",
       "      <th>news_text</th>\n",
       "    </tr>\n",
       "  </thead>\n",
       "  <tbody>\n",
       "    <tr>\n",
       "      <th>0</th>\n",
       "      <td>CRIME</td>\n",
       "      <td>There Were 2 Mass Shootings In Texas Last Week...</td>\n",
       "      <td>She left her husband. He killed their children...</td>\n",
       "      <td>There Were 2 Mass Shootings In Texas Last Week...</td>\n",
       "    </tr>\n",
       "    <tr>\n",
       "      <th>1</th>\n",
       "      <td>ENTERTAINMENT</td>\n",
       "      <td>Will Smith Joins Diplo And Nicky Jam For The 2...</td>\n",
       "      <td>Of course it has a song.</td>\n",
       "      <td>Will Smith Joins Diplo And Nicky Jam For The 2...</td>\n",
       "    </tr>\n",
       "    <tr>\n",
       "      <th>2</th>\n",
       "      <td>ENTERTAINMENT</td>\n",
       "      <td>Hugh Grant Marries For The First Time At Age 57</td>\n",
       "      <td>The actor and his longtime girlfriend Anna Ebe...</td>\n",
       "      <td>Hugh Grant Marries For The First Time At Age 5...</td>\n",
       "    </tr>\n",
       "    <tr>\n",
       "      <th>3</th>\n",
       "      <td>ENTERTAINMENT</td>\n",
       "      <td>Jim Carrey Blasts 'Castrato' Adam Schiff And D...</td>\n",
       "      <td>The actor gives Dems an ass-kicking for not fi...</td>\n",
       "      <td>Jim Carrey Blasts 'Castrato' Adam Schiff And D...</td>\n",
       "    </tr>\n",
       "    <tr>\n",
       "      <th>4</th>\n",
       "      <td>ENTERTAINMENT</td>\n",
       "      <td>Julianna Margulies Uses Donald Trump Poop Bags...</td>\n",
       "      <td>The \"Dietland\" actress said using the bags is ...</td>\n",
       "      <td>Julianna Margulies Uses Donald Trump Poop Bags...</td>\n",
       "    </tr>\n",
       "  </tbody>\n",
       "</table>\n",
       "</div>"
      ],
      "text/plain": [
       "        category                                           headline  \\\n",
       "0          CRIME  There Were 2 Mass Shootings In Texas Last Week...   \n",
       "1  ENTERTAINMENT  Will Smith Joins Diplo And Nicky Jam For The 2...   \n",
       "2  ENTERTAINMENT    Hugh Grant Marries For The First Time At Age 57   \n",
       "3  ENTERTAINMENT  Jim Carrey Blasts 'Castrato' Adam Schiff And D...   \n",
       "4  ENTERTAINMENT  Julianna Margulies Uses Donald Trump Poop Bags...   \n",
       "\n",
       "                                   short_description  \\\n",
       "0  She left her husband. He killed their children...   \n",
       "1                           Of course it has a song.   \n",
       "2  The actor and his longtime girlfriend Anna Ebe...   \n",
       "3  The actor gives Dems an ass-kicking for not fi...   \n",
       "4  The \"Dietland\" actress said using the bags is ...   \n",
       "\n",
       "                                           news_text  \n",
       "0  There Were 2 Mass Shootings In Texas Last Week...  \n",
       "1  Will Smith Joins Diplo And Nicky Jam For The 2...  \n",
       "2  Hugh Grant Marries For The First Time At Age 5...  \n",
       "3  Jim Carrey Blasts 'Castrato' Adam Schiff And D...  \n",
       "4  Julianna Margulies Uses Donald Trump Poop Bags...  "
      ]
     },
     "execution_count": 33,
     "metadata": {},
     "output_type": "execute_result"
    }
   ],
   "source": [
    "# displaye shape and head of \n",
    "\n",
    "news_df.shape\n",
    "news_df.head()"
   ]
  },
  {
   "cell_type": "markdown",
   "id": "75ee7388-2edc-460b-b348-4bd30ac91db0",
   "metadata": {},
   "source": [
    "#### _Balance the Categories_"
   ]
  },
  {
   "cell_type": "code",
   "execution_count": 37,
   "id": "830168e1-ff05-49ce-87a6-409ccc9aabac",
   "metadata": {},
   "outputs": [
    {
     "data": {
      "text/html": [
       "<div>\n",
       "<style scoped>\n",
       "    .dataframe tbody tr th:only-of-type {\n",
       "        vertical-align: middle;\n",
       "    }\n",
       "\n",
       "    .dataframe tbody tr th {\n",
       "        vertical-align: top;\n",
       "    }\n",
       "\n",
       "    .dataframe thead th {\n",
       "        text-align: right;\n",
       "    }\n",
       "</style>\n",
       "<table border=\"1\" class=\"dataframe\">\n",
       "  <thead>\n",
       "    <tr style=\"text-align: right;\">\n",
       "      <th></th>\n",
       "      <th>index</th>\n",
       "      <th>category</th>\n",
       "    </tr>\n",
       "  </thead>\n",
       "  <tbody>\n",
       "    <tr>\n",
       "      <th>0</th>\n",
       "      <td>POLITICS</td>\n",
       "      <td>28759</td>\n",
       "    </tr>\n",
       "    <tr>\n",
       "      <th>1</th>\n",
       "      <td>WELLNESS</td>\n",
       "      <td>17284</td>\n",
       "    </tr>\n",
       "    <tr>\n",
       "      <th>2</th>\n",
       "      <td>ENTERTAINMENT</td>\n",
       "      <td>13077</td>\n",
       "    </tr>\n",
       "    <tr>\n",
       "      <th>3</th>\n",
       "      <td>TRAVEL</td>\n",
       "      <td>9207</td>\n",
       "    </tr>\n",
       "    <tr>\n",
       "      <th>4</th>\n",
       "      <td>PARENTING</td>\n",
       "      <td>8495</td>\n",
       "    </tr>\n",
       "    <tr>\n",
       "      <th>5</th>\n",
       "      <td>STYLE &amp; BEAUTY</td>\n",
       "      <td>8305</td>\n",
       "    </tr>\n",
       "    <tr>\n",
       "      <th>6</th>\n",
       "      <td>FOOD &amp; DRINK</td>\n",
       "      <td>6162</td>\n",
       "    </tr>\n",
       "    <tr>\n",
       "      <th>7</th>\n",
       "      <td>QUEER VOICES</td>\n",
       "      <td>5289</td>\n",
       "    </tr>\n",
       "    <tr>\n",
       "      <th>8</th>\n",
       "      <td>HEALTHY LIVING</td>\n",
       "      <td>5042</td>\n",
       "    </tr>\n",
       "    <tr>\n",
       "      <th>9</th>\n",
       "      <td>BUSINESS</td>\n",
       "      <td>4990</td>\n",
       "    </tr>\n",
       "    <tr>\n",
       "      <th>10</th>\n",
       "      <td>COMEDY</td>\n",
       "      <td>4271</td>\n",
       "    </tr>\n",
       "    <tr>\n",
       "      <th>11</th>\n",
       "      <td>SPORTS</td>\n",
       "      <td>4129</td>\n",
       "    </tr>\n",
       "    <tr>\n",
       "      <th>12</th>\n",
       "      <td>BLACK VOICES</td>\n",
       "      <td>4019</td>\n",
       "    </tr>\n",
       "    <tr>\n",
       "      <th>13</th>\n",
       "      <td>HOME &amp; LIVING</td>\n",
       "      <td>3893</td>\n",
       "    </tr>\n",
       "    <tr>\n",
       "      <th>14</th>\n",
       "      <td>THE WORLDPOST</td>\n",
       "      <td>3648</td>\n",
       "    </tr>\n",
       "    <tr>\n",
       "      <th>15</th>\n",
       "      <td>WEDDINGS</td>\n",
       "      <td>3565</td>\n",
       "    </tr>\n",
       "    <tr>\n",
       "      <th>16</th>\n",
       "      <td>DIVORCE</td>\n",
       "      <td>3374</td>\n",
       "    </tr>\n",
       "    <tr>\n",
       "      <th>17</th>\n",
       "      <td>PARENTS</td>\n",
       "      <td>3365</td>\n",
       "    </tr>\n",
       "    <tr>\n",
       "      <th>18</th>\n",
       "      <td>IMPACT</td>\n",
       "      <td>2976</td>\n",
       "    </tr>\n",
       "    <tr>\n",
       "      <th>19</th>\n",
       "      <td>WOMEN</td>\n",
       "      <td>2934</td>\n",
       "    </tr>\n",
       "    <tr>\n",
       "      <th>20</th>\n",
       "      <td>CRIME</td>\n",
       "      <td>2657</td>\n",
       "    </tr>\n",
       "    <tr>\n",
       "      <th>21</th>\n",
       "      <td>MEDIA</td>\n",
       "      <td>2244</td>\n",
       "    </tr>\n",
       "    <tr>\n",
       "      <th>22</th>\n",
       "      <td>WORLD NEWS</td>\n",
       "      <td>2159</td>\n",
       "    </tr>\n",
       "    <tr>\n",
       "      <th>23</th>\n",
       "      <td>WEIRD NEWS</td>\n",
       "      <td>2132</td>\n",
       "    </tr>\n",
       "    <tr>\n",
       "      <th>24</th>\n",
       "      <td>GREEN</td>\n",
       "      <td>2011</td>\n",
       "    </tr>\n",
       "    <tr>\n",
       "      <th>25</th>\n",
       "      <td>TECH</td>\n",
       "      <td>1956</td>\n",
       "    </tr>\n",
       "    <tr>\n",
       "      <th>26</th>\n",
       "      <td>TASTE</td>\n",
       "      <td>1876</td>\n",
       "    </tr>\n",
       "    <tr>\n",
       "      <th>27</th>\n",
       "      <td>RELIGION</td>\n",
       "      <td>1749</td>\n",
       "    </tr>\n",
       "    <tr>\n",
       "      <th>28</th>\n",
       "      <td>SCIENCE</td>\n",
       "      <td>1744</td>\n",
       "    </tr>\n",
       "    <tr>\n",
       "      <th>29</th>\n",
       "      <td>MONEY</td>\n",
       "      <td>1698</td>\n",
       "    </tr>\n",
       "    <tr>\n",
       "      <th>30</th>\n",
       "      <td>STYLE</td>\n",
       "      <td>1465</td>\n",
       "    </tr>\n",
       "    <tr>\n",
       "      <th>31</th>\n",
       "      <td>ARTS &amp; CULTURE</td>\n",
       "      <td>1315</td>\n",
       "    </tr>\n",
       "    <tr>\n",
       "      <th>32</th>\n",
       "      <td>ENVIRONMENT</td>\n",
       "      <td>1237</td>\n",
       "    </tr>\n",
       "    <tr>\n",
       "      <th>33</th>\n",
       "      <td>WORLDPOST</td>\n",
       "      <td>1144</td>\n",
       "    </tr>\n",
       "    <tr>\n",
       "      <th>34</th>\n",
       "      <td>GOOD NEWS</td>\n",
       "      <td>1016</td>\n",
       "    </tr>\n",
       "    <tr>\n",
       "      <th>35</th>\n",
       "      <td>LATINO VOICES</td>\n",
       "      <td>1010</td>\n",
       "    </tr>\n",
       "    <tr>\n",
       "      <th>36</th>\n",
       "      <td>CULTURE &amp; ARTS</td>\n",
       "      <td>972</td>\n",
       "    </tr>\n",
       "    <tr>\n",
       "      <th>37</th>\n",
       "      <td>FIFTY</td>\n",
       "      <td>912</td>\n",
       "    </tr>\n",
       "    <tr>\n",
       "      <th>38</th>\n",
       "      <td>COLLEGE</td>\n",
       "      <td>904</td>\n",
       "    </tr>\n",
       "    <tr>\n",
       "      <th>39</th>\n",
       "      <td>EDUCATION</td>\n",
       "      <td>878</td>\n",
       "    </tr>\n",
       "    <tr>\n",
       "      <th>40</th>\n",
       "      <td>ARTS</td>\n",
       "      <td>850</td>\n",
       "    </tr>\n",
       "  </tbody>\n",
       "</table>\n",
       "</div>"
      ],
      "text/plain": [
       "             index  category\n",
       "0         POLITICS     28759\n",
       "1         WELLNESS     17284\n",
       "2    ENTERTAINMENT     13077\n",
       "3           TRAVEL      9207\n",
       "4        PARENTING      8495\n",
       "5   STYLE & BEAUTY      8305\n",
       "6     FOOD & DRINK      6162\n",
       "7     QUEER VOICES      5289\n",
       "8   HEALTHY LIVING      5042\n",
       "9         BUSINESS      4990\n",
       "10          COMEDY      4271\n",
       "11          SPORTS      4129\n",
       "12    BLACK VOICES      4019\n",
       "13   HOME & LIVING      3893\n",
       "14   THE WORLDPOST      3648\n",
       "15        WEDDINGS      3565\n",
       "16         DIVORCE      3374\n",
       "17         PARENTS      3365\n",
       "18          IMPACT      2976\n",
       "19           WOMEN      2934\n",
       "20           CRIME      2657\n",
       "21           MEDIA      2244\n",
       "22      WORLD NEWS      2159\n",
       "23      WEIRD NEWS      2132\n",
       "24           GREEN      2011\n",
       "25            TECH      1956\n",
       "26           TASTE      1876\n",
       "27        RELIGION      1749\n",
       "28         SCIENCE      1744\n",
       "29           MONEY      1698\n",
       "30           STYLE      1465\n",
       "31  ARTS & CULTURE      1315\n",
       "32     ENVIRONMENT      1237\n",
       "33       WORLDPOST      1144\n",
       "34       GOOD NEWS      1016\n",
       "35   LATINO VOICES      1010\n",
       "36  CULTURE & ARTS       972\n",
       "37           FIFTY       912\n",
       "38         COLLEGE       904\n",
       "39       EDUCATION       878\n",
       "40            ARTS       850"
      ]
     },
     "execution_count": 37,
     "metadata": {},
     "output_type": "execute_result"
    }
   ],
   "source": [
    "# check count of news in each category \n",
    "\n",
    "news_df.category.value_counts().reset_index()"
   ]
  },
  {
   "cell_type": "markdown",
   "id": "025b5d4a-17a7-429b-8d03-a2d1a8b2cb3c",
   "metadata": {},
   "source": [
    "Based on above distribution, there are imbalanced categories acrross the data set and few categories are redundant and can be clubbed into another category.\n",
    "For example categories - QUEER VOICES, BLACK VOICES, LATINO VOICES clubbed into one category called 'GROUP VOICES"
   ]
  },
  {
   "cell_type": "markdown",
   "id": "a08246e7-0e83-4e28-aa40-12ca1118c503",
   "metadata": {},
   "source": [
    "New feature is created from category column called merged_category and club all the relavant categories and their corresponding news and headlines."
   ]
  },
  {
   "cell_type": "code",
   "execution_count": 38,
   "id": "d9c3f643-8c75-41d8-a7cb-efe1b4caebc7",
   "metadata": {},
   "outputs": [],
   "source": [
    "# save all the categories in variable\n",
    "\n",
    "categories = news_df.category.value_counts().index\n",
    "\n",
    "#  created function to group categories into new column\n",
    "\n",
    "def group_category(category_list, name):\n",
    "    for cat in categories:\n",
    "        if cat in category_list:\n",
    "            news_df.loc[news_df['category']==cat,'merged_category']= name\n"
   ]
  },
  {
   "cell_type": "code",
   "execution_count": 39,
   "id": "2cc9de1b-453e-4369-86ec-0066bf6043d9",
   "metadata": {},
   "outputs": [],
   "source": [
    "# create new column by running above function\n",
    "\n",
    "group_category( category_list= ['WELLNESS', 'HEALTHY LIVING','HOME & LIVING','STYLE & BEAUTY' ,'STYLE'] , name =  'LIFESTYLE AND WELLNESS')\n",
    "\n",
    "group_category( category_list= [ 'PARENTING', 'PARENTS' ,'EDUCATION' ,'COLLEGE'] , name =  'PARENTING AND EDUCATION')\n",
    "\n",
    "group_category( category_list= ['SPORTS','ENTERTAINMENT' , 'COMEDY','WEIRD NEWS','ARTS'] , name =  'SPORTS AND ENTERTAINMENT')\n",
    "\n",
    "group_category( category_list= ['TRAVEL', 'ARTS & CULTURE','CULTURE & ARTS','FOOD & DRINK', 'TASTE'] , name =  'TRAVEL-TOURISM & ART-CULTURE')\n",
    "\n",
    "group_category( category_list= ['WOMEN','QUEER VOICES', 'LATINO VOICES', 'BLACK VOICES'] , name =  'EMPOWERED VOICES')\n",
    "\n",
    "group_category( category_list= ['BUSINESS' ,  'MONEY'] , name =  'BUSINESS-MONEY')\n",
    "\n",
    "group_category( category_list= ['THE WORLDPOST' , 'WORLDPOST' , 'WORLD NEWS'] , name =  'WORLDNEWS')\n",
    "\n",
    "group_category( category_list= ['ENVIRONMENT' ,'GREEN'] , name =  'ENVIRONMENT')\n",
    "\n",
    "group_category( category_list= ['TECH', 'SCIENCE'] , name =  'SCIENCE AND TECH')\n",
    "\n",
    "group_category( category_list= ['FIFTY' , 'IMPACT' ,'GOOD NEWS','CRIME'] , name =  'GENERAL')\n",
    "\n",
    "group_category( category_list= ['WEDDINGS', 'DIVORCE',  'RELIGION','MEDIA'] , name =  'MISCELLANEOUS')"
   ]
  },
  {
   "cell_type": "code",
   "execution_count": 40,
   "id": "fe1415b2-82b8-4e3a-afd2-737970f7c1d8",
   "metadata": {},
   "outputs": [
    {
     "data": {
      "text/html": [
       "<div>\n",
       "<style scoped>\n",
       "    .dataframe tbody tr th:only-of-type {\n",
       "        vertical-align: middle;\n",
       "    }\n",
       "\n",
       "    .dataframe tbody tr th {\n",
       "        vertical-align: top;\n",
       "    }\n",
       "\n",
       "    .dataframe thead th {\n",
       "        text-align: right;\n",
       "    }\n",
       "</style>\n",
       "<table border=\"1\" class=\"dataframe\">\n",
       "  <thead>\n",
       "    <tr style=\"text-align: right;\">\n",
       "      <th></th>\n",
       "      <th>category</th>\n",
       "      <th>headline</th>\n",
       "      <th>short_description</th>\n",
       "      <th>news_text</th>\n",
       "      <th>merged_category</th>\n",
       "    </tr>\n",
       "  </thead>\n",
       "  <tbody>\n",
       "    <tr>\n",
       "      <th>0</th>\n",
       "      <td>CRIME</td>\n",
       "      <td>There Were 2 Mass Shootings In Texas Last Week...</td>\n",
       "      <td>She left her husband. He killed their children...</td>\n",
       "      <td>There Were 2 Mass Shootings In Texas Last Week...</td>\n",
       "      <td>GENERAL</td>\n",
       "    </tr>\n",
       "    <tr>\n",
       "      <th>1</th>\n",
       "      <td>ENTERTAINMENT</td>\n",
       "      <td>Will Smith Joins Diplo And Nicky Jam For The 2...</td>\n",
       "      <td>Of course it has a song.</td>\n",
       "      <td>Will Smith Joins Diplo And Nicky Jam For The 2...</td>\n",
       "      <td>SPORTS AND ENTERTAINMENT</td>\n",
       "    </tr>\n",
       "    <tr>\n",
       "      <th>2</th>\n",
       "      <td>ENTERTAINMENT</td>\n",
       "      <td>Hugh Grant Marries For The First Time At Age 57</td>\n",
       "      <td>The actor and his longtime girlfriend Anna Ebe...</td>\n",
       "      <td>Hugh Grant Marries For The First Time At Age 5...</td>\n",
       "      <td>SPORTS AND ENTERTAINMENT</td>\n",
       "    </tr>\n",
       "    <tr>\n",
       "      <th>3</th>\n",
       "      <td>ENTERTAINMENT</td>\n",
       "      <td>Jim Carrey Blasts 'Castrato' Adam Schiff And D...</td>\n",
       "      <td>The actor gives Dems an ass-kicking for not fi...</td>\n",
       "      <td>Jim Carrey Blasts 'Castrato' Adam Schiff And D...</td>\n",
       "      <td>SPORTS AND ENTERTAINMENT</td>\n",
       "    </tr>\n",
       "    <tr>\n",
       "      <th>4</th>\n",
       "      <td>ENTERTAINMENT</td>\n",
       "      <td>Julianna Margulies Uses Donald Trump Poop Bags...</td>\n",
       "      <td>The \"Dietland\" actress said using the bags is ...</td>\n",
       "      <td>Julianna Margulies Uses Donald Trump Poop Bags...</td>\n",
       "      <td>SPORTS AND ENTERTAINMENT</td>\n",
       "    </tr>\n",
       "  </tbody>\n",
       "</table>\n",
       "</div>"
      ],
      "text/plain": [
       "        category                                           headline  \\\n",
       "0          CRIME  There Were 2 Mass Shootings In Texas Last Week...   \n",
       "1  ENTERTAINMENT  Will Smith Joins Diplo And Nicky Jam For The 2...   \n",
       "2  ENTERTAINMENT    Hugh Grant Marries For The First Time At Age 57   \n",
       "3  ENTERTAINMENT  Jim Carrey Blasts 'Castrato' Adam Schiff And D...   \n",
       "4  ENTERTAINMENT  Julianna Margulies Uses Donald Trump Poop Bags...   \n",
       "\n",
       "                                   short_description  \\\n",
       "0  She left her husband. He killed their children...   \n",
       "1                           Of course it has a song.   \n",
       "2  The actor and his longtime girlfriend Anna Ebe...   \n",
       "3  The actor gives Dems an ass-kicking for not fi...   \n",
       "4  The \"Dietland\" actress said using the bags is ...   \n",
       "\n",
       "                                           news_text           merged_category  \n",
       "0  There Were 2 Mass Shootings In Texas Last Week...                   GENERAL  \n",
       "1  Will Smith Joins Diplo And Nicky Jam For The 2...  SPORTS AND ENTERTAINMENT  \n",
       "2  Hugh Grant Marries For The First Time At Age 5...  SPORTS AND ENTERTAINMENT  \n",
       "3  Jim Carrey Blasts 'Castrato' Adam Schiff And D...  SPORTS AND ENTERTAINMENT  \n",
       "4  Julianna Margulies Uses Donald Trump Poop Bags...  SPORTS AND ENTERTAINMENT  "
      ]
     },
     "execution_count": 40,
     "metadata": {},
     "output_type": "execute_result"
    }
   ],
   "source": [
    "# display top records after creating new feature and grouping categories\n",
    "\n",
    "news_df.head()"
   ]
  },
  {
   "cell_type": "code",
   "execution_count": 41,
   "id": "ce088c9e-c604-4318-bc19-96c7c5c54511",
   "metadata": {},
   "outputs": [
    {
     "data": {
      "text/html": [
       "<div>\n",
       "<style scoped>\n",
       "    .dataframe tbody tr th:only-of-type {\n",
       "        vertical-align: middle;\n",
       "    }\n",
       "\n",
       "    .dataframe tbody tr th {\n",
       "        vertical-align: top;\n",
       "    }\n",
       "\n",
       "    .dataframe thead th {\n",
       "        text-align: right;\n",
       "    }\n",
       "</style>\n",
       "<table border=\"1\" class=\"dataframe\">\n",
       "  <thead>\n",
       "    <tr style=\"text-align: right;\">\n",
       "      <th></th>\n",
       "      <th>index</th>\n",
       "      <th>merged_category</th>\n",
       "    </tr>\n",
       "  </thead>\n",
       "  <tbody>\n",
       "    <tr>\n",
       "      <th>0</th>\n",
       "      <td>LIFESTYLE AND WELLNESS</td>\n",
       "      <td>35989</td>\n",
       "    </tr>\n",
       "    <tr>\n",
       "      <th>1</th>\n",
       "      <td>SPORTS AND ENTERTAINMENT</td>\n",
       "      <td>24459</td>\n",
       "    </tr>\n",
       "    <tr>\n",
       "      <th>2</th>\n",
       "      <td>TRAVEL-TOURISM &amp; ART-CULTURE</td>\n",
       "      <td>19532</td>\n",
       "    </tr>\n",
       "    <tr>\n",
       "      <th>3</th>\n",
       "      <td>PARENTING AND EDUCATION</td>\n",
       "      <td>13642</td>\n",
       "    </tr>\n",
       "    <tr>\n",
       "      <th>4</th>\n",
       "      <td>EMPOWERED VOICES</td>\n",
       "      <td>13252</td>\n",
       "    </tr>\n",
       "    <tr>\n",
       "      <th>5</th>\n",
       "      <td>MISCELLANEOUS</td>\n",
       "      <td>10932</td>\n",
       "    </tr>\n",
       "    <tr>\n",
       "      <th>6</th>\n",
       "      <td>GENERAL</td>\n",
       "      <td>7561</td>\n",
       "    </tr>\n",
       "    <tr>\n",
       "      <th>7</th>\n",
       "      <td>WORLDNEWS</td>\n",
       "      <td>6951</td>\n",
       "    </tr>\n",
       "    <tr>\n",
       "      <th>8</th>\n",
       "      <td>BUSINESS-MONEY</td>\n",
       "      <td>6688</td>\n",
       "    </tr>\n",
       "    <tr>\n",
       "      <th>9</th>\n",
       "      <td>SCIENCE AND TECH</td>\n",
       "      <td>3700</td>\n",
       "    </tr>\n",
       "    <tr>\n",
       "      <th>10</th>\n",
       "      <td>ENVIRONMENT</td>\n",
       "      <td>3248</td>\n",
       "    </tr>\n",
       "  </tbody>\n",
       "</table>\n",
       "</div>"
      ],
      "text/plain": [
       "                           index  merged_category\n",
       "0         LIFESTYLE AND WELLNESS            35989\n",
       "1       SPORTS AND ENTERTAINMENT            24459\n",
       "2   TRAVEL-TOURISM & ART-CULTURE            19532\n",
       "3        PARENTING AND EDUCATION            13642\n",
       "4               EMPOWERED VOICES            13252\n",
       "5                  MISCELLANEOUS            10932\n",
       "6                        GENERAL             7561\n",
       "7                      WORLDNEWS             6951\n",
       "8                 BUSINESS-MONEY             6688\n",
       "9               SCIENCE AND TECH             3700\n",
       "10                   ENVIRONMENT             3248"
      ]
     },
     "execution_count": 41,
     "metadata": {},
     "output_type": "execute_result"
    }
   ],
   "source": [
    "# check count of news in each category \n",
    "\n",
    "news_df.merged_category.value_counts().reset_index()"
   ]
  },
  {
   "cell_type": "code",
   "execution_count": 42,
   "id": "6ce5553f-5168-4c88-ac38-7cca929da719",
   "metadata": {},
   "outputs": [
    {
     "data": {
      "image/png": "[encoded data removed]",
      "text/plain": [
       "<Figure size 1296x504 with 1 Axes>"
      ]
     },
     "metadata": {},
     "output_type": "display_data"
    }
   ],
   "source": [
    "# Display the merged categories for news counts\n",
    "\n",
    "# set style of the figure and size\n",
    "\n",
    "sns.set_style('white')\n",
    "plt.figure(figsize=(18,7))\n",
    "\n",
    "# plot bar chart for categories and news count\n",
    "sns.barplot(data=news_df, x=news_df.merged_category.value_counts().index,y=news_df.merged_category.value_counts())\n",
    "plt.xlabel('Categories',fontdict = {\"fontsize\":14})\n",
    "plt.ylabel('Counts',fontdict = {\"fontsize\":14})\n",
    "plt.title('Number of News Per Category',fontdict = {\"fontsize\":20})\n",
    "plt.xticks(rotation=90);"
   ]
  },
  {
   "cell_type": "markdown",
   "id": "56ed68c1-725b-4bc6-ba57-ed3a6fcb87e9",
   "metadata": {},
   "source": [
    "Based on above bar chart we still have imbalnce of categories, in order balance categories, we are going to keep 3200 records from each category."
   ]
  },
  {
   "cell_type": "code",
   "execution_count": 44,
   "id": "08f70a93-3aa4-4490-873a-52cdb75d5f44",
   "metadata": {},
   "outputs": [],
   "source": [
    "# new df with same news headlines for each category\n",
    "\n",
    "final = news_df.groupby(['merged_category'], as_index=False).apply(lambda x: x.sample(3200)).reset_index(drop=True)"
   ]
  },
  {
   "cell_type": "code",
   "execution_count": 46,
   "id": "987a3ed0-7558-424b-a32a-97585b87e32a",
   "metadata": {},
   "outputs": [
    {
     "data": {
      "image/png": "[encoded data removed]",
      "text/plain": [
       "<Figure size 1296x504 with 1 Axes>"
      ]
     },
     "metadata": {},
     "output_type": "display_data"
    }
   ],
   "source": [
    "# Display the merged categories for news counts from new dataframe\n",
    "\n",
    "# set style of the figure and size\n",
    "\n",
    "sns.set_style('white')\n",
    "plt.figure(figsize=(18,7))\n",
    "\n",
    "# plot bar chart for categories and news count\n",
    "sns.barplot(data=final, x=final.merged_category.value_counts().index,y=final.merged_category.value_counts())\n",
    "plt.xlabel('Categories',fontdict = {\"fontsize\":14})\n",
    "plt.ylabel('Counts',fontdict = {\"fontsize\":14})\n",
    "plt.title('Number of News Per Category',fontdict = {\"fontsize\":20})\n",
    "plt.xticks(rotation=90);"
   ]
  },
  {
   "cell_type": "markdown",
   "id": "eed44c3e-9932-4865-aa00-989f4af16ad7",
   "metadata": {},
   "source": [
    "We have balanced calsses now and each category is having 3.2K news samples"
   ]
  },
  {
   "cell_type": "markdown",
   "id": "a791e983-bb63-4cab-b1ec-929d87d1ebff",
   "metadata": {},
   "source": [
    "#### _Text Cleaning_"
   ]
  },
  {
   "cell_type": "markdown",
   "id": "3a63588e-595e-4684-ab4c-f7b11e6f5d88",
   "metadata": {},
   "source": [
    "Using scpay to remove stop words and punctuations from the news_text"
   ]
  },
  {
   "cell_type": "code",
   "execution_count": 47,
   "id": "302cce85-0d84-45e5-833b-e90d3607e2f4",
   "metadata": {},
   "outputs": [],
   "source": [
    "# import sapcy and load english model\n",
    "\n",
    "import spacy\n",
    "\n",
    "nlp = spacy.load('en_core_web_lg')"
   ]
  },
  {
   "cell_type": "code",
   "execution_count": 60,
   "id": "12d68581-339d-4c9d-9534-123b73ffaf60",
   "metadata": {},
   "outputs": [],
   "source": [
    "# clean news_text column by removing punctuations and stop words\n",
    "\n",
    "final['news_text'] = final.news_text.apply(lambda x : ' '.join([tok.text for tok in nlp(x) if not tok.is_stop and not tok.is_punct]))"
   ]
  },
  {
   "cell_type": "code",
   "execution_count": 61,
   "id": "3ef793a4-0eea-4ed2-a5cf-bcd201f37a1b",
   "metadata": {},
   "outputs": [
    {
     "data": {
      "text/plain": [
       "(35200, 5)"
      ]
     },
     "execution_count": 61,
     "metadata": {},
     "output_type": "execute_result"
    },
    {
     "data": {
      "text/html": [
       "<div>\n",
       "<style scoped>\n",
       "    .dataframe tbody tr th:only-of-type {\n",
       "        vertical-align: middle;\n",
       "    }\n",
       "\n",
       "    .dataframe tbody tr th {\n",
       "        vertical-align: top;\n",
       "    }\n",
       "\n",
       "    .dataframe thead th {\n",
       "        text-align: right;\n",
       "    }\n",
       "</style>\n",
       "<table border=\"1\" class=\"dataframe\">\n",
       "  <thead>\n",
       "    <tr style=\"text-align: right;\">\n",
       "      <th></th>\n",
       "      <th>category</th>\n",
       "      <th>headline</th>\n",
       "      <th>short_description</th>\n",
       "      <th>news_text</th>\n",
       "      <th>merged_category</th>\n",
       "    </tr>\n",
       "  </thead>\n",
       "  <tbody>\n",
       "    <tr>\n",
       "      <th>0</th>\n",
       "      <td>BUSINESS</td>\n",
       "      <td>BMW CEO Harald Krueger Collapses During Event ...</td>\n",
       "      <td>FRANKFURT, Germany (AP) — BMW CEO Harald Krueg...</td>\n",
       "      <td>BMW CEO Harald Krueger Collapses Event Frankfu...</td>\n",
       "      <td>BUSINESS-MONEY</td>\n",
       "    </tr>\n",
       "    <tr>\n",
       "      <th>1</th>\n",
       "      <td>BUSINESS</td>\n",
       "      <td>World's Biggest Green Energy Company Files For...</td>\n",
       "      <td>This is one of the largest bankruptcies involv...</td>\n",
       "      <td>World Biggest Green Energy Company Files Bankr...</td>\n",
       "      <td>BUSINESS-MONEY</td>\n",
       "    </tr>\n",
       "    <tr>\n",
       "      <th>2</th>\n",
       "      <td>BUSINESS</td>\n",
       "      <td>Donald Trump's Racism Actually Makes It Imposs...</td>\n",
       "      <td>Because math.</td>\n",
       "      <td>Donald Trump Racism Actually Makes Impossible ...</td>\n",
       "      <td>BUSINESS-MONEY</td>\n",
       "    </tr>\n",
       "    <tr>\n",
       "      <th>3</th>\n",
       "      <td>BUSINESS</td>\n",
       "      <td>America Needs More College Graduates In Order ...</td>\n",
       "      <td>When students arrive at community college, the...</td>\n",
       "      <td>America Needs College Graduates Order Improve ...</td>\n",
       "      <td>BUSINESS-MONEY</td>\n",
       "    </tr>\n",
       "    <tr>\n",
       "      <th>4</th>\n",
       "      <td>BUSINESS</td>\n",
       "      <td>Women in Business Q&amp;A: April Valusek, multi-un...</td>\n",
       "      <td>April Valusek, multi-unit franchisee of Waybac...</td>\n",
       "      <td>Women Business Q&amp;A April Valusek multi unit fr...</td>\n",
       "      <td>BUSINESS-MONEY</td>\n",
       "    </tr>\n",
       "  </tbody>\n",
       "</table>\n",
       "</div>"
      ],
      "text/plain": [
       "   category                                           headline  \\\n",
       "0  BUSINESS  BMW CEO Harald Krueger Collapses During Event ...   \n",
       "1  BUSINESS  World's Biggest Green Energy Company Files For...   \n",
       "2  BUSINESS  Donald Trump's Racism Actually Makes It Imposs...   \n",
       "3  BUSINESS  America Needs More College Graduates In Order ...   \n",
       "4  BUSINESS  Women in Business Q&A: April Valusek, multi-un...   \n",
       "\n",
       "                                   short_description  \\\n",
       "0  FRANKFURT, Germany (AP) — BMW CEO Harald Krueg...   \n",
       "1  This is one of the largest bankruptcies involv...   \n",
       "2                                      Because math.   \n",
       "3  When students arrive at community college, the...   \n",
       "4  April Valusek, multi-unit franchisee of Waybac...   \n",
       "\n",
       "                                           news_text merged_category  \n",
       "0  BMW CEO Harald Krueger Collapses Event Frankfu...  BUSINESS-MONEY  \n",
       "1  World Biggest Green Energy Company Files Bankr...  BUSINESS-MONEY  \n",
       "2  Donald Trump Racism Actually Makes Impossible ...  BUSINESS-MONEY  \n",
       "3  America Needs College Graduates Order Improve ...  BUSINESS-MONEY  \n",
       "4  Women Business Q&A April Valusek multi unit fr...  BUSINESS-MONEY  "
      ]
     },
     "execution_count": 61,
     "metadata": {},
     "output_type": "execute_result"
    }
   ],
   "source": [
    "# display head and shape\n",
    "\n",
    "final.shape\n",
    "final.head()"
   ]
  },
  {
   "cell_type": "markdown",
   "id": "2a1d6d38-b999-4a65-94f7-12cf05bd8e03",
   "metadata": {},
   "source": [
    "Next Steps - \n",
    "\n",
    "1. Text Preprocessing - use different methods such - TF-IDF, Bag-Of-Words, Word2Vec Embedding etc\n",
    "2. Split the data into train and validation\n",
    "3. Select the model\n",
    "4. Train the model\n",
    "5. Evaluate the model"
   ]
  },
  {
   "cell_type": "markdown",
   "id": "35e12416-3f80-49c2-9204-3f0051f30368",
   "metadata": {},
   "source": [
    "## END"
   ]
  }
 ],
 "metadata": {
  "kernelspec": {
   "display_name": "Python 3",
   "language": "python",
   "name": "python3"
  },
  "language_info": {
   "codemirror_mode": {
    "name": "ipython",
    "version": 3
   },
   "file_extension": ".py",
   "mimetype": "text/x-python",
   "name": "python",
   "nbconvert_exporter": "python",
   "pygments_lexer": "ipython3",
   "version": "3.8.2"
  }
 },
 "nbformat": 4,
 "nbformat_minor": 5
}
